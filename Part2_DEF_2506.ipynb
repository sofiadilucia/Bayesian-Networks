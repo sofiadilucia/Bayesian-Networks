{
 "cells": [
  {
   "cell_type": "code",
   "execution_count": 1,
   "id": "d5da09f9-2587-4484-aef2-82ee5b3a3f44",
   "metadata": {},
   "outputs": [],
   "source": [
    "library(\"bnstruct\") |> suppressPackageStartupMessages()\n",
    "#library(\"bnlearn\")\n",
    "library(\"qgraph\") |> suppressPackageStartupMessages()\n",
    "#library(\"Rgraphviz\")\n",
    "library(\"tidyverse\") |> suppressPackageStartupMessages()"
   ]
  },
  {
   "cell_type": "markdown",
   "id": "e68e150f-6549-4ea7-9783-487abc5597c2",
   "metadata": {},
   "source": [
    "# Part 2: bnlearn library\n",
    "Implement and test the K2 algorithm with the test data sets ([3]). Compare the results with that obtained with the bnstruct R library [4]"
   ]
  },
  {
   "cell_type": "markdown",
   "id": "e4b6a245-31a2-474f-bfec-4d2192ebe5b4",
   "metadata": {},
   "source": [
    "## Useful function to implement to avoid repetition"
   ]
  },
  {
   "cell_type": "code",
   "execution_count": 3,
   "id": "7757e94f-4f47-433e-bce1-72f81f37a080",
   "metadata": {},
   "outputs": [],
   "source": [
    "import_and_inspect <- function(BN_dataset) {\n",
    "    dataset <- BN_dataset()\n",
    "\n",
    "    cat(\"Raw dataset (first 5 rows):\\n\")\n",
    "    print(head(raw.data(dataset), 5))\n",
    "    \n",
    "    cat(\"\\nMissing values per column:\\n\")\n",
    "    print(colSums(is.na(raw.data(dataset))))\n",
    "    \n",
    "    return(dataset)\n",
    "}"
   ]
  },
  {
   "cell_type": "markdown",
   "id": "a72690a9-afd0-4b46-8586-3e8e972cca1b",
   "metadata": {},
   "source": [
    "`learn.network` uses by default the `MMHC` algo and the `BDeu` scoring function."
   ]
  },
  {
   "cell_type": "code",
   "execution_count": 4,
   "id": "229e2d6d-86a8-40ed-bd66-5ebc6e5ae177",
   "metadata": {},
   "outputs": [],
   "source": [
    "learn_network <- function(dataset, impute = FALSE, bootstrap = FALSE) {     #takes in input BNDataset\n",
    "    start <- Sys.time()\n",
    "\n",
    "    if (impute) {\n",
    "        message(\"Imputing dataset\")\n",
    "        dataset <- impute(dataset)\n",
    "    }\n",
    "    # sceglie le funzioni e score in base a impute e bootstrap\n",
    "    raw <- raw.data(dataset)\n",
    "    has_NA <- any(is.na(raw))\n",
    "    \n",
    "    if (has_NA) {\n",
    "        message(\"Missing values detected, using SEM algorithm.\")\n",
    "        net <- learn.network(dataset,\n",
    "                            algo = \"sem\")\n",
    "        \n",
    "    } else if (impute && bootstrap) {\n",
    "        message(\"Learning network imputing NA, then bootstrap.\")\n",
    "        net <- learn.network(dataset, \n",
    "                             use.imputed.data = TRUE,\n",
    "                             bootstrap = TRUE)\n",
    "    } else if (impute) {\n",
    "        message(\"Learning network using imputed data.\")\n",
    "        net <- learn.network(dataset, \n",
    "                             use.imputed.data = TRUE)\n",
    "    } else if (bootstrap) {\n",
    "        message(\"Learning network using bootstrap.\")\n",
    "        net <- learn.network(dataset, \n",
    "                             bootstrap = TRUE)\n",
    "    } else {\n",
    "        message(\"Learning network using default method: MMHC algorithm and BDeu score function.\")\n",
    "        net <- learn.network(dataset)\n",
    "    }\n",
    "    \n",
    "    # grafichino\n",
    "    plot(net, method = \"qgraph\",\n",
    "         label.scale.equal = TRUE,\n",
    "         #vertex.color = \"white\",\n",
    "         #vertex.size = 30,\n",
    "         #edge.arrow.size = 0.5,\n",
    "         #layout = layout_as_tree,\n",
    "         node.width = 1.2, \n",
    "         main = \"Bayesian Network\")\n",
    "        \n",
    "    end <- Sys.time()\n",
    "    execution_time <- difftime(time1 = end, time2 = start, units = \"secs\") \n",
    "    cat(\"\\nExecution Time:\", execution_time, \"s\")\n",
    "        \n",
    "    return(net)\n",
    "}"
   ]
  },
  {
   "cell_type": "markdown",
   "id": "34cd613a-8737-47be-b9fc-e1e27e1db397",
   "metadata": {},
   "source": [
    "## Ruiz Dataset"
   ]
  },
  {
   "cell_type": "code",
   "execution_count": 9,
   "id": "67aea1b0-f0d6-445e-be05-738fe6efc98e",
   "metadata": {},
   "outputs": [],
   "source": [
    "data <- matrix(data = c(1, 1, 0, 1, 0, 0, 1, 0, 1, 0, \n",
    "                        0, 1, 0, 1, 0, 1, 1, 0, 1, 0,\n",
    "                       0, 1, 1, 1, 0, 1, 1, 0, 1, 0), ncol = 3)\n",
    "\n",
    "# to create a BNDataset\n",
    "easy_dataset <- BNDataset(data = data,\n",
    "                          discreteness = rep(\"d\", 3),\n",
    "                          variables = c(\"x3\", \"x2\", \"x1\"),    # strahno che devo definire al contrario\n",
    "                          node.sizes = c(2,2,2),\n",
    "                          starts.from=0,  # otherwise it starts from 1 to |x| that here is also 1\n",
    "                          bndataset.name = \"Test dataset\")"
   ]
  },
  {
   "cell_type": "code",
   "execution_count": 10,
   "id": "77a95a4b-e1f9-41b2-9bbc-5c5b056f1f0a",
   "metadata": {},
   "outputs": [
    {
     "name": "stderr",
     "output_type": "stream",
     "text": [
      "Learning network using default method: MMHC algorithm and BDeu score function.\n",
      "\n",
      "bnstruct :: learning the structure using MMHC ...\n",
      "\n",
      "bnstruct :: learning using MMHC completed.\n",
      "\n",
      "bnstruct :: learning network parameters ... \n",
      "\n",
      "bnstruct :: parameter learning done.\n",
      "\n",
      "Warning message in (function (input, ...) :\n",
      "\"The following arguments are not documented and likely not arguments of qgraph and thus ignored: main\"\n"
     ]
    },
    {
     "name": "stdout",
     "output_type": "stream",
     "text": [
      "\n",
      "Execution Time: 0.262121 s"
     ]
    },
    {
     "data": {
      "image/png": "[encoded data removed]",
      "text/plain": [
       "plot without title"
      ]
     },
     "metadata": {
      "image/png": {
       "height": 420,
       "width": 420
      }
     },
     "output_type": "display_data"
    }
   ],
   "source": [
    "easy_net <- learn_network(dataset = easy_dataset, impute = FALSE, bootstrap = FALSE)"
   ]
  },
  {
   "cell_type": "markdown",
   "id": "bbdcadf2-642c-48cc-88de-df87d5f962f5",
   "metadata": {},
   "source": [
    "## Child Dataset"
   ]
  },
  {
   "cell_type": "markdown",
   "id": "66065a11-c91c-4869-9188-f5e346bd09f2",
   "metadata": {},
   "source": [
    "Import and inspect the dataset"
   ]
  },
  {
   "cell_type": "code",
   "execution_count": 12,
   "id": "fb154f71-cb1c-493f-be09-aa2667d9114a",
   "metadata": {
    "scrolled": true
   },
   "outputs": [
    {
     "name": "stdout",
     "output_type": "stream",
     "text": [
      "Raw dataset (first 5 rows):\n",
      "     V1 V2 V3 V4 V5 V6 V7 V8 V9 V10 V11 V12 V13 V14 V15 V16 V17 V18 V19 V20\n",
      "[1,]  2  3  3 NA  1 NA  1  1  2   1   1   1  NA   2   2   2   3   2   1   2\n",
      "[2,] NA NA  2  1  1  2  1  2  2   1   2   1   2   2  NA   2   2   1   2   2\n",
      "[3,]  2  3  1  2  1 NA NA  2  2   1   2   2   2   2   2   1   2   1   2   2\n",
      "[4,]  2  4  1  1  1  3 NA  1  2  NA   3  NA   1   2   1   3   1  NA   1  NA\n",
      "[5,]  2  2  1 NA  2  4  1  1  1   1  NA   1  NA   2  NA  NA   1   1   2   2\n",
      "\n",
      "Missing values per column:\n",
      " V1  V2  V3  V4  V5  V6  V7  V8  V9 V10 V11 V12 V13 V14 V15 V16 V17 V18 V19 V20 \n",
      "883 661 633 757 624 572 772 771 543 620 878 982 552 890 990 922 664 847 994 968 \n"
     ]
    },
    {
     "data": {
      "text/plain": [
       "\n",
       "Dataset: \n",
       "\n",
       "num.variables 20\n",
       "\n",
       "variables\n",
       "BirthAsphyxia Disease Age LVH DuctFlow CardiacMixing LungParench LungFlow Sick HypDistrib HypoxiaInO2 CO2 ChestXray Grunting LVHReport LowerBodyO2 RUQO2 CO2Report XrayReport GruntingReport\n",
       "discreteness\n",
       "TRUE TRUE TRUE TRUE TRUE TRUE TRUE TRUE TRUE TRUE TRUE TRUE TRUE TRUE TRUE TRUE TRUE TRUE TRUE TRUE\n",
       "node.sizes\n",
       "2 6 3 2 3 4 3 3 2 2 3 3 5 2 2 3 3 2 5 2\n",
       "num.items\n",
       "5000\n",
       "imputation\n",
       "FALSE\n",
       "has.boots\n",
       "FALSE\n",
       "has.imputed.boots\n",
       "FALSE\n",
       "num.boots\n",
       "0"
      ]
     },
     "metadata": {},
     "output_type": "display_data"
    }
   ],
   "source": [
    "child_data <- import_and_inspect(BN_dataset = child); child_data"
   ]
  },
  {
   "cell_type": "markdown",
   "id": "0656202a-6e8d-4d95-b619-fb216d6e8a1a",
   "metadata": {},
   "source": [
    "Because of the missing values, here is better as algo `sem` that handles properly the NA."
   ]
  },
  {
   "cell_type": "code",
   "execution_count": null,
   "id": "d29f04f1-1ea8-45e8-82c2-cb91f8b4a651",
   "metadata": {},
   "outputs": [
    {
     "name": "stderr",
     "output_type": "stream",
     "text": [
      "Missing values detected, using SEM algorithm.\n",
      "\n",
      "bnstruct :: learning the structure using SEM ...\n",
      "\n",
      "... bnstruct :: starting EM algorithm ...\n",
      "\n",
      "... ... bnstruct :: learning network parameters ... \n",
      "\n",
      "... ... bnstruct :: parameter learning done.\n",
      "\n"
     ]
    }
   ],
   "source": [
    "# occhio ci mette un po'\n",
    "child_net <- learn_network(dataset = child_data, impute = FALSE, bootstrap = FALSE)"
   ]
  },
  {
   "cell_type": "markdown",
   "id": "c9a1a10e-3324-4fe2-bcbc-508b9e9ab895",
   "metadata": {},
   "source": [
    "Instead, if we want to work with a dataset without NA, we can \"fill in these holes\" using the function `impute`."
   ]
  },
  {
   "cell_type": "code",
   "execution_count": 13,
   "id": "98d984d4-3d94-470a-bd79-497f1b29c850",
   "metadata": {
    "scrolled": true
   },
   "outputs": [
    {
     "name": "stderr",
     "output_type": "stream",
     "text": [
      "Imputing dataset\n",
      "\n",
      "bnstruct :: performing imputation ...\n",
      "\n",
      "bnstruct :: imputation finished.\n",
      "\n",
      "Missing values detected, using SEM algorithm.\n",
      "\n",
      "bnstruct :: learning the structure using SEM ...\n",
      "\n",
      "... bnstruct :: starting EM algorithm ...\n",
      "\n",
      "... ... bnstruct :: learning network parameters ... \n",
      "\n",
      "... ... bnstruct :: parameter learning done.\n",
      "\n",
      "... ... bnstruct :: learning network parameters ... \n",
      "\n",
      "... ... bnstruct :: parameter learning done.\n",
      "\n",
      "... bnstruct :: EM algorithm completed.\n",
      "\n",
      "... bnstruct :: learning the structure using MMHC ...\n",
      "\n",
      "... bnstruct :: learning using MMHC completed.\n",
      "\n",
      "... bnstruct :: learning network parameters ... \n",
      "\n",
      "... bnstruct :: parameter learning done.\n",
      "\n",
      "... bnstruct :: starting EM algorithm ...\n",
      "\n",
      "... ... bnstruct :: learning network parameters ... \n",
      "\n",
      "... ... bnstruct :: parameter learning done.\n",
      "\n",
      "Warning message:\n",
      "\"\u001b[1m\u001b[22mCombining vertex/edge sequences from different graphs.\n",
      "\u001b[31m✖\u001b[39m This will not work in future igraph versions.\"\n",
      "Warning message:\n",
      "\"\u001b[1m\u001b[22mCombining vertex/edge sequences from different graphs.\n",
      "\u001b[31m✖\u001b[39m This will not work in future igraph versions.\"\n",
      "Warning message:\n",
      "\"\u001b[1m\u001b[22mCombining vertex/edge sequences from different graphs.\n",
      "\u001b[31m✖\u001b[39m This will not work in future igraph versions.\"\n",
      "Warning message:\n",
      "\"\u001b[1m\u001b[22mCombining vertex/edge sequences from different graphs.\n",
      "\u001b[31m✖\u001b[39m This will not work in future igraph versions.\"\n",
      "Warning message:\n",
      "\"\u001b[1m\u001b[22mCombining vertex/edge sequences from different graphs.\n",
      "\u001b[31m✖\u001b[39m This will not work in future igraph versions.\"\n",
      "Warning message:\n",
      "\"\u001b[1m\u001b[22mCombining vertex/edge sequences from different graphs.\n",
      "\u001b[31m✖\u001b[39m This will not work in future igraph versions.\"\n",
      "Warning message:\n",
      "\"\u001b[1m\u001b[22mCombining vertex/edge sequences from different graphs.\n",
      "\u001b[31m✖\u001b[39m This will not work in future igraph versions.\"\n",
      "Warning message:\n",
      "\"\u001b[1m\u001b[22mCombining vertex/edge sequences from different graphs.\n",
      "\u001b[31m✖\u001b[39m This will not work in future igraph versions.\"\n",
      "... ... bnstruct :: learning network parameters ... \n",
      "\n",
      "... ... bnstruct :: parameter learning done.\n",
      "\n",
      "... ... bnstruct :: learning network parameters ... \n",
      "\n",
      "... ... bnstruct :: parameter learning done.\n",
      "\n",
      "Warning message:\n",
      "\"\u001b[1m\u001b[22mCombining vertex/edge sequences from different graphs.\n",
      "\u001b[31m✖\u001b[39m This will not work in future igraph versions.\"\n",
      "Warning message:\n",
      "\"\u001b[1m\u001b[22mCombining vertex/edge sequences from different graphs.\n",
      "\u001b[31m✖\u001b[39m This will not work in future igraph versions.\"\n",
      "Warning message:\n",
      "\"\u001b[1m\u001b[22mCombining vertex/edge sequences from different graphs.\n",
      "\u001b[31m✖\u001b[39m This will not work in future igraph versions.\"\n",
      "Warning message:\n",
      "\"\u001b[1m\u001b[22mCombining vertex/edge sequences from different graphs.\n",
      "\u001b[31m✖\u001b[39m This will not work in future igraph versions.\"\n",
      "Warning message:\n",
      "\"\u001b[1m\u001b[22mCombining vertex/edge sequences from different graphs.\n",
      "\u001b[31m✖\u001b[39m This will not work in future igraph versions.\"\n",
      "Warning message:\n",
      "\"\u001b[1m\u001b[22mCombining vertex/edge sequences from different graphs.\n",
      "\u001b[31m✖\u001b[39m This will not work in future igraph versions.\"\n",
      "Warning message:\n",
      "\"\u001b[1m\u001b[22mCombining vertex/edge sequences from different graphs.\n",
      "\u001b[31m✖\u001b[39m This will not work in future igraph versions.\"\n",
      "... ... bnstruct :: learning network parameters ... \n",
      "\n",
      "... ... bnstruct :: parameter learning done.\n",
      "\n",
      "... bnstruct :: EM algorithm completed.\n",
      "\n",
      "... bnstruct :: learning the structure using MMHC ...\n",
      "\n",
      "... bnstruct :: learning using MMHC completed.\n",
      "\n",
      "... bnstruct :: learning network parameters ... \n",
      "\n",
      "... bnstruct :: parameter learning done.\n",
      "\n",
      "... bnstruct :: starting EM algorithm ...\n",
      "\n",
      "... ... bnstruct :: learning network parameters ... \n",
      "\n",
      "... ... bnstruct :: parameter learning done.\n",
      "\n",
      "... ... bnstruct :: learning network parameters ... \n",
      "\n",
      "... ... bnstruct :: parameter learning done.\n",
      "\n",
      "... bnstruct :: EM algorithm completed.\n",
      "\n",
      "... bnstruct :: learning the structure using MMHC ...\n",
      "\n",
      "... bnstruct :: learning using MMHC completed.\n",
      "\n",
      "... bnstruct :: learning network parameters ... \n",
      "\n",
      "... bnstruct :: parameter learning done.\n",
      "\n",
      "... bnstruct :: starting EM algorithm ...\n",
      "\n",
      "... ... bnstruct :: learning network parameters ... \n",
      "\n",
      "... ... bnstruct :: parameter learning done.\n",
      "\n",
      "... ... bnstruct :: learning network parameters ... \n",
      "\n",
      "... ... bnstruct :: parameter learning done.\n",
      "\n",
      "... bnstruct :: EM algorithm completed.\n",
      "\n",
      "... bnstruct :: learning the structure using MMHC ...\n",
      "\n",
      "... bnstruct :: learning using MMHC completed.\n",
      "\n",
      "... bnstruct :: learning network parameters ... \n",
      "\n",
      "... bnstruct :: parameter learning done.\n",
      "\n",
      "... bnstruct :: starting EM algorithm ...\n",
      "\n",
      "... ... bnstruct :: learning network parameters ... \n",
      "\n",
      "... ... bnstruct :: parameter learning done.\n",
      "\n",
      "... ... bnstruct :: learning network parameters ... \n",
      "\n",
      "... ... bnstruct :: parameter learning done.\n",
      "\n",
      "... bnstruct :: EM algorithm completed.\n",
      "\n",
      "... bnstruct :: learning the structure using MMHC ...\n",
      "\n",
      "... bnstruct :: learning using MMHC completed.\n",
      "\n",
      "... bnstruct :: learning network parameters ... \n",
      "\n",
      "... bnstruct :: parameter learning done.\n",
      "\n",
      "bnstruct :: learning using SEM completed.\n",
      "\n",
      "bnstruct :: learning network parameters ... \n",
      "\n",
      "bnstruct :: parameter learning done.\n",
      "\n",
      "Warning message in (function (input, ...) :\n",
      "\"The following arguments are not documented and likely not arguments of qgraph and thus ignored: main\"\n"
     ]
    },
    {
     "name": "stdout",
     "output_type": "stream",
     "text": [
      "\n",
      "Execution Time: 1214.13 s"
     ]
    },
    {
     "data": {
      "image/png": "[encoded data removed]",
      "text/plain": [
       "plot without title"
      ]
     },
     "metadata": {
      "image/png": {
       "height": 420,
       "width": 420
      }
     },
     "output_type": "display_data"
    }
   ],
   "source": [
    "child_net <- learn_network(dataset = child_data, impute = TRUE, bootstrap = FALSE)"
   ]
  },
  {
   "cell_type": "markdown",
   "id": "7680a307-6f4b-423d-ac9e-777cdefcbe63",
   "metadata": {},
   "source": [
    "## Asia Dataset"
   ]
  },
  {
   "cell_type": "code",
   "execution_count": 11,
   "id": "c81ca3a8-09a1-4f1a-921a-52b0c8d5075b",
   "metadata": {
    "scrolled": true
   },
   "outputs": [
    {
     "name": "stdout",
     "output_type": "stream",
     "text": [
      "Raw dataset (first 5 rows):\n",
      "     V1 V2 V3 V4 V5 V6 V7 V8\n",
      "[1,]  2  2  1  1  1  2  1  2\n",
      "[2,]  2  1  1  1  1  1  2  1\n",
      "[3,]  1  1  2  1  1  1  2  1\n",
      "[4,]  2  1  2  1  1  1  2  1\n",
      "[5,]  2  1  2  1  1  1  1  2\n",
      "\n",
      "Missing values per column:\n",
      "V1 V2 V3 V4 V5 V6 V7 V8 \n",
      " 0  0  0  0  0  0  0  0 \n",
      "[1] \"BNDataset\"\n",
      "attr(,\"package\")\n",
      "[1] \"bnstruct\"\n"
     ]
    },
    {
     "data": {
      "text/plain": [
       "\n",
       "Dataset: \n",
       "\n",
       "num.variables 8\n",
       "\n",
       "variables\n",
       "Asia Tubercolosys Smoke LungCancer Bronchitis Either X-ray Dyspnea\n",
       "discreteness\n",
       "TRUE TRUE TRUE TRUE TRUE TRUE TRUE TRUE\n",
       "node.sizes\n",
       "2 2 2 2 2 2 2 2\n",
       "num.items\n",
       "10000\n",
       "imputation\n",
       "FALSE\n",
       "has.boots\n",
       "FALSE\n",
       "has.imputed.boots\n",
       "FALSE\n",
       "num.boots\n",
       "0"
      ]
     },
     "metadata": {},
     "output_type": "display_data"
    }
   ],
   "source": [
    "asia_data <- import_and_inspect(BN_dataset = asia); asia_data"
   ]
  },
  {
   "cell_type": "code",
   "execution_count": 23,
   "id": "f24a5b66-dead-4f0a-823b-04e144ce1a5d",
   "metadata": {
    "scrolled": true
   },
   "outputs": [
    {
     "name": "stderr",
     "output_type": "stream",
     "text": [
      "Learning network using default method: MMHC algorithm and BDeu score function.\n",
      "\n",
      "bnstruct :: learning the structure using MMHC ...\n",
      "\n",
      "bnstruct :: learning using MMHC completed.\n",
      "\n",
      "bnstruct :: learning network parameters ... \n",
      "\n",
      "bnstruct :: parameter learning done.\n",
      "\n",
      "Warning message in (function (input, ...) :\n",
      "\"The following arguments are not documented and likely not arguments of qgraph and thus ignored: main\"\n"
     ]
    },
    {
     "name": "stdout",
     "output_type": "stream",
     "text": [
      "\n",
      "Execution Time: 0.8449898 s"
     ]
    },
    {
     "data": {
      "image/png": "[encoded data removed]",
      "text/plain": [
       "plot without title"
      ]
     },
     "metadata": {
      "image/png": {
       "height": 420,
       "width": 420
      }
     },
     "output_type": "display_data"
    }
   ],
   "source": [
    "asia_net <- learn_network(dataset = asia_data, impute = FALSE, bootstrap = FALSE)"
   ]
  },
  {
   "cell_type": "markdown",
   "id": "e6bcd474-b123-4817-be7c-e590ef1ad303",
   "metadata": {},
   "source": [
    "We can use bootstrap to learn more about the dataset(?)"
   ]
  },
  {
   "cell_type": "code",
   "execution_count": null,
   "id": "fe80b325-52df-4dae-9146-5c72bfa4b89d",
   "metadata": {},
   "outputs": [],
   "source": [
    "asia_net <- learn_network(dataset = asia_data, impute = FALSE, bootstrap = TRUE)   # default value is num.boots = 100"
   ]
  }
 ],
 "metadata": {
  "kernelspec": {
   "display_name": "R",
   "language": "R",
   "name": "ir"
  },
  "language_info": {
   "codemirror_mode": "r",
   "file_extension": ".r",
   "mimetype": "text/x-r-source",
   "name": "R",
   "pygments_lexer": "r",
   "version": "4.5.0"
  }
 },
 "nbformat": 4,
 "nbformat_minor": 5
}
