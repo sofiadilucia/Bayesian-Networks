{
 "cells": [
  {
   "cell_type": "markdown",
   "id": "829841f9-7441-4985-bf5f-ec387b5878fe",
   "metadata": {},
   "source": [
    "# Learning the topology of a Bayesian Network from a database of cases using the K2 algorithm"
   ]
  },
  {
   "cell_type": "markdown",
   "id": "46fa0203-127e-4cd0-9091-1ddb1c82fa64",
   "metadata": {},
   "source": [
    "A **Bayesian belief-network** [1] structure is a directed acyclic graph in which nodes represent domain variables and arcs between nodes represent probabilistic dependencies [2]. Given a database of records, it is interesting to construct a probabilistic network that can provide insights into the probabilistic dependencies existing among the variables in the database. Such a network can be further used to classify future behavior of the modeled system [2]. \n",
    "\n",
    "Although researchers have made substantial advances in developing the theory and application of belief networks, the actual construction of these networks often remains a difficult, time-consuming task. An efficient method for determining the relative probabilities of different belief-network structures, given a database of cases and a set of explicit assumptions, is described in [2] and [3].\n",
    "\n",
    "The K2 algorithm [3] can be used to learn the topology of a Bayes network [2], i.e. of finding the most probable belief-network structure, given a database.\n",
    "- **Part 1** After having studied the problem in the suggested literature ([2]-[3]), Implement the algorithm in R and check its performances with the test data set given in [3]: Asia and Child data sets.\n",
    "- **Part 2** Implement and test the K2 algorithm with the test data sets ([3]). Compare the results with that obtained with the bnstruct R library [4]\n",
    "\n",
    "## Bibliography\n",
    "[1]: **Bayesian Networks**: (Link to relevant paper or article) <br>\n",
    "[2]: **A Bayesian Method for the Induction of Probabilistic Networks from Data**: ([Link](https://link.springer.com/article/10.1007/BF00994110#Bib1)) <br>\n",
    "[3]: **Illustration of the K2 Algorithm for learning Bayes Net Structures**: ([Link](https://web.cs.wpi.edu/~cs539/s05/Projects/k2_algorithm.pdf)) <br>\n",
    "[4]: **bnstruct: an R package for Bayesian Network structure learning in the presence of missing data**: ([Link](https://academic.oup.com/bioinformatics/article/33/8/1250/2730229)) <br>\n",
    "[5]: **bnstruct: an R package for Bayesian Network Structure Learning with missing data**: ([Link](https://cran.r-project.org/web/packages/bnstruct/vignettes/bnstruct.pdf)) <br>"
   ]
  },
  {
   "cell_type": "code",
   "execution_count": null,
   "id": "d921b66a-6496-4923-8b39-bff860d7290b",
   "metadata": {},
   "outputs": [],
   "source": [
    "# da scaricare per plottare le reti\n",
    "#if (!requireNamespace(\"BiocManager\", quietly = TRUE))\n",
    "#    install.packages(\"BiocManager\")\n",
    "\n",
    "#BiocManager::install(\"Rgraphviz\")"
   ]
  },
  {
   "cell_type": "code",
   "execution_count": 73,
   "id": "e419122f-875c-4e32-8fd5-01ea0066111b",
   "metadata": {},
   "outputs": [],
   "source": [
    "library(\"bnstruct\") %>% suppressPackageStartupMessages()\n",
    "#library(\"bnlearn\")\n",
    "library(\"qgraph\") %>% suppressPackageStartupMessages()\n",
    "#library(\"Rgraphviz\")\n",
    "library(\"tidyverse\") %>% suppressPackageStartupMessages()"
   ]
  },
  {
   "cell_type": "markdown",
   "id": "ed48d85d-ed14-49fa-bd89-c1db8874035f",
   "metadata": {},
   "source": [
    "## Theory behind"
   ]
  },
  {
   "cell_type": "markdown",
   "id": "c76c2c9b-cbe4-4128-86c8-274eaddb8218",
   "metadata": {},
   "source": [
    "In a Bayesian Network, each variable is associated to a **node**. The number\n",
    "of variables is the **size** of the network. Each variable has a certain range of values it can take: any possible value $\\rightarrow$ *continuous* variable; otherwise, if a variable can only take some values in its range, it is a discrete variable.\n",
    "- *raw dataset*: original dataset where some observations are absent\n",
    "- *imputed dataset*: the dataset with the \"holes filled\"\n"
   ]
  },
  {
   "cell_type": "markdown",
   "id": "de7d797d-907c-4764-a028-d9ef91dc1c71",
   "metadata": {},
   "source": [
    "- **missing data** $\\rightarrow$ **imputation**: \n",
    "1. inference task: we want to guess a reasonable value that would have been present in the dataset if the observations were successful\n",
    "2. uses the k-Nearest Neighbour algorithm: `k.impute` to choose the number of neighbours\n",
    "```R\n",
    "dataset <- impute(dataset, k.impute = 10)\n",
    "imputed.data(dataset)\n",
    "```\n",
    "- **bootstrap**:\n",
    "1. Bootstrap samples are created by randomly sampling with replacement from original data, creating new datasets of the same size as the original.\n",
    "2. with `imputation` enabled - in case of dataset with missing values:\n",
    "   - **first samples** rows with replacement from the raw dataset, including those missing values\n",
    "   - **then perform imputation** on each bootstrap raw sample filling in the missing values\n",
    "```R\n",
    "dataset <- bootstrap(dataset, num.boots = 100, imputation = TRUE)\n",
    "\n",
    "```"
   ]
  },
  {
   "cell_type": "markdown",
   "id": "93958b2a-5d50-401e-a976-2c146e9bd7df",
   "metadata": {},
   "source": [
    "When constructing a network starting from a dataset, the first operation we may want to perform is **to learn a network that may have generated that dataset**, in particular its structure and its parameters. `bnstruct` provides the `learn.network` method for this task. <br>\n",
    "There are **five algorithms** to learn the structure of the network that can be chosen with the `algo` parameter:\n",
    "- `sm` (constraint-based): Silander-Myllymäki exact *search-and-score* algorithm (takes very long time, inapplicable for more than 25-30 nodes). Even for small networks, strongly encouraged to provide meaningful parameters such as the layering of the nodes, or the maximum number of parents;\n",
    "- `mmpc` (constraint-based): Max-Min Parent-and-Children - discovers the *skeletron* of the network (the set of edges connecting the variables without their directionality)\n",
    "- `hc` (score-based): Hill Climbing method - **the most similar to our K2**\n",
    "- `mmhc` (hybrid) *deafult*: Max-Min Hill-Climbing - combination of the previous two algorithms. A confidence threshold `alpha` can be specified\n",
    "- `sem` (score-based): Structural Expectation-Maximization for dataset with **missing values**. Convergence can be controlled with `struct.threshold`, `param.threshold`, `max.sem.iterations`\n",
    "\n",
    "These methods also need a **scoring function** to compute an estimated measure of each configuration of nodes, choosen with `scoring.func` parameter:\n",
    "- `BDeu` *default*: Bayesian-Dirichlet equivalent uniform\n",
    "- `AIC`: Akaike Information Criterion\n",
    "- `BIC`: Bayesian Information Criterion\n",
    "\n",
    "It's possible to provide an initial network as starting point for the search with `initial.network`."
   ]
  },
  {
   "cell_type": "markdown",
   "id": "945cf17b-1798-498f-bfe1-2d61c55e9f82",
   "metadata": {},
   "source": [
    "\"The overall best results are obtained using `MMHC` with `BDeu` after dataset imputation. `MMHC` converges in few seconds even for the large Hepar2 network; conversely, `SEM` takes from few minutes up to few hours, often with worse results. `SEM` paired with `BIC` failed to converge in 24 hours for all the 20 datasets.\" <br>\n",
    "\n",
    "- `MMHC` + `BDeu` $\\rightarrow$ TOP\n",
    "- `SEM` + `BDeu` $\\rightarrow$ meh\n",
    "- `SEM` + `BIC` $\\rightarrow$ NO!!\n",
    "\n",
    "$\\Rightarrow$ `SEM` fa schifo\n",
    "<br>\n",
    "In terms of solution quality, the results clearly improve as the size of the\n",
    "dataset grows. For 10000 observations BDeu finds slightly better networks, in\n",
    "terms of similarity with the original one, than BIC, while for **smaller datasets BIC** is significantly more robust"
   ]
  },
  {
   "cell_type": "markdown",
   "id": "9c7f41de-309c-401b-ae70-9068547ef47d",
   "metadata": {
    "jp-MarkdownHeadingCollapsed": true
   },
   "source": [
    "### Test easy sul dataset dell'articolo"
   ]
  },
  {
   "cell_type": "code",
   "execution_count": null,
   "id": "42cb875f-dc9d-43ae-b058-27052f138e29",
   "metadata": {},
   "outputs": [],
   "source": [
    "data <- matrix(data = c(1, 1, 0, 1, 0, 0, 1, 0, 1, 0, \n",
    "                        0, 1, 0, 1, 0, 1, 1, 0, 1, 0,\n",
    "                       0, 1, 1, 1, 0, 1, 1, 0, 1, 0), ncol = 3)\n",
    "\n",
    "# to create a BNDataset\n",
    "easy_dataset <- BNDataset(data = data,\n",
    "                          discreteness = rep(\"d\", 3),\n",
    "                          variables = c(\"x1\", \"x2\", \"x3\"),\n",
    "                          node.sizes = c(2,2,2),\n",
    "                          starts.from=0,  # otherwise it starts from 1 to |x| that here is also 1\n",
    "                          bndataset.name = \"Test dataset\")\n",
    "\n",
    "easy_dataset  # print() or show() is the same"
   ]
  },
  {
   "cell_type": "code",
   "execution_count": null,
   "id": "c29cc5b2-178d-4c0f-a8b4-256711b6dffe",
   "metadata": {},
   "outputs": [],
   "source": [
    "# to get the data of a BNDataset\n",
    "raw.data(easy_dataset)"
   ]
  },
  {
   "cell_type": "code",
   "execution_count": null,
   "id": "ce2c0c2d-c166-4cef-80fc-724df4bb5a81",
   "metadata": {},
   "outputs": [],
   "source": [
    "easy_net <- learn.network(easy_dataset)"
   ]
  },
  {
   "cell_type": "code",
   "execution_count": null,
   "id": "74fe44f7-a1d2-43c2-821f-9e11625ff1e7",
   "metadata": {},
   "outputs": [],
   "source": [
    "# DAG: Directed Acyclic Graph\n",
    "# WPDAG: Weighted Partially DAG when bootstrap is performed\n",
    "dag(easy_net)\n",
    "\n",
    "plot(easy_net, method=\"qgraph\", \n",
    "     label.scale.equal = T,\n",
    "     node.width = 1.6)"
   ]
  },
  {
   "cell_type": "code",
   "execution_count": null,
   "id": "3d1e7aa8-9d02-4baf-be29-13f52f61880d",
   "metadata": {},
   "outputs": [],
   "source": [
    "# to learn a WPDAG starting from a network with a DAG\n",
    "#wpdag.from.dag(easy_net)"
   ]
  },
  {
   "cell_type": "code",
   "execution_count": null,
   "id": "82c42ca8-4661-4434-be0b-d071dcf3344c",
   "metadata": {},
   "outputs": [],
   "source": [
    "# bootstrap: num.boots random samples of the same size of dataset\n",
    "# ex: here 300 samples of size data with replicated values\n",
    "easy_boot_dataset <- bootstrap(object = easy_dataset, \n",
    "                               num.boots = 3)\n",
    "\n",
    "easy_boot_net <- learn.network(easy_boot_dataset, bootstrap = TRUE)"
   ]
  },
  {
   "cell_type": "code",
   "execution_count": null,
   "id": "437a5f5d-b951-4a9d-85ed-91c3bc93c38a",
   "metadata": {},
   "outputs": [],
   "source": [
    "wpdag(easy_boot_net)"
   ]
  },
  {
   "cell_type": "code",
   "execution_count": null,
   "id": "ebdb6abe-ec1a-4790-9869-80b0bae9dd54",
   "metadata": {},
   "outputs": [],
   "source": [
    "show(easy_boot_net)"
   ]
  },
  {
   "cell_type": "code",
   "execution_count": null,
   "id": "79051319-4cf3-4f51-86d3-ea702f17246f",
   "metadata": {},
   "outputs": [],
   "source": [
    "plot(easy_boot_net, method=\"qgraph\", \n",
    "     label.scale.equal = T,\n",
    "     node.width = 1.6,\n",
    "     plot.wpdag = TRUE)"
   ]
  },
  {
   "cell_type": "markdown",
   "id": "c8b1b19f-d54e-40eb-be1b-001b1eefb200",
   "metadata": {},
   "source": [
    "# Part 2: bnlearn library\n",
    "Implement and test the K2 algorithm with the test data sets ([3]). Compare the results with that obtained with the bnstruct R library [4]"
   ]
  },
  {
   "cell_type": "markdown",
   "id": "9718d37a-9384-4e37-bb7a-66654950d0b9",
   "metadata": {},
   "source": [
    "IDEA: plottare SHD (Structural Hamming Distance) vs time(s)\n",
    "<br> SHD = the distance in terms of edges from the original network"
   ]
  },
  {
   "cell_type": "markdown",
   "id": "e56398df-0f2a-46e5-b0e5-91fc47ae9f20",
   "metadata": {},
   "source": [
    "## Child dataset"
   ]
  },
  {
   "cell_type": "markdown",
   "id": "b11fcb2e-2d6a-4ad2-ba0a-45fcae80d03b",
   "metadata": {},
   "source": [
    "- BNDataset containing the Child dataset\n",
    "- It has 5000 items\n",
    "- random **missing values**\n",
    "- no latent variables\n",
    "- raw dataset and imputed dataset (with k = 10)"
   ]
  },
  {
   "cell_type": "code",
   "execution_count": 33,
   "id": "367a0bed-b0f6-4e42-b9f5-ef9cd9df4569",
   "metadata": {},
   "outputs": [
    {
     "data": {
      "text/html": [
       "'BNDataset'"
      ],
      "text/latex": [
       "'BNDataset'"
      ],
      "text/markdown": [
       "'BNDataset'"
      ],
      "text/plain": [
       "[1] \"BNDataset\"\n",
       "attr(,\"package\")\n",
       "[1] \"bnstruct\""
      ]
     },
     "metadata": {},
     "output_type": "display_data"
    },
    {
     "data": {
      "text/plain": [
       "\n",
       "Dataset: \n",
       "\n",
       "num.variables 20\n",
       "\n",
       "variables\n",
       "BirthAsphyxia Disease Age LVH DuctFlow CardiacMixing LungParench LungFlow Sick HypDistrib HypoxiaInO2 CO2 ChestXray Grunting LVHReport LowerBodyO2 RUQO2 CO2Report XrayReport GruntingReport\n",
       "discreteness\n",
       "TRUE TRUE TRUE TRUE TRUE TRUE TRUE TRUE TRUE TRUE TRUE TRUE TRUE TRUE TRUE TRUE TRUE TRUE TRUE TRUE\n",
       "node.sizes\n",
       "2 6 3 2 3 4 3 3 2 2 3 3 5 2 2 3 3 2 5 2\n",
       "num.items\n",
       "5000\n",
       "imputation\n",
       "FALSE\n",
       "has.boots\n",
       "FALSE\n",
       "has.imputed.boots\n",
       "FALSE\n",
       "num.boots\n",
       "0"
      ]
     },
     "metadata": {},
     "output_type": "display_data"
    }
   ],
   "source": [
    "child_dataset <- child()\n",
    "class(child_dataset)\n",
    "child_dataset"
   ]
  },
  {
   "cell_type": "code",
   "execution_count": 35,
   "id": "ed2cf817-e114-4925-b8bd-e1f24e8837e9",
   "metadata": {
    "scrolled": true
   },
   "outputs": [
    {
     "data": {
      "text/html": [
       "<table class=\"dataframe\">\n",
       "<caption>A matrix: 10 × 20 of type dbl</caption>\n",
       "<thead>\n",
       "\t<tr><th scope=col>V1</th><th scope=col>V2</th><th scope=col>V3</th><th scope=col>V4</th><th scope=col>V5</th><th scope=col>V6</th><th scope=col>V7</th><th scope=col>V8</th><th scope=col>V9</th><th scope=col>V10</th><th scope=col>V11</th><th scope=col>V12</th><th scope=col>V13</th><th scope=col>V14</th><th scope=col>V15</th><th scope=col>V16</th><th scope=col>V17</th><th scope=col>V18</th><th scope=col>V19</th><th scope=col>V20</th></tr>\n",
       "</thead>\n",
       "<tbody>\n",
       "\t<tr><td> 2</td><td> 3</td><td> 3</td><td>NA</td><td> 1</td><td>NA</td><td> 1</td><td> 1</td><td> 2</td><td> 1</td><td> 1</td><td> 1</td><td>NA</td><td> 2</td><td> 2</td><td> 2</td><td>3</td><td> 2</td><td>1</td><td> 2</td></tr>\n",
       "\t<tr><td>NA</td><td>NA</td><td> 2</td><td> 1</td><td> 1</td><td> 2</td><td> 1</td><td> 2</td><td> 2</td><td> 1</td><td> 2</td><td> 1</td><td> 2</td><td> 2</td><td>NA</td><td> 2</td><td>2</td><td> 1</td><td>2</td><td> 2</td></tr>\n",
       "\t<tr><td> 2</td><td> 3</td><td> 1</td><td> 2</td><td> 1</td><td>NA</td><td>NA</td><td> 2</td><td> 2</td><td> 1</td><td> 2</td><td> 2</td><td> 2</td><td> 2</td><td> 2</td><td> 1</td><td>2</td><td> 1</td><td>2</td><td> 2</td></tr>\n",
       "\t<tr><td> 2</td><td> 4</td><td> 1</td><td> 1</td><td> 1</td><td> 3</td><td>NA</td><td> 1</td><td> 2</td><td>NA</td><td> 3</td><td>NA</td><td> 1</td><td> 2</td><td> 1</td><td> 3</td><td>1</td><td>NA</td><td>1</td><td>NA</td></tr>\n",
       "\t<tr><td> 2</td><td> 2</td><td> 1</td><td>NA</td><td> 2</td><td> 4</td><td> 1</td><td> 1</td><td> 1</td><td> 1</td><td>NA</td><td> 1</td><td>NA</td><td> 2</td><td>NA</td><td>NA</td><td>1</td><td> 1</td><td>2</td><td> 2</td></tr>\n",
       "\t<tr><td>NA</td><td> 2</td><td>NA</td><td> 2</td><td> 1</td><td> 4</td><td>NA</td><td> 3</td><td> 2</td><td> 1</td><td> 3</td><td> 1</td><td> 3</td><td> 2</td><td> 2</td><td> 2</td><td>1</td><td> 1</td><td>3</td><td> 2</td></tr>\n",
       "\t<tr><td> 2</td><td> 2</td><td> 1</td><td> 2</td><td>NA</td><td> 4</td><td>NA</td><td> 3</td><td>NA</td><td> 1</td><td>NA</td><td> 1</td><td> 1</td><td>NA</td><td>NA</td><td>NA</td><td>1</td><td> 1</td><td>1</td><td>NA</td></tr>\n",
       "\t<tr><td>NA</td><td> 1</td><td> 1</td><td>NA</td><td> 3</td><td> 1</td><td> 1</td><td> 1</td><td> 2</td><td> 2</td><td> 2</td><td> 1</td><td> 4</td><td> 2</td><td> 2</td><td> 1</td><td>1</td><td>NA</td><td>4</td><td>NA</td></tr>\n",
       "\t<tr><td> 2</td><td> 3</td><td> 2</td><td> 2</td><td> 1</td><td> 3</td><td> 1</td><td> 2</td><td> 2</td><td> 1</td><td> 2</td><td> 1</td><td> 2</td><td> 2</td><td> 2</td><td>NA</td><td>1</td><td> 1</td><td>2</td><td> 2</td></tr>\n",
       "\t<tr><td> 2</td><td> 4</td><td> 1</td><td> 1</td><td> 1</td><td> 3</td><td>NA</td><td>NA</td><td> 2</td><td>NA</td><td> 3</td><td> 3</td><td> 2</td><td> 2</td><td> 1</td><td> 1</td><td>1</td><td> 2</td><td>2</td><td>NA</td></tr>\n",
       "</tbody>\n",
       "</table>\n"
      ],
      "text/latex": [
       "A matrix: 10 × 20 of type dbl\n",
       "\\begin{tabular}{llllllllllllllllllll}\n",
       " V1 & V2 & V3 & V4 & V5 & V6 & V7 & V8 & V9 & V10 & V11 & V12 & V13 & V14 & V15 & V16 & V17 & V18 & V19 & V20\\\\\n",
       "\\hline\n",
       "\t  2 &  3 &  3 & NA &  1 & NA &  1 &  1 &  2 &  1 &  1 &  1 & NA &  2 &  2 &  2 & 3 &  2 & 1 &  2\\\\\n",
       "\t NA & NA &  2 &  1 &  1 &  2 &  1 &  2 &  2 &  1 &  2 &  1 &  2 &  2 & NA &  2 & 2 &  1 & 2 &  2\\\\\n",
       "\t  2 &  3 &  1 &  2 &  1 & NA & NA &  2 &  2 &  1 &  2 &  2 &  2 &  2 &  2 &  1 & 2 &  1 & 2 &  2\\\\\n",
       "\t  2 &  4 &  1 &  1 &  1 &  3 & NA &  1 &  2 & NA &  3 & NA &  1 &  2 &  1 &  3 & 1 & NA & 1 & NA\\\\\n",
       "\t  2 &  2 &  1 & NA &  2 &  4 &  1 &  1 &  1 &  1 & NA &  1 & NA &  2 & NA & NA & 1 &  1 & 2 &  2\\\\\n",
       "\t NA &  2 & NA &  2 &  1 &  4 & NA &  3 &  2 &  1 &  3 &  1 &  3 &  2 &  2 &  2 & 1 &  1 & 3 &  2\\\\\n",
       "\t  2 &  2 &  1 &  2 & NA &  4 & NA &  3 & NA &  1 & NA &  1 &  1 & NA & NA & NA & 1 &  1 & 1 & NA\\\\\n",
       "\t NA &  1 &  1 & NA &  3 &  1 &  1 &  1 &  2 &  2 &  2 &  1 &  4 &  2 &  2 &  1 & 1 & NA & 4 & NA\\\\\n",
       "\t  2 &  3 &  2 &  2 &  1 &  3 &  1 &  2 &  2 &  1 &  2 &  1 &  2 &  2 &  2 & NA & 1 &  1 & 2 &  2\\\\\n",
       "\t  2 &  4 &  1 &  1 &  1 &  3 & NA & NA &  2 & NA &  3 &  3 &  2 &  2 &  1 &  1 & 1 &  2 & 2 & NA\\\\\n",
       "\\end{tabular}\n"
      ],
      "text/markdown": [
       "\n",
       "A matrix: 10 × 20 of type dbl\n",
       "\n",
       "| V1 | V2 | V3 | V4 | V5 | V6 | V7 | V8 | V9 | V10 | V11 | V12 | V13 | V14 | V15 | V16 | V17 | V18 | V19 | V20 |\n",
       "|---|---|---|---|---|---|---|---|---|---|---|---|---|---|---|---|---|---|---|---|\n",
       "|  2 |  3 |  3 | NA |  1 | NA |  1 |  1 |  2 |  1 |  1 |  1 | NA |  2 |  2 |  2 | 3 |  2 | 1 |  2 |\n",
       "| NA | NA |  2 |  1 |  1 |  2 |  1 |  2 |  2 |  1 |  2 |  1 |  2 |  2 | NA |  2 | 2 |  1 | 2 |  2 |\n",
       "|  2 |  3 |  1 |  2 |  1 | NA | NA |  2 |  2 |  1 |  2 |  2 |  2 |  2 |  2 |  1 | 2 |  1 | 2 |  2 |\n",
       "|  2 |  4 |  1 |  1 |  1 |  3 | NA |  1 |  2 | NA |  3 | NA |  1 |  2 |  1 |  3 | 1 | NA | 1 | NA |\n",
       "|  2 |  2 |  1 | NA |  2 |  4 |  1 |  1 |  1 |  1 | NA |  1 | NA |  2 | NA | NA | 1 |  1 | 2 |  2 |\n",
       "| NA |  2 | NA |  2 |  1 |  4 | NA |  3 |  2 |  1 |  3 |  1 |  3 |  2 |  2 |  2 | 1 |  1 | 3 |  2 |\n",
       "|  2 |  2 |  1 |  2 | NA |  4 | NA |  3 | NA |  1 | NA |  1 |  1 | NA | NA | NA | 1 |  1 | 1 | NA |\n",
       "| NA |  1 |  1 | NA |  3 |  1 |  1 |  1 |  2 |  2 |  2 |  1 |  4 |  2 |  2 |  1 | 1 | NA | 4 | NA |\n",
       "|  2 |  3 |  2 |  2 |  1 |  3 |  1 |  2 |  2 |  1 |  2 |  1 |  2 |  2 |  2 | NA | 1 |  1 | 2 |  2 |\n",
       "|  2 |  4 |  1 |  1 |  1 |  3 | NA | NA |  2 | NA |  3 |  3 |  2 |  2 |  1 |  1 | 1 |  2 | 2 | NA |\n",
       "\n"
      ],
      "text/plain": [
       "      V1 V2 V3 V4 V5 V6 V7 V8 V9 V10\n",
       " [1,]  2  3  3 NA  1 NA  1  1  2  1 \n",
       " [ reached 'max' / getOption(\"max.print\") -- omitted 9 rows and 10 columns ]"
      ]
     },
     "metadata": {},
     "output_type": "display_data"
    }
   ],
   "source": [
    "head(raw.data(child_dataset), 10)"
   ]
  },
  {
   "cell_type": "code",
   "execution_count": 22,
   "id": "acee7682-cc7b-4ace-8bea-5bdbdaaab549",
   "metadata": {},
   "outputs": [],
   "source": [
    "#complete(child_dataset)        why doesn't workkkkkkkkkkkkkkkkk"
   ]
  },
  {
   "cell_type": "code",
   "execution_count": 21,
   "id": "63f9c88b-9186-45f7-8cb1-03042bfd9c7f",
   "metadata": {},
   "outputs": [],
   "source": [
    "#child_dataset <- impute(dataset)   # OCCHIO: non va se carico bnlearn - ci sono due funzioni omonime e una non va con BNDatabase\n",
    "#imputed.data(child_dataset)"
   ]
  },
  {
   "cell_type": "code",
   "execution_count": 37,
   "id": "38290eb1-57d7-4c99-9e86-1fecc34a7cbb",
   "metadata": {},
   "outputs": [
    {
     "name": "stderr",
     "output_type": "stream",
     "text": [
      "bnstruct :: learning the structure using MMHC ...\n",
      "\n",
      "bnstruct :: learning using MMHC completed.\n",
      "\n",
      "bnstruct :: learning network parameters ... \n",
      "\n",
      "bnstruct :: parameter learning done.\n",
      "\n"
     ]
    }
   ],
   "source": [
    "child_net <- learn.network(child_dataset)"
   ]
  },
  {
   "cell_type": "code",
   "execution_count": 46,
   "id": "8d6dcdfb-d476-41a2-8114-021232ee47c4",
   "metadata": {},
   "outputs": [],
   "source": [
    "# useful functions to inspect the net\n",
    "#dag(child_net)\n",
    "#cpts(child_net)\n",
    "#show(child_net)   # or print()"
   ]
  },
  {
   "cell_type": "code",
   "execution_count": 42,
   "id": "1df23d86-b44a-42e3-b4bf-835d2a40b50f",
   "metadata": {},
   "outputs": [
    {
     "data": {
      "image/png": "[encoded data removed]",
      "text/plain": [
       "plot without title"
      ]
     },
     "metadata": {
      "image/png": {
       "height": 420,
       "width": 420
      }
     },
     "output_type": "display_data"
    }
   ],
   "source": [
    "plot(child_net, method = \"qgraph\",\n",
    "    label.scale.equal = TRUE,\n",
    "    node.width = 1.2)"
   ]
  },
  {
   "cell_type": "code",
   "execution_count": 47,
   "id": "0ef8a5f7-e781-4de4-88c0-dab3332fe40c",
   "metadata": {},
   "outputs": [
    {
     "name": "stderr",
     "output_type": "stream",
     "text": [
      "bnstruct :: performing imputation ...\n",
      "\n",
      "bnstruct :: imputation finished.\n",
      "\n"
     ]
    }
   ],
   "source": [
    "# now learning with imputed data\n",
    "child_dataset <- child()\n",
    "child_imputed <- impute(child_dataset)"
   ]
  },
  {
   "cell_type": "code",
   "execution_count": 49,
   "id": "7b87835b-25b2-4ce4-9eca-0911f9004135",
   "metadata": {},
   "outputs": [
    {
     "name": "stderr",
     "output_type": "stream",
     "text": [
      "bnstruct :: learning the structure using MMHC ...\n",
      "\n",
      "bnstruct :: learning using MMHC completed.\n",
      "\n",
      "bnstruct :: learning network parameters ... \n",
      "\n",
      "bnstruct :: parameter learning done.\n",
      "\n"
     ]
    }
   ],
   "source": [
    "child_imputed_net <- learn.network(child_imputed, use.imputed.data = TRUE)"
   ]
  },
  {
   "cell_type": "code",
   "execution_count": 50,
   "id": "0d7f35ff-0690-4c2c-844c-d06db447d3a6",
   "metadata": {},
   "outputs": [
    {
     "data": {
      "image/png": "[encoded data removed]",
      "text/plain": [
       "plot without title"
      ]
     },
     "metadata": {
      "image/png": {
       "height": 420,
       "width": 420
      }
     },
     "output_type": "display_data"
    }
   ],
   "source": [
    "plot(child_net, method = \"qgraph\",\n",
    "    label.scale.equal = TRUE,\n",
    "    node.width = 1.2)"
   ]
  },
  {
   "cell_type": "markdown",
   "id": "0ee6a827-0b25-4441-81b2-06a3dac30d47",
   "metadata": {},
   "source": [
    "## Asia Dataset"
   ]
  },
  {
   "cell_type": "markdown",
   "id": "31b678c8-3164-4813-8005-80e8dd9b379f",
   "metadata": {},
   "source": [
    "- BNDataset containing the Child dataset\n",
    "- It has 10000 items\n",
    "- no missing data (so no imputation needed)"
   ]
  },
  {
   "cell_type": "code",
   "execution_count": 63,
   "id": "9b9ef182-91b6-4560-b250-fcb5f6132d2b",
   "metadata": {},
   "outputs": [
    {
     "data": {
      "text/html": [
       "'BNDataset'"
      ],
      "text/latex": [
       "'BNDataset'"
      ],
      "text/markdown": [
       "'BNDataset'"
      ],
      "text/plain": [
       "[1] \"BNDataset\"\n",
       "attr(,\"package\")\n",
       "[1] \"bnstruct\""
      ]
     },
     "metadata": {},
     "output_type": "display_data"
    },
    {
     "data": {
      "text/plain": [
       "\n",
       "Dataset: \n",
       "\n",
       "num.variables 8\n",
       "\n",
       "variables\n",
       "Asia Tubercolosys Smoke LungCancer Bronchitis Either X-ray Dyspnea\n",
       "discreteness\n",
       "TRUE TRUE TRUE TRUE TRUE TRUE TRUE TRUE\n",
       "node.sizes\n",
       "2 2 2 2 2 2 2 2\n",
       "num.items\n",
       "10000\n",
       "imputation\n",
       "FALSE\n",
       "has.boots\n",
       "FALSE\n",
       "has.imputed.boots\n",
       "FALSE\n",
       "num.boots\n",
       "0"
      ]
     },
     "metadata": {},
     "output_type": "display_data"
    }
   ],
   "source": [
    "asia_dataset <- asia()\n",
    "class(asia_dataset)\n",
    "asia_dataset"
   ]
  },
  {
   "cell_type": "code",
   "execution_count": 54,
   "id": "7b4967db-ef9b-47a6-87f8-1cdec6e1849f",
   "metadata": {},
   "outputs": [
    {
     "data": {
      "text/html": [
       "<table class=\"dataframe\">\n",
       "<caption>A matrix: 5 × 8 of type dbl</caption>\n",
       "<thead>\n",
       "\t<tr><th scope=col>V1</th><th scope=col>V2</th><th scope=col>V3</th><th scope=col>V4</th><th scope=col>V5</th><th scope=col>V6</th><th scope=col>V7</th><th scope=col>V8</th></tr>\n",
       "</thead>\n",
       "<tbody>\n",
       "\t<tr><td>2</td><td>2</td><td>1</td><td>1</td><td>1</td><td>2</td><td>1</td><td>2</td></tr>\n",
       "\t<tr><td>2</td><td>1</td><td>1</td><td>1</td><td>1</td><td>1</td><td>2</td><td>1</td></tr>\n",
       "\t<tr><td>1</td><td>1</td><td>2</td><td>1</td><td>1</td><td>1</td><td>2</td><td>1</td></tr>\n",
       "\t<tr><td>2</td><td>1</td><td>2</td><td>1</td><td>1</td><td>1</td><td>2</td><td>1</td></tr>\n",
       "\t<tr><td>2</td><td>1</td><td>2</td><td>1</td><td>1</td><td>1</td><td>1</td><td>2</td></tr>\n",
       "</tbody>\n",
       "</table>\n"
      ],
      "text/latex": [
       "A matrix: 5 × 8 of type dbl\n",
       "\\begin{tabular}{llllllll}\n",
       " V1 & V2 & V3 & V4 & V5 & V6 & V7 & V8\\\\\n",
       "\\hline\n",
       "\t 2 & 2 & 1 & 1 & 1 & 2 & 1 & 2\\\\\n",
       "\t 2 & 1 & 1 & 1 & 1 & 1 & 2 & 1\\\\\n",
       "\t 1 & 1 & 2 & 1 & 1 & 1 & 2 & 1\\\\\n",
       "\t 2 & 1 & 2 & 1 & 1 & 1 & 2 & 1\\\\\n",
       "\t 2 & 1 & 2 & 1 & 1 & 1 & 1 & 2\\\\\n",
       "\\end{tabular}\n"
      ],
      "text/markdown": [
       "\n",
       "A matrix: 5 × 8 of type dbl\n",
       "\n",
       "| V1 | V2 | V3 | V4 | V5 | V6 | V7 | V8 |\n",
       "|---|---|---|---|---|---|---|---|\n",
       "| 2 | 2 | 1 | 1 | 1 | 2 | 1 | 2 |\n",
       "| 2 | 1 | 1 | 1 | 1 | 1 | 2 | 1 |\n",
       "| 1 | 1 | 2 | 1 | 1 | 1 | 2 | 1 |\n",
       "| 2 | 1 | 2 | 1 | 1 | 1 | 2 | 1 |\n",
       "| 2 | 1 | 2 | 1 | 1 | 1 | 1 | 2 |\n",
       "\n"
      ],
      "text/plain": [
       "     V1 V2 V3 V4 V5 V6 V7 V8\n",
       "[1,] 2  2  1  1  1  2  1  2 \n",
       " [ reached 'max' / getOption(\"max.print\") -- omitted 4 rows ]"
      ]
     },
     "metadata": {},
     "output_type": "display_data"
    }
   ],
   "source": [
    "head(raw.data(asia_dataset), 5)"
   ]
  },
  {
   "cell_type": "code",
   "execution_count": 64,
   "id": "d0a2a6c0-e855-421e-ae66-83e904deb8b0",
   "metadata": {},
   "outputs": [
    {
     "name": "stderr",
     "output_type": "stream",
     "text": [
      "bnstruct :: Generating bootstrap samples ...\n",
      "\n",
      "bnstruct :: Bootstrap samples generated.\n",
      "\n"
     ]
    }
   ],
   "source": [
    "asia_dataset <- bootstrap(asia_dataset)   # default value is num.boots = 100"
   ]
  },
  {
   "cell_type": "code",
   "execution_count": 69,
   "id": "7b82c126-4003-47b9-b665-7f9cb4f80508",
   "metadata": {},
   "outputs": [
    {
     "name": "stderr",
     "output_type": "stream",
     "text": [
      "bnstruct :: learning the structure using MMHC ...\n",
      "\n",
      "bnstruct :: learning using MMHC completed.\n",
      "\n"
     ]
    }
   ],
   "source": [
    "asia_net <- learn.network(asia_dataset, bootstrap = TRUE)"
   ]
  },
  {
   "cell_type": "code",
   "execution_count": 80,
   "id": "dfabfdfd-9cc6-46ce-8f2c-236d14397103",
   "metadata": {},
   "outputs": [
    {
     "data": {
      "text/html": [
       "'BN'"
      ],
      "text/latex": [
       "'BN'"
      ],
      "text/markdown": [
       "'BN'"
      ],
      "text/plain": [
       "[1] \"BN\"\n",
       "attr(,\"package\")\n",
       "[1] \"bnstruct\""
      ]
     },
     "metadata": {},
     "output_type": "display_data"
    }
   ],
   "source": [
    "class(asia_net)"
   ]
  },
  {
   "cell_type": "code",
   "execution_count": 74,
   "id": "226943ff-e5cc-407b-b11a-d05c9fb319d0",
   "metadata": {},
   "outputs": [
    {
     "data": {
      "image/png": "[encoded data removed]",
      "text/plain": [
       "plot without title"
      ]
     },
     "metadata": {
      "image/png": {
       "height": 420,
       "width": 420
      }
     },
     "output_type": "display_data"
    }
   ],
   "source": [
    "plot(asia_net, method = \"qgraph\",\n",
    "    label.scale.equal = TRUE,\n",
    "    node.width = 1.2,\n",
    "    plot.wpdag = TRUE)"
   ]
  },
  {
   "cell_type": "code",
   "execution_count": 67,
   "id": "247d89ea-63ee-4e49-a34c-04911ac5fac1",
   "metadata": {},
   "outputs": [
    {
     "ename": "ERROR",
     "evalue": "Error in parse(text = input): <text>:1:3: costante stringa inattesa\n7: }\n8: '\n     ^\n",
     "output_type": "error",
     "traceback": [
      "Error in parse(text = input): <text>:1:3: costante stringa inattesa\n7: }\n8: '\n     ^\nTraceback:\n"
     ]
    }
   ],
   "source": [
    "'''\n",
    "function() {\n",
    "    start <- Sys.time()\n",
    "    #...\n",
    "    end <- Sys.time()\n",
    "    execution_time <- difftime(start, end, units = \"secs\")\n",
    "}\n",
    "'''"
   ]
  },
  {
   "cell_type": "code",
   "execution_count": null,
   "id": "e4203a2b-b38a-4c8d-a15a-666f96878727",
   "metadata": {},
   "outputs": [],
   "source": [
    "'''\n",
    "time_taken <- system.time({\n",
    "    \n",
    "    dataset <- child()\n",
    "    \n",
    "    # try all the possible combinations of algorithms and scoring functions\n",
    "    algos <- c(\"sm\", \"mmpc\", \"mmhc\", \"hc\", \"sem\")\n",
    "    scoring_funcs <- c(\"BDeu\")#, \"AIC\", \"BIC\")\n",
    "    \n",
    "    combinations <- expand.grid(algo = algos, scoring_func = scoring_funcs, stringsAsFactors = FALSE)\n",
    "    \n",
    "    learn_net <- function(algo, scoring_func) {\n",
    "        tryCatch({\n",
    "            net <- learn.network(dataset, algo = algo, \n",
    "                                 scoring.func = scoring_func)\n",
    "            return(net)\n",
    "        }, error = function(e) {\n",
    "            message(sprintf(\"Error with algorithm %s and score %s: %s\", algo, scoring_func, e$message))\n",
    "            return(NULL)\n",
    "        })\n",
    "    }\n",
    "    \n",
    "    nets <- mapply(learn_net, combinations$algo, combinations$scoring_func, SIMPLIFY = FALSE)\n",
    "})\n",
    "print(time_taken)\n",
    "'''"
   ]
  }
 ],
 "metadata": {
  "kernelspec": {
   "display_name": "R",
   "language": "R",
   "name": "ir"
  },
  "language_info": {
   "codemirror_mode": "r",
   "file_extension": ".r",
   "mimetype": "text/x-r-source",
   "name": "R",
   "pygments_lexer": "r",
   "version": "4.5.0"
  }
 },
 "nbformat": 4,
 "nbformat_minor": 5
}
