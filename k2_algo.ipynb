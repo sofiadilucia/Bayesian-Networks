{
 "cells": [
  {
   "cell_type": "markdown",
   "id": "3ca8467d-ff0d-4d86-8059-6b0040be7fcc",
   "metadata": {},
   "source": [
    "# Part 1"
   ]
  },
  {
   "cell_type": "markdown",
   "id": "0ea77f75-0790-43c5-9cfd-e76fa08d175d",
   "metadata": {
    "jp-MarkdownHeadingCollapsed": true
   },
   "source": [
    "## Importing Libraries"
   ]
  },
  {
   "cell_type": "code",
   "execution_count": null,
   "id": "dcf57ebb",
   "metadata": {
    "vscode": {
     "languageId": "r"
    }
   },
   "outputs": [],
   "source": [
    "library(bnlearn) |> suppressPackageStartupMessages()\n",
    "library(Rgraphviz) |> suppressPackageStartupMessages()\n",
    "library(tidyverse) |> suppressPackageStartupMessages()\n",
    "library(gtools) |> suppressPackageStartupMessages()\n",
    "library(bnstruct) |>suppressPackageStartupMessages()\n",
    "library(parallel) |> suppressPackageStartupMessages()"
   ]
  },
  {
   "cell_type": "markdown",
   "id": "c6956092-a824-4988-b4b3-6e44e112d4d8",
   "metadata": {
    "jp-MarkdownHeadingCollapsed": true
   },
   "source": [
    "## K2 Algorithm Implementation"
   ]
  },
  {
   "cell_type": "code",
   "execution_count": null,
   "id": "d67ca39a",
   "metadata": {
    "vscode": {
     "languageId": "r"
    }
   },
   "outputs": [],
   "source": [
    "factor_remover <- function(dataset) {\n",
    "    cols <- colnames(dataset)\n",
    "    for (i in seq_along(cols)) {\n",
    "        name <- cols[i]\n",
    "        dataset[[name]] <- as.character(dataset[[name]])\n",
    "    }\n",
    "    return(dataset)\n",
    "}\n",
    "\n",
    "\n",
    "dataset <- function(dataset) {\n",
    "    if (class(dataset) == 'data.frame') {\n",
    "        return(factor_remover(dataset))\n",
    "    } else if (class(dataset) == 'BNDataset') {\n",
    "        df <- as.data.frame(raw.data(dataset))\n",
    "        colnames(df) <- dataset@variables\n",
    "        return(df)\n",
    "    }\n",
    "    else {\n",
    "        ruiz <- data.frame(x1 = c(1, 1, 0, 1, 0, 0, 1, 0, 1, 0),\n",
    "                          x2 = c(0, 1, 0, 1, 0, 1, 1, 0, 1, 0),\n",
    "                          x3 = c(0, 1, 1, 1, 0, 1, 1, 0, 1, 0))\n",
    "        return(ruiz)\n",
    "    }\n",
    "}"
   ]
  },
  {
   "cell_type": "code",
   "execution_count": null,
   "id": "9730190d",
   "metadata": {
    "vscode": {
     "languageId": "r"
    }
   },
   "outputs": [],
   "source": [
    "node.values <- function(dataset, parents) {\n",
    "    # retrieves the unique values of the nodes\n",
    "    #return a list of vectors, \n",
    "    # each vector contains the unique values of the corresponding node\n",
    "    output <- list()\n",
    "    for (kk in seq_along(parents)) {\n",
    "        node <- parents[kk]\n",
    "        node.vals <- unique(dataset[[node]]) #it was levels()\n",
    "        output[[kk]] <- node.vals\n",
    "    }\n",
    "    return(output)\n",
    "}"
   ]
  },
  {
   "cell_type": "code",
   "execution_count": null,
   "id": "f6a0a0b0",
   "metadata": {
    "vscode": {
     "languageId": "r"
    }
   },
   "outputs": [],
   "source": [
    "fastalphaijk <- function(i, pii, dataset, nodes.order, smooth=FALSE) {\n",
    "    actual_node <- nodes.order[i]\n",
    "    all.nodes <- c(pii, actual_node)\n",
    "    subset <- dataset[all.nodes]\n",
    "    unique.instantiations <- expand.grid(node.values(dataset, all.nodes))\n",
    "    colnames(unique.instantiations) <- colnames(subset)\n",
    "    subset.counted <- subset |> group_by(across(everything())) |> summarise(n = n(), .groups=\"drop\")\n",
    "    checking <-  left_join(unique.instantiations, subset.counted, by=colnames(subset), na_matches=\"na\")  |> arrange(across(-last_col()))\n",
    "    checking$n[is.na(checking$n)]<- 0\n",
    "    if (smooth) {\n",
    "        checking$n <- checking$n + 1   # SOFIA's laplace smoothing\n",
    "    } else {}\n",
    "    #cat(\"\\n\")\n",
    "    #print(checking)\n",
    "    #cat( \"\\n \\n\")\n",
    "    return(checking$n)\n",
    "}"
   ]
  },
  {
   "cell_type": "code",
   "execution_count": null,
   "id": "c07e4e58",
   "metadata": {
    "vscode": {
     "languageId": "r"
    }
   },
   "outputs": [],
   "source": [
    "k2helper <- function(i, pii, dataset, nodes.order, log=TRUE) {\n",
    "    # the \"f\" function in the pdf\n",
    "    #cat(\"\\n------------------\\n\")\n",
    "    phi_i <- expand.grid(node.values(dataset, pii)) \n",
    "    #cat(\"\\nphi.i\")\n",
    "    #print( phi_i)\n",
    "    q_i <- dim(phi_i)[1] # works good\n",
    "    #cat(\"\\nqi.i\", q_i)\n",
    "    i.th.node <- nodes.order[i]\n",
    "    #cat(\"\\nithnode\", i.th.node)\n",
    "    v_i <- node.values(dataset, i.th.node)\n",
    "    #cat(\"\\nvi\")\n",
    "    #print(v_i)\n",
    "    r_i <- length(v_i[[1]])\n",
    "    #cat(\"\\nri\", r_i)\n",
    "    individual_alphas <- fastalphaijk(i, pii, dataset, nodes.order) # works good\n",
    "    #cat(\"\\nindividual alphas::\",individual_alphas)\n",
    "    #aijk <- prod(factorial(individual_alphas)) ##\n",
    "    grouping_alphas <- matrix(individual_alphas, nrow=r_i) # to get the right Nijs\n",
    "    nij <- colSums(grouping_alphas)\n",
    "    #print(nij)\n",
    "    \n",
    "    produttoria_alpha <- prod(lfactorial(individual_alphas))\n",
    "    log_produttoria_alpha <- sum(lfactorial(individual_alphas))\n",
    "    log_numeratore <- sum(lfactorial(rep(r_i-1,q_i))) # r_i - 1 + 1 = r_i\n",
    "    numeratore <- factorial(r_i-1)\n",
    "    log_denominatore <- sum(lfactorial(nij + r_i-1)) # nij + r_i - 1 + 1 = nij + r_i\n",
    "    denominatore <- factorial(nij+r_i-1)\n",
    "    log_out <- log_numeratore - log_denominatore + log_produttoria_alpha\n",
    "    out1 <- prod((numeratore/denominatore))*produttoria_alpha\n",
    "    out2 <- sum(log_out)\n",
    "    #cat(\"logout\", log_out)\n",
    "    ifelse(log, out <- out2, out<- out1)\n",
    "    #cat(\"\\nproduttoria_alpha\",produttoria_alpha )\n",
    "    #cat(\"\\nproduttoria_alpha\",produttoria_alpha )\n",
    "    #print(frazione)\n",
    "    return(out)\n",
    "}"
   ]
  },
  {
   "cell_type": "code",
   "execution_count": null,
   "id": "aebd7749",
   "metadata": {
    "vscode": {
     "languageId": "r"
    }
   },
   "outputs": [],
   "source": [
    "k2 <- function(dataset, nodes.order, upperbound) {\n",
    "    start <- Sys.time()  # SOFIA\n",
    "\n",
    "    nodes <- colnames(dataset)           # node names\n",
    "    net.dag <- empty.graph(nodes=nodes) # network DAG (Directed Acyclic Graph)\n",
    "    edges <- list()  # ← new: store edges here  SOFIA\n",
    "    \n",
    "    \n",
    "    for (i in seq_along(nodes.order)) {\n",
    "        actual_node <- nodes.order[i]\n",
    "        #cat(\"\\n\", i,\"\\n\")\n",
    "        pii <- c()\n",
    "        p.old <- k2helper(i, pii,dataset, nodes.order)\n",
    "        proceed <- TRUE\n",
    "        #cat(\"\\ni::\",i, \"\\n\")\n",
    "        p.new.container <- c()\n",
    "        while (proceed && length(pii) <= upperbound) {\n",
    "            predecessors_idx <- i-1\n",
    "            predecessors <- nodes.order[0:predecessors_idx]\n",
    "            #cat(\"\\npredecessors::\", predecessors, \" pii:: \", pii)\n",
    "            piiuz <- setdiff(predecessors, pii)\n",
    "            if (length(piiuz) > 1) {\n",
    "                daddy.s.probs <- c()\n",
    "                for (daddy in seq_along(piiuz)) {\n",
    "                    p.new <- k2helper(i, c(pii, piiuz[daddy]), dataset, nodes.order)\n",
    "                    daddy.s.probs <- c(daddy.s.probs, c(p.new))\n",
    "                }\n",
    "                p.new <- max(daddy.s.probs)\n",
    "                #cat(\"\\npnew\", p.new, \"pold\", p.old)\n",
    "                eventuale.genitore <-  piiuz[daddy.s.probs == p.new]\n",
    "            } else {\n",
    "                p.new <- k2helper(i, piiuz, dataset, nodes.order)\n",
    "                eventuale.genitore <- piiuz\n",
    "            }\n",
    "            #cat(\"\\npiiuz:: \",piiuz,\"\\np.old:: \", p.old, \"\\np.new:: \", p.new)    #edge_matrix <- do.call(rbind, edges)\n",
    "\n",
    "            #roof <- roof+1\n",
    "            if (p.new > p.old) {\n",
    "                p.old <- p.new\n",
    "                pii <- c(pii, eventuale.genitore)\n",
    "                p.new.container <- c(p.new.container, p.new)\n",
    "                net.dag <- set.arc(net.dag, from=eventuale.genitore, to=actual_node)\n",
    "                #ifelse(roof>length(nodes)^length(nodes), proceed <- FALSE, proceed <- TRUE)\n",
    "            } else  {\n",
    "                proceed <- FALSE\n",
    "            }\n",
    "        }\n",
    "        #cat('\\nNode', nodes.order[i], '--> Parents:', pii,'\\n') \n",
    "        \n",
    "        # Store edges: each pii is a parent of actual_node  SOFIA\n",
    "        if (length(pii) >= 0) {\n",
    "            for (iterator in seq_along(pii)) {\n",
    "                parent <- pii[iterator]\n",
    "                edges[[length(edges) + 1]] <- c(parent, actual_node)\n",
    "            }\n",
    "        }\n",
    "\n",
    "    }\n",
    "    \n",
    "    net.score <- score(net.dag, dataset |> mutate_all(as_factor) |> as.data.frame()) # network score\n",
    "    # Convert to matrix or return edge list\n",
    "    edge_matrix <- do.call(rbind, edges)\n",
    "    \n",
    "    end <- Sys.time()\n",
    "    execution_time <- difftime(time1 = end, time2 = start, units = \"secs\") \n",
    "    cat(\"\\nExecution Time:\", execution_time, \"s\")\n",
    "    \n",
    "    return(list('edges' = edge_matrix, \n",
    "                'dag' = net.dag,\n",
    "                'score' = net.score))\n",
    "}"
   ]
  },
  {
   "cell_type": "markdown",
   "id": "0f4d4c3f-494c-4d1a-8566-ba5e3286d4ed",
   "metadata": {
    "jp-MarkdownHeadingCollapsed": true
   },
   "source": [
    "## Explorer Function"
   ]
  },
  {
   "cell_type": "markdown",
   "id": "fa191126-9920-4edc-af88-dc7cb5354ebe",
   "metadata": {},
   "source": [
    "IDEA: mandare run con diversi `n_permutations` e vedere come performa K2 + come cambia la rete (vedi 3.B del notebook 2 dei tizi)\n",
    "\n",
    "GIGI: in realtà essendo il sample randomico è chiaro che migliora con il numero di tentativi a meno di non avere subito la botta di culo, no? \n",
    "Io ho pensato che li facciamo andare tot ore e presentiamo quei risultati, che dici?"
   ]
  },
  {
   "cell_type": "code",
   "execution_count": null,
   "id": "4a75a4c7-fe20-424f-be1d-3fa000f39de6",
   "metadata": {
    "vscode": {
     "languageId": "r"
    }
   },
   "outputs": [],
   "source": [
    "explo_scorer_single <- function(dataset, n_permutations = 1000, upperbound=2) {\n",
    "  start <- Sys.time()\n",
    "  \n",
    "  set.seed(8)\n",
    "  cols <- colnames(dataset)\n",
    "  \n",
    "  ncols <- length(cols)\n",
    "  \n",
    "  if(ncols <= 7){\n",
    "    permutations <- permutations(n = ncols, r = ncols, v = cols)\n",
    "    row_limit <- nrow(permutations)\n",
    "  } else {\n",
    "    # Sample random permutations (shuffles) for large ncols\n",
    "    row_limit <- n_permutations\n",
    "  }\n",
    "\n",
    "  result <- k2(dataset, cols, upperbound = upperbound)\n",
    "  best.dag <- list(result$dag)\n",
    "  best.score <- c(result$score)\n",
    "  best.order <- list(cols)\n",
    "  \n",
    "  for(i in 2:row_limit){\n",
    "    if(ncols <= 7){\n",
    "      row_permutation <- permutations[i, ]\n",
    "    } else {\n",
    "      row_permutation <- sample(cols, size = ncols, replace = FALSE)\n",
    "    }\n",
    "    result <- k2(dataset, row_permutation, upperbound=upperbound)\n",
    "    #if (result$score > best.score) {\n",
    "    #  best.dag <- result$dag\n",
    "    #  best.score <- result$score\n",
    "    #  best.order <- row_permutation\n",
    "    #}\n",
    "    best.dag[i] <- result$dag\n",
    "    best.score[i] <- result$score\n",
    "    best.order[i] <- row_permutation\n",
    "    #cat('Running iteration', i, \"\\n\")\n",
    "  }\n",
    "  max.score <- max(best.score)   # SOFIA\n",
    "  idx <- which.max(best.score)\n",
    "  \n",
    "  end <- Sys.time()\n",
    "  execution.time <- difftime(time1 = end, time2 = start, units = \"secs\")\n",
    "  #cat(\"\\nExecution Time:\", execution.time, \"s\\n\")\n",
    "  \n",
    "  # Return best.score or best ordering if needed\n",
    "  return(list('dag'=best.dag[[idx]], 'order'=best.order[[idx]], 'exec_time'=execution.time, \"score\" = max.score))  # SOFIA\n",
    "}\n",
    "\n",
    "explo_scorer <- function(dataset, n_permutations = 1000, upperbound=2) {\n",
    "  start <- Sys.time()\n",
    "  set.seed(8)\n",
    "  cols <- colnames(dataset)\n",
    "  ncols <- length(cols)\n",
    "  \n",
    "  if(ncols <= 7){\n",
    "    permutations <- permutations(n = ncols, r = ncols, v = cols)\n",
    "    row_limit <- nrow(permutations)\n",
    "    perm_list <- split(permutations, seq(nrow(permutations)))\n",
    "  } else {\n",
    "    row_limit <- n_permutations\n",
    "    perm_list <- lapply(1:row_limit, function(i) sample(cols, size = ncols, replace = FALSE))\n",
    "  }\n",
    "\n",
    "  # Parallel evaluation\n",
    "  results <- mclapply(perm_list, function(row_permutation) {\n",
    "    result <- k2(dataset, row_permutation, upperbound=upperbound)\n",
    "    list(dag = result$dag, score = result$score, order = row_permutation)\n",
    "  }, mc.cores = detectCores() - 1)\n",
    "\n",
    "  # Extract scores and find the best\n",
    "  scores <- sapply(results, function(x) x$score)\n",
    "  max.score <- max(scores)    #SOFIA\n",
    "  idx <- which.max(scores)\n",
    "  \n",
    "  end <- Sys.time()\n",
    "  execution.time <- difftime(time1 = end, time2 = start, units = \"secs\")\n",
    "  \n",
    "  return(list('dag' = results[[idx]]$dag, 'order' = results[[idx]]$order, 'exec_time' = execution.time, 'score' = max.score))  # SOFIA\n",
    "}"
   ]
  },
  {
   "cell_type": "code",
   "execution_count": null,
   "id": "3530407f-b9d9-405b-9a9a-4263423e88df",
   "metadata": {
    "vscode": {
     "languageId": "r"
    }
   },
   "outputs": [],
   "source": [
    "best.net <- function(data, n_permutations = 1000, upperbound=2, title) {\n",
    "    result <- explo_scorer(data, n_permutations, upperbound)\n",
    "    \n",
    "    result.dag <- result$dag\n",
    "    result.order <- result$order\n",
    "    result.exec.566time <- result$exec_time\n",
    "    result.score <- result$score\n",
    "    \n",
    "    #pdf(\"learned_network_plot.pdf\")\n",
    "    graphviz.plot(x = result.dag,\n",
    "                  highlight = NULL,\n",
    "                  layout = \"dot\",\n",
    "                  shape = \"circle\",\n",
    "                  fontsize = 12,\n",
    "                  main = paste(\"Bayesian Network Learned with K2\\nDataset:\", title),\n",
    "                  render = TRUE)\n",
    "    #dev.off()\n",
    "    \n",
    "    return(result)\n",
    "}"
   ]
  },
  {
   "cell_type": "markdown",
   "id": "e518fb1d-7ca8-448d-a390-2a872ea3e9d0",
   "metadata": {
    "jp-MarkdownHeadingCollapsed": true
   },
   "source": [
    "## Inspecting Dataset"
   ]
  },
  {
   "cell_type": "markdown",
   "id": "8331c854",
   "metadata": {
    "jp-MarkdownHeadingCollapsed": true
   },
   "source": [
    "### Ruiz Dataset"
   ]
  },
  {
   "cell_type": "code",
   "execution_count": null,
   "id": "1c6acdcb",
   "metadata": {
    "vscode": {
     "languageId": "r"
    }
   },
   "outputs": [],
   "source": [
    "ruiz.result <- best.net(dataset(\"ruiz\"), n_permutations = 1, upperbound = 2, \"Ruiz\")"
   ]
  },
  {
   "cell_type": "markdown",
   "id": "7a81e3ef-45a9-4f66-8270-c1f45fd59b3d",
   "metadata": {
    "jp-MarkdownHeadingCollapsed": true
   },
   "source": [
    "### Learning Dataset"
   ]
  },
  {
   "cell_type": "code",
   "execution_count": null,
   "id": "2a9f4b83-e8f7-4fc4-8a4f-3fca9fc78197",
   "metadata": {
    "vscode": {
     "languageId": "r"
    }
   },
   "outputs": [],
   "source": [
    "learning.result <- best.net(data = dataset(learning.test), n_permutations = 2000, upperbound = 2,\"learning.test\")"
   ]
  },
  {
   "cell_type": "markdown",
   "id": "eabdad36-35f0-42fb-b42b-aa2f10bd3dbd",
   "metadata": {
    "jp-MarkdownHeadingCollapsed": true
   },
   "source": [
    "### Asia Dataset"
   ]
  },
  {
   "cell_type": "code",
   "execution_count": null,
   "id": "e1391d39-54a9-4f40-b5bb-e6274089ff1f",
   "metadata": {
    "vscode": {
     "languageId": "r"
    }
   },
   "outputs": [],
   "source": [
    "asia.result <- best.net(data = dataset(asia()), n_permutations = 44000, upperbound = 2, \"Asia\")"
   ]
  },
  {
   "cell_type": "markdown",
   "id": "795b312e-9d65-44ba-8ba2-a8fe501ec1c0",
   "metadata": {
    "jp-MarkdownHeadingCollapsed": true
   },
   "source": [
    "### Child Dataset"
   ]
  },
  {
   "cell_type": "code",
   "execution_count": null,
   "id": "fc2c959a-6d1f-41df-b8e8-b04b6ed64c62",
   "metadata": {
    "vscode": {
     "languageId": "r"
    }
   },
   "outputs": [],
   "source": [
    "child.result <- best.net(data = dataset(child()), n_permutations = 10000, upperbound = 2. \"Child\")"
   ]
  },
  {
   "cell_type": "markdown",
   "id": "7f011767-0fc3-423f-b79e-b5a1565a3545",
   "metadata": {
    "jp-MarkdownHeadingCollapsed": true
   },
   "source": [
    "## Graphical Comparison"
   ]
  },
  {
   "cell_type": "code",
   "execution_count": null,
   "id": "434a656e-8327-4d9a-bf9b-c502e5239b83",
   "metadata": {
    "vscode": {
     "languageId": "r"
    }
   },
   "outputs": [],
   "source": [
    "ruiz.paper.dag <- model2network(\"[x1][x2|x1][x3|x2]\")\n",
    "learning.library.dag <- model2network(\"[A][C][F][B|A][D|A:C][E|B:F]\")\n",
    "asia.library.dag <- model2network(\"[Asia][Smoke][Tubercolosys|Asia][LungCancer|Smoke][Bronchitis|Smoke][Dyspnea|Bronchitis:Either][Either|Tubercolosys:LungCancer][X-ray|Either]\")\n",
    "child.model.string <- paste0(\n",
    "  \"[BirthAsphyxia][Disease|BirthAsphyxia][Sick|Disease][Age|Disease:Sick][DuctFlow|Disease]\",\n",
    "    \"[CardiacMixing|Disease][LungParench|Disease][LungFlow|Disease][LVH|Disease]\",\n",
    "    \"[Grunting|Sick:LungParench][HypDistrib|DuctFlow:CardiacMixing][HypoxiaInO2|CardiacMixing:LungParench][CO2|LungParench][ChestXray|LungParench:LungFlow][LVHReport|LVH]\",\n",
    "    \"[GruntingReport|Grunting][LowerBodyO2|HypDistrib:HypoxiaInO2][RUQO2|HypoxiaInO2][CO2Report|CO2][XrayReport|ChestXray]\")\n",
    "\n",
    "child.library.dag <- model2network(child.model.string)"
   ]
  },
  {
   "cell_type": "code",
   "execution_count": null,
   "id": "17cb9b4a",
   "metadata": {
    "vscode": {
     "languageId": "r"
    }
   },
   "outputs": [],
   "source": [
    "graphviz.compare(ruiz.paper.dag, ruiz.result$dag, shape=\"circle\")"
   ]
  },
  {
   "cell_type": "code",
   "execution_count": null,
   "id": "2cbdd792-e22a-4367-9f0e-a210e261f83e",
   "metadata": {
    "scrolled": true,
    "vscode": {
     "languageId": "r"
    }
   },
   "outputs": [],
   "source": [
    "graphviz.compare(learning.library.dag, learning.result$dag, shape = \"circle\")"
   ]
  },
  {
   "cell_type": "code",
   "execution_count": null,
   "id": "db2b617a-1325-4547-84ef-f7fee0dd498f",
   "metadata": {
    "scrolled": true,
    "vscode": {
     "languageId": "r"
    }
   },
   "outputs": [],
   "source": [
    "graphviz.compare(asia.library.dag, asia.result$dag, shape = \"circle\")"
   ]
  },
  {
   "cell_type": "code",
   "execution_count": null,
   "id": "518248e3-857d-47ca-89e6-8ad06fd9b3a3",
   "metadata": {
    "scrolled": true,
    "vscode": {
     "languageId": "r"
    }
   },
   "outputs": [],
   "source": [
    "graphviz.compare(child.library.dag, child.result$dag, shape = \"circle\")"
   ]
  },
  {
   "cell_type": "markdown",
   "id": "106ebf49-5001-4878-a8ee-644a76fa77d9",
   "metadata": {},
   "source": [
    "# Part 2: `bnlearn` library\n",
    "Implement and test the K2 algorithm with the test data sets ([3]). Compare the results with that obtained with the bnstruct R library [4]"
   ]
  },
  {
   "cell_type": "markdown",
   "id": "ef0f9cde-deb8-4cab-b399-9608fa74dc77",
   "metadata": {},
   "source": [
    "In this Section we show the results obtained by `MMHC` on available cases, `MMHC` on imputed data and `SEM`, with the `BDeu` and `BIC` scoring functions."
   ]
  },
  {
   "cell_type": "markdown",
   "id": "8c102758-cfc7-437f-a01c-0ff67a0ebb4a",
   "metadata": {
    "jp-MarkdownHeadingCollapsed": true
   },
   "source": [
    "## Useful functions"
   ]
  },
  {
   "cell_type": "markdown",
   "id": "fda464ff-8e00-4ae7-9ff4-5a99e4e108c5",
   "metadata": {},
   "source": [
    "Here we need **BNDataset** as input for the `learn.network` function. This function comes from `bnstruct` package, which works with **BN** and **BNDataset** objects, meanwhile `bnlearn` works with **bn** objects.<br>So here it is a function to convert **data frames** $\\rightarrow$ **BNDataset**"
   ]
  },
  {
   "cell_type": "code",
   "execution_count": null,
   "id": "7539db8b-1b30-4ebe-9512-4e62ed96d940",
   "metadata": {
    "vscode": {
     "languageId": "r"
    }
   },
   "outputs": [],
   "source": [
    "# from data.frame to BNDataset\n",
    "df.to.BND <- function(dataframe) {\n",
    "    df_name <- deparse(substitute(dataframe))  # to retrieve the name as a string\n",
    "    new.BNDataset <- BNDataset(data = dataframe,\n",
    "                          discreteness = rep(\"d\", ncol(dataframe)),\n",
    "                          variables = colnames(dataframe),\n",
    "                          node.sizes = c(sapply(dataframe, function(col) length(unique(col)))),\n",
    "                          starts.from = 0,  # otherwise it starts from 1 to |x| that here is also 1\n",
    "                          bndataset.name = paste0(df_name, \".dataset\"))\n",
    "    return(new.BNDataset)\n",
    "}                   "
   ]
  },
  {
   "cell_type": "markdown",
   "id": "8af75efb-1a06-452a-bca4-f0bbaa4ab9fe",
   "metadata": {},
   "source": [
    "**PROBLEM**: `learn.network` returns an object of class **BN** which is not compatible with `graphviz.plot()` from `bnlearn` (which - again - takes in input **bn** objects), so i used `plot` instead.<br>The alternative solution is to convert from **BN** $\\rightarrow$ **bn** manually extracting the adjacency matrix or arc list and rebuild the structure with `bnlearn` $\\Rightarrow$ too much *sbatti*, i don't like it and for me doesn't deserve the *pena*."
   ]
  },
  {
   "cell_type": "code",
   "execution_count": null,
   "id": "f9b5e82f-2604-4de6-adfb-54a8fa489bb6",
   "metadata": {
    "vscode": {
     "languageId": "r"
    }
   },
   "outputs": [],
   "source": [
    "learn_network <- function(dataset, impute = FALSE, bootstrap = FALSE, algo=\"mmhc\", score.fun=\"BDeu\") {     #takes in input BNDataset\n",
    "    start <- Sys.time()\n",
    "    \n",
    "    if (impute) {\n",
    "        message(\"Imputing dataset\")\n",
    "        dataset <- impute(dataset)\n",
    "    }\n",
    "      \n",
    "    if (impute && bootstrap) {\n",
    "        message(\"Learning network imputing NA, then bootstrap.\")\n",
    "        net <- learn.network(dataset, \n",
    "                             use.imputed.data = TRUE,\n",
    "                             bootstrap = TRUE, \n",
    "                             algo = algo,\n",
    "                             score.fun = score.fun)\n",
    "    } else if (impute) {\n",
    "        message(\"Learning network using imputed data.\")\n",
    "        net <- learn.network(dataset, \n",
    "                             use.imputed.data = TRUE,\n",
    "                             algo = algo,\n",
    "                             score.fun = score.fun)\n",
    "    } else if (bootstrap) {\n",
    "        message(\"Learning network using bootstrap.\")\n",
    "        net <- learn.network(dataset, \n",
    "                             bootstrap = TRUE,\n",
    "                             algo = algo,\n",
    "                             score.fun = score.fun)\n",
    "    } else {\n",
    "        message(\"Learning network using default method.\")\n",
    "        net <- learn.network(dataset,\n",
    "                             algo = algo,\n",
    "                             score.fun = score.fun)\n",
    "    }\n",
    "    \n",
    "    # grafichino\n",
    "    # if we want to be sboroni we can save the fig and add it to the presentation ;)\n",
    "    #pdf(\"learned_network_plot.pdf\")\n",
    "    plot(net)\n",
    "    #dev.off()\n",
    "    end <- Sys.time()\n",
    "    execution_time <- difftime(time1 = end, time2 = start, units = \"secs\") \n",
    "    cat(\"\\nExecution Time:\", execution_time, \"s\")\n",
    "        \n",
    "    return(net)\n",
    "}"
   ]
  },
  {
   "cell_type": "markdown",
   "id": "3154a237-1232-4863-b79a-f7ce3899d478",
   "metadata": {
    "jp-MarkdownHeadingCollapsed": true
   },
   "source": [
    "## Inspecting Dataset with `bnstruct`"
   ]
  },
  {
   "cell_type": "markdown",
   "id": "a0aca50e-e203-4ea5-89e0-0dc8adf79de0",
   "metadata": {
    "jp-MarkdownHeadingCollapsed": true
   },
   "source": [
    "### Ruiz Dataset"
   ]
  },
  {
   "cell_type": "markdown",
   "id": "6459960f-b1a2-420f-9d66-faab5b052815",
   "metadata": {},
   "source": [
    "All the params combinations are:\n",
    "| impute | bootstrap | algo | score.fun |\n",
    "|--------|-----------|------|-----------|\n",
    "| FALSE  | FALSE     | mmhc | BDeu      |\n",
    "| FALSE  | FALSE     | mmhc | BIC       |"
   ]
  },
  {
   "cell_type": "code",
   "execution_count": null,
   "id": "b568147c-c417-45b7-b302-d32f9dca0856",
   "metadata": {
    "vscode": {
     "languageId": "r"
    }
   },
   "outputs": [],
   "source": [
    "ruiz.dataset <- dataset(\"ruiz\") |> df.to.BND()"
   ]
  },
  {
   "cell_type": "code",
   "execution_count": null,
   "id": "861a0b94-8a95-418a-bc44-eeb254136d7d",
   "metadata": {
    "scrolled": true,
    "vscode": {
     "languageId": "r"
    }
   },
   "outputs": [
    {
     "data": {
      "image/png": "[encoded data removed]",
      "text/plain": [
       "plot without title"
      ]
     },
     "metadata": {
      "image/png": {
       "height": 420,
       "width": 420
      }
     },
     "output_type": "display_data"
    }
   ],
   "source": [
    "ruiz.net <- learn_network(dataset = ruiz.dataset, algo=\"mmhc\", score.fun=\"BDeu\")"
   ]
  },
  {
   "cell_type": "code",
   "execution_count": null,
   "id": "3ff2f06c-86b2-4805-900a-6bb7f23351aa",
   "metadata": {},
   "outputs": [],
   "source": [
    "ruiz.net <- learn_network(dataset = ruiz.dataset, algo=\"mmhc\", score.fun=\"BIC\")"
   ]
  },
  {
   "cell_type": "markdown",
   "id": "2443ac9b-43fa-4096-ad09-0020ce437f19",
   "metadata": {
    "jp-MarkdownHeadingCollapsed": true
   },
   "source": [
    "### learning.test Dataset"
   ]
  },
  {
   "cell_type": "markdown",
   "id": "a55a1c53-9015-44f6-8293-5411deba5ca7",
   "metadata": {},
   "source": [
    "All the params combinations are:\n",
    "| impute | bootstrap | algo | score.fun |\n",
    "|--------|-----------|------|-----------|\n",
    "| FALSE  | FALSE     | mmhc | BDeu      |\n",
    "| FALSE  | FALSE     | mmhc | BIC       |"
   ]
  },
  {
   "cell_type": "code",
   "execution_count": null,
   "id": "bacf362e-f696-42fe-98be-6b760e78cb89",
   "metadata": {
    "vscode": {
     "languageId": "r"
    }
   },
   "outputs": [],
   "source": [
    "learning.dataset <- data.frame(lapply(learning.test, function(col) as.integer(as.factor(col)) - 1)) |> df.to.BND()"
   ]
  },
  {
   "cell_type": "code",
   "execution_count": null,
   "id": "7083c439-18d6-4401-a25f-d3fb7a152394",
   "metadata": {
    "vscode": {
     "languageId": "r"
    }
   },
   "outputs": [
    {
     "data": {
      "image/png": "[encoded data removed]",
      "text/plain": [
       "plot without title"
      ]
     },
     "metadata": {
      "image/png": {
       "height": 420,
       "width": 420
      }
     },
     "output_type": "display_data"
    }
   ],
   "source": [
    "learning.net <- learn_network(dataset = learning.dataset, algo=\"mmhc\", score.fun=\"BDeu\")"
   ]
  },
  {
   "cell_type": "code",
   "execution_count": null,
   "id": "52a55fd8-b267-4dcc-b446-d5120be3e139",
   "metadata": {},
   "outputs": [],
   "source": [
    "learning.net <- learn_network(dataset = learning.dataset, algo=\"mmhc\", score.fun=\"BIC\")"
   ]
  },
  {
   "cell_type": "markdown",
   "id": "d721b571-6a01-4307-8e14-9757044bac9f",
   "metadata": {
    "jp-MarkdownHeadingCollapsed": true
   },
   "source": [
    "### Asia Dataset"
   ]
  },
  {
   "cell_type": "markdown",
   "id": "4bceeeb3-75f8-4efc-9a4e-2a6a43085f0d",
   "metadata": {},
   "source": [
    "All the params combinations are:\n",
    "| impute | bootstrap | algo | score.fun |\n",
    "|--------|-----------|------|-----------|\n",
    "| FALSE  | FALSE     | mmhc | BDeu      |\n",
    "| FALSE  | FALSE     | mmhc | BIC       |\n",
    "| FALSE   | TRUE     | mmhc | BDeu      |\n",
    "| FALSE   | TRUE     | mmhc | BIC       |\n"
   ]
  },
  {
   "cell_type": "code",
   "execution_count": null,
   "id": "fd9eb431-6ef8-4444-9e81-88986347ad2c",
   "metadata": {
    "vscode": {
     "languageId": "r"
    }
   },
   "outputs": [],
   "source": [
    "asia_net <- learn_network(dataset = asia(), impute = FALSE, bootstrap = FALSE, algo=\"mmhc\", score.fun=\"BDeu\")"
   ]
  },
  {
   "cell_type": "code",
   "execution_count": null,
   "id": "25a6b400-ab61-4e0f-82b9-6ef753cd20c9",
   "metadata": {},
   "outputs": [],
   "source": [
    "asia_net <- learn_network(dataset = asia(), impute = FALSE, bootstrap = FALSE, algo=\"mmhc\", score.fun=\"BIC\")"
   ]
  },
  {
   "cell_type": "markdown",
   "id": "4b27338e-b2f8-446d-bfa6-13bf4e49b521",
   "metadata": {},
   "source": [
    "Bootstrap on Asia dataset with $bootstrap = 10000$"
   ]
  },
  {
   "cell_type": "code",
   "execution_count": null,
   "id": "2e0d77f1-9ff4-4bc8-89a5-01b121239576",
   "metadata": {
    "vscode": {
     "languageId": "r"
    }
   },
   "outputs": [],
   "source": [
    "asia_bootstrapped <- bootstrap(asia(), num.boots= 10000, imputation = FALSE)"
   ]
  },
  {
   "cell_type": "code",
   "execution_count": null,
   "id": "8c3a11a2-93f2-40ca-bac6-f78f56fea743",
   "metadata": {
    "vscode": {
     "languageId": "r"
    }
   },
   "outputs": [],
   "source": [
    "asia_net <- learn_network(dataset =asia_bootstrapped , impute = FALSE, bootstrap = TRUE, algo=\"mmhc\", score.fun=\"BDeu\")"
   ]
  },
  {
   "cell_type": "code",
   "execution_count": null,
   "id": "f6352c41-646d-44aa-bcdc-c80dbe36a09e",
   "metadata": {
    "vscode": {
     "languageId": "r"
    }
   },
   "outputs": [],
   "source": [
    "asia_net <- learn_network(dataset =asia_bootstrapped , impute = FALSE, bootstrap = TRUE, algo=\"mmhc\", score.fun=\"BIC\")"
   ]
  },
  {
   "cell_type": "markdown",
   "id": "f4060856-dfee-4ea1-adf6-e565c286e3df",
   "metadata": {
    "jp-MarkdownHeadingCollapsed": true
   },
   "source": [
    "### Child Dataset"
   ]
  },
  {
   "cell_type": "markdown",
   "id": "9c4f393d-5512-4a8b-987c-bda495a3e4a0",
   "metadata": {},
   "source": [
    "All the params combinations are:\n",
    "| impute | bootstrap | algo | score.fun |\n",
    "|--------|-----------|------|-----------|\n",
    "| FALSE  | FALSE     | mmhc | BDeu      |\n",
    "| FALSE  | FALSE     | mmhc | BIC       |\n",
    "| FALSE  | FALSE     | sem  | BDeu      |\n",
    "| (FALSE)| TRUE      | mmhc | BDeu      |\n",
    "| (FALSE)| TRUE      | mmhc | BIC       |\n",
    "| (FALSE)| TRUE      | sem  | BDeu      |\n",
    "\n",
    "(\"(FALSE)\" because when bootstrapping we're imputing too with `impute = TRUE` but in the `learn_network` we set `impute = FALSE`)"
   ]
  },
  {
   "cell_type": "code",
   "execution_count": null,
   "id": "59b11284-c42a-487e-ab53-0e7c1ae5c53d",
   "metadata": {
    "vscode": {
     "languageId": "r"
    }
   },
   "outputs": [],
   "source": [
    "child_net <- learn_network(dataset = child(), impute = FALSE, bootstrap = FALSE, algo=\"mmhc\", score.fun=\"BDeu\")"
   ]
  },
  {
   "cell_type": "raw",
   "id": "bce49df5-793d-4d31-ad28-6ebb801ccc66",
   "metadata": {},
   "source": [
    "child_net <- learn_network(dataset = child(), impute = FALSE, bootstrap = FALSE, algo=\"mmhc\", score.fun=\"BIC\")"
   ]
  },
  {
   "cell_type": "raw",
   "id": "500fb0d4-5012-455c-b4f2-16498e53fbd9",
   "metadata": {},
   "source": [
    "child_net <- learn_network(dataset = child(), impute = FALSE, bootstrap = FALSE, algo=\"sem\", score.fun=\"BDeu\")"
   ]
  },
  {
   "cell_type": "code",
   "execution_count": null,
   "id": "3f474b75-1e27-441a-bf9e-ae5174ea9c8a",
   "metadata": {
    "vscode": {
     "languageId": "r"
    }
   },
   "outputs": [],
   "source": [
    "child_bootstrapped <- bootstrap(child(), num.boots= 10000, imputation = TRUE)"
   ]
  },
  {
   "cell_type": "code",
   "execution_count": null,
   "id": "8c78d24e-c3d7-4d9f-bff3-fd8ad4fd0d9c",
   "metadata": {
    "vscode": {
     "languageId": "r"
    }
   },
   "outputs": [],
   "source": [
    "child_net <- learn_network(dataset = child_bootstrapped , impute = FALSE, bootstrap = TRUE, algo=\"mmhc\", score.fun=\"BDeu\")"
   ]
  },
  {
   "cell_type": "raw",
   "id": "551fb7cf-1ba1-405c-a2eb-af1445010731",
   "metadata": {},
   "source": [
    "child_net <- learn_network(dataset = child_bootstrapped , impute = FALSE, bootstrap = TRUE, algo=\"mmhc\", score.fun=\"BIC\")"
   ]
  },
  {
   "cell_type": "raw",
   "id": "ca7d884c-1360-4f25-acb5-8828536e52f7",
   "metadata": {
    "collapsed": true,
    "jupyter": {
     "outputs_hidden": true
    },
    "vscode": {
     "languageId": "r"
    }
   },
   "source": [
    "child_net <- learn_network(dataset = child_bootstrapped , impute = FALSE, bootstrap = TRUE, algo=\"sem\", score.fun=\"BDeu\")"
   ]
  }
 ],
 "metadata": {
  "kernelspec": {
   "display_name": "R",
   "language": "R",
   "name": "ir"
  },
  "language_info": {
   "codemirror_mode": "r",
   "file_extension": ".r",
   "mimetype": "text/x-r-source",
   "name": "R",
   "pygments_lexer": "r",
   "version": "4.5.0"
  }
 },
 "nbformat": 4,
 "nbformat_minor": 5
}
