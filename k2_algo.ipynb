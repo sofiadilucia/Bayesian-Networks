{
 "cells": [
  {
   "cell_type": "code",
   "execution_count": 197,
   "id": "dcf57ebb",
   "metadata": {
    "vscode": {
     "languageId": "r"
    }
   },
   "outputs": [],
   "source": [
    "library(bnlearn)\n",
    "library(Rgraphviz)\n",
    "#library(parallel)\n",
    "library(tidyverse)\n",
    "suppressWarnings(library(dplyr))\n",
    "#library(bnlearn) |> suppressPackageStartupMessages()\n",
    "#library(Rgraphviz) |> suppressPackageStartupMessages()\n",
    "#library(parallel) |> suppressPackageStartupMessages()\n",
    "#library(tidyverse) |> suppressPackageStartupMessages()\n",
    "#library(dplyr) |> suppressPackageStartupMessages()\n",
    "library(igraph) |> suppressPackageStartupMessages()\n",
    "#library(bnstruct) |> suppressPackageStartupMessages()\n",
    "\n",
    "### dataset needs to be preprocessed because  for example had values as factors. My functions does not work w/factorslearning.test"
   ]
  },
  {
   "cell_type": "markdown",
   "id": "da4d076f",
   "metadata": {},
   "source": [
    "Today i learnt that the k2 algorithm infers the dag, the directed acyclic graph, so the structure of the bayesian network from the dataset. Not from the fitted model. \n",
    "What i initially thought was that you happen to have a model and you want to reverse engineer that. "
   ]
  },
  {
   "cell_type": "code",
   "execution_count": 198,
   "id": "d67ca39a",
   "metadata": {
    "vscode": {
     "languageId": "r"
    }
   },
   "outputs": [],
   "source": [
    "factor_remover <- function(dataset) {\n",
    "    cols <- colnames(dataset)\n",
    "    for (i in seq_along(cols)) {\n",
    "        name <- cols[i]\n",
    "        dataset[[name]] <- as.character(dataset[[name]])\n",
    "    }\n",
    "    return(dataset)\n",
    "}\n"
   ]
  },
  {
   "cell_type": "code",
   "execution_count": 199,
   "id": "9730190d",
   "metadata": {
    "vscode": {
     "languageId": "r"
    }
   },
   "outputs": [],
   "source": [
    "\n",
    "\n",
    "node.values <- function(dataset, parents) {\n",
    "    # retrieves the unique values of the nodes\n",
    "    #return a list of vectors, \n",
    "    # each vector contains the unique values of the corresponding node\n",
    "    output <- list()\n",
    "    for (kk in seq_along(parents)) {\n",
    "        node <- parents[kk]\n",
    "        node.vals <- unique(dataset[[node]]) #it was levels()\n",
    "        output[[kk]] <- node.vals\n",
    "    }\n",
    "    return(output)\n",
    "}\n"
   ]
  },
  {
   "cell_type": "code",
   "execution_count": 200,
   "id": "f6a0a0b0",
   "metadata": {
    "vscode": {
     "languageId": "r"
    }
   },
   "outputs": [],
   "source": [
    "\n",
    "fastalphaijk <- function(i, pii, dataset, nodes.order, smooth=FALSE) {\n",
    "    actual_node <- nodes.order[i]\n",
    "    all.nodes <- c(pii, actual_node)\n",
    "    subset <- dataset[all.nodes]\n",
    "    unique.instantiations <- expand.grid(node.values(dataset, all.nodes))\n",
    "    colnames(unique.instantiations) <- colnames(subset)\n",
    "    subset.counted <- subset |> group_by(across(everything())) |> summarise(n = n(), .groups=\"drop\")\n",
    "    checking <-  left_join(unique.instantiations, subset.counted, by=colnames(subset), na_matches=\"na\")  |> arrange(across(-last_col()))\n",
    "    checking$n[is.na(checking$n)]<- 0\n",
    "    if (smooth) {\n",
    "        checking$n <- checking$n + 1   # SOFIA's laplace smoothing\n",
    "    } else {}\n",
    "    #cat(\"\\n\")\n",
    "    #print(checking)\n",
    "    #cat( \"\\n \\n\")\n",
    "    return(checking$n)\n",
    "}"
   ]
  },
  {
   "cell_type": "code",
   "execution_count": 201,
   "id": "c07e4e58",
   "metadata": {
    "vscode": {
     "languageId": "r"
    }
   },
   "outputs": [],
   "source": [
    "\n",
    "k2helper <- function(i, pii, dataset, nodes.order, log=TRUE) {\n",
    "    # the \"f\" function in the pdf\n",
    "    #cat(\"\\n------------------\\n\")\n",
    "    phi_i <- expand.grid(node.values(dataset, pii)) \n",
    "    #cat(\"\\nphi.i\")\n",
    "    #print( phi_i)\n",
    "    q_i <- dim(phi_i)[1] # works good\n",
    "    #cat(\"\\nqi.i\", q_i)\n",
    "    i.th.node <- nodes.order[i]\n",
    "    #cat(\"\\nithnode\", i.th.node)\n",
    "    v_i <- node.values(dataset, i.th.node)\n",
    "    #cat(\"\\nvi\")\n",
    "    #print(v_i)\n",
    "    r_i <- length(v_i[[1]])\n",
    "    #cat(\"\\nri\", r_i)\n",
    "    individual_alphas <- fastalphaijk(i, pii, dataset, nodes.order) # works good\n",
    "    #cat(\"\\nindividual alphas::\",individual_alphas)\n",
    "    aijk <- prod(factorial(individual_alphas)) ##\n",
    "    grouping_alphas <- matrix(individual_alphas, nrow=r_i) # to get the right Nijs\n",
    "    nij <- colSums(grouping_alphas)\n",
    "    #print(nij)\n",
    "    \n",
    "    produttoria_alpha <- prod(factorial(individual_alphas))\n",
    "    log_produttoria_alpha <- sum(lgamma(individual_alphas + 1))\n",
    "    log_numeratore <- lgamma(r_i) # r_i - 1 + 1 = r_i\n",
    "    numeratore <- factorial(r_i-1)\n",
    "    log_denominatore <- lgamma(nij + r_i) # nij + r_i - 1 + 1 = nij + r_i\n",
    "    denominatore <- factorial(nij+r_i-1)\n",
    "    log_out <- log_numeratore - log_denominatore + log_produttoria_alpha\n",
    "    out1 <- prod((numeratore/denominatore))*produttoria_alpha\n",
    "    out2 <- sum(log_out)\n",
    "    #cat(\"logout\", log_out)\n",
    "    ifelse(log, out <- out2, out<- out1)\n",
    "    #cat(\"\\nproduttoria_alpha\",produttoria_alpha )\n",
    "    #cat(\"\\nproduttoria_alpha\",produttoria_alpha )\n",
    "    #print(frazione)\n",
    "    return(out)\n",
    "}\n",
    "\n"
   ]
  },
  {
   "cell_type": "code",
   "execution_count": 202,
   "id": "aebd7749",
   "metadata": {
    "vscode": {
     "languageId": "r"
    }
   },
   "outputs": [],
   "source": [
    "\n",
    "k2 <- function(dataset, nodes.order, upperbound) {\n",
    "    start <- Sys.time()  # SOFIA\n",
    "    edges <- list()  # ← new: store edges here  SOFIA\n",
    "    nodes <- colnames(dataset)\n",
    "    for (i in seq_along(nodes.order)) {\n",
    "        actual_node <- nodes.order[i]\n",
    "        #cat(\"\\n\", i,\"\\n\")\n",
    "        pii <- c()\n",
    "        p.old <- k2helper(i, pii,dataset, nodes.order)\n",
    "        #cat(\"\\n \",p.old, \"\\n should be \", 1/2772)\n",
    "        proceed <- TRUE\n",
    "        #cat(\"\\ni::\",i, \"\\n\")\n",
    "        while (proceed && length(pii) < upperbound) {\n",
    "            predecessors_idx <- i-1\n",
    "            predecessors <- nodes.order[0:predecessors_idx]\n",
    "            #cat(\"\\npredecessors::\", predecessors, \" pii:: \", pii)\n",
    "            piiuz <- setdiff(predecessors, pii)\n",
    "            if (length(piiuz) > 1) {\n",
    "                daddy.s.probs <- c()\n",
    "                for (daddy in seq_along(piiuz)) {\n",
    "                    p.new <- k2helper(i, piiuz[daddy], dataset, nodes.order)\n",
    "                    daddy.s.probs <- c(daddy.s.probs, c(p.new))\n",
    "                }\n",
    "                p.new <- max(daddy.s.probs)\n",
    "                #cat(\"pnew\", p.new, \"pold\", p.old)\n",
    "                genitore <-  piiuz[daddy.s.probs == p.new]\n",
    "            } else {\n",
    "                p.new <- k2helper(i, piiuz, dataset, nodes.order)\n",
    "                genitore <- piiuz\n",
    "            }\n",
    "            #cat(\"\\npiiuz:: \",piiuz,\"\\np.old:: \", p.old, \"\\np.new:: \", p.new)    #edge_matrix <- do.call(rbind, edges)\n",
    "\n",
    "            #roof <- roof+1\n",
    "            if (p.new > p.old) {\n",
    "                p.old <- p.new\n",
    "                pii <- c(pii, genitore)\n",
    "                #ifelse(roof>length(nodes)^length(nodes), proceed <- FALSE, proceed <- TRUE)\n",
    "            } else  {\n",
    "                proceed <- FALSE\n",
    "            }\n",
    "        }\n",
    "        #cat('\\nNode', nodes.order[i], '--> Parents:', pii,'\\n') \n",
    "        \n",
    "        # Store edges: each pii is a parent of actual_node  SOFIA\n",
    "        if (length(pii) > 0) {\n",
    "            for (parent in pii) {\n",
    "                edges[[length(edges) + 1]] <- c(parent, actual_node, p.new)\n",
    "            }\n",
    "        }\n",
    "    }\n",
    "    end <- Sys.time()\n",
    "    execution_time <- difftime(time1 = end, time2 = start, units = \"secs\") \n",
    "    cat(\"\\nExecution Time:\", execution_time, \"s\")\n",
    "\n",
    "    # Convert to matrix or return edge list\n",
    "    edge_matrix <- do.call(rbind, edges)\n",
    "    return(edge_matrix)\n",
    "}\n"
   ]
  },
  {
   "cell_type": "code",
   "execution_count": 203,
   "id": "13b8374d",
   "metadata": {
    "vscode": {
     "languageId": "r"
    }
   },
   "outputs": [],
   "source": [
    "###Trial with Paper dataset\n",
    "#\n",
    "#df <- data.frame(x1=c(1,1,0,1,0,0,1,0,1,0), x2=c(0,1,0,1,0,1,1,0,1,0), x3=c(0,1,1,1,0,1,1,0,1,0))\n",
    "#k2(dataset=df, upperbound=2, nodes.order=colnames(df))\n"
   ]
  },
  {
   "cell_type": "code",
   "execution_count": 204,
   "id": "63a32090",
   "metadata": {
    "vscode": {
     "languageId": "r"
    }
   },
   "outputs": [],
   "source": [
    "\n",
    "## Trial w/ learning.test\n",
    "df <- learning.test\n",
    "#print(sapply(df, class))\n",
    "df <- factor_remover(df)\n",
    "#print(sapply(df, class))"
   ]
  },
  {
   "cell_type": "code",
   "execution_count": null,
   "id": "1d6e9576",
   "metadata": {
    "vscode": {
     "languageId": "r"
    }
   },
   "outputs": [
    {
     "data": {
      "text/html": [
       "<style>\n",
       ".list-inline {list-style: none; margin:0; padding: 0}\n",
       ".list-inline>li {display: inline-block}\n",
       ".list-inline>li:not(:last-child)::after {content: \"\\00b7\"; padding: 0 .5ex}\n",
       "</style>\n",
       "<ol class=list-inline><li>720</li><li>6</li></ol>\n"
      ],
      "text/latex": [
       "\\begin{enumerate*}\n",
       "\\item 720\n",
       "\\item 6\n",
       "\\end{enumerate*}\n"
      ],
      "text/markdown": [
       "1. 720\n",
       "2. 6\n",
       "\n",
       "\n"
      ],
      "text/plain": [
       "[1] 720   6"
      ]
     },
     "metadata": {},
     "output_type": "display_data"
    }
   ],
   "source": [
    "exploscorer <- function(dataset) {\n",
    "    \n",
    "    permutations <- \n",
    "}"
   ]
  },
  {
   "cell_type": "code",
   "execution_count": 211,
   "id": "57570ead",
   "metadata": {
    "vscode": {
     "languageId": "r"
    }
   },
   "outputs": [
    {
     "data": {
      "text/html": [
       "'data.frame'"
      ],
      "text/latex": [
       "'data.frame'"
      ],
      "text/markdown": [
       "'data.frame'"
      ],
      "text/plain": [
       "[1] \"data.frame\""
      ]
     },
     "metadata": {},
     "output_type": "display_data"
    }
   ],
   "source": [
    "class(df)"
   ]
  },
  {
   "cell_type": "code",
   "execution_count": 205,
   "id": "31be52f5",
   "metadata": {
    "vscode": {
     "languageId": "r"
    }
   },
   "outputs": [
    {
     "name": "stdout",
     "output_type": "stream",
     "text": [
      "\n",
      "Execution Time: 0.7749052 s"
     ]
    },
    {
     "data": {
      "text/html": [
       "<table class=\"dataframe\">\n",
       "<caption>A matrix: 5 × 3 of type chr</caption>\n",
       "<tbody>\n",
       "\t<tr><td>B</td><td>A</td><td>-5500.68559666216</td></tr>\n",
       "\t<tr><td>B</td><td>C</td><td>53756.6031284125 </td></tr>\n",
       "\t<tr><td>C</td><td>D</td><td>51207.9254108185 </td></tr>\n",
       "\t<tr><td>C</td><td>F</td><td>55155.9164153011 </td></tr>\n",
       "\t<tr><td>C</td><td>E</td><td>51079.9098403087 </td></tr>\n",
       "</tbody>\n",
       "</table>\n"
      ],
      "text/latex": [
       "A matrix: 5 × 3 of type chr\n",
       "\\begin{tabular}{lll}\n",
       "\t B & A & -5500.68559666216\\\\\n",
       "\t B & C & 53756.6031284125 \\\\\n",
       "\t C & D & 51207.9254108185 \\\\\n",
       "\t C & F & 55155.9164153011 \\\\\n",
       "\t C & E & 51079.9098403087 \\\\\n",
       "\\end{tabular}\n"
      ],
      "text/markdown": [
       "\n",
       "A matrix: 5 × 3 of type chr\n",
       "\n",
       "| B | A | -5500.68559666216 |\n",
       "| B | C | 53756.6031284125  |\n",
       "| C | D | 51207.9254108185  |\n",
       "| C | F | 55155.9164153011  |\n",
       "| C | E | 51079.9098403087  |\n",
       "\n"
      ],
      "text/plain": [
       "     [,1] [,2] [,3]             \n",
       "[1,] B    A    -5500.68559666216\n",
       "[2,] B    C    53756.6031284125 \n",
       "[3,] C    D    51207.9254108185 \n",
       "[4,] C    F    55155.9164153011 \n",
       "[5,] C    E    51079.9098403087 "
      ]
     },
     "metadata": {},
     "output_type": "display_data"
    }
   ],
   "source": [
    "edges <- k2(dataset=df, upperbound = 2, nodes.order = sample(colnames(df)))\n",
    "edges"
   ]
  },
  {
   "cell_type": "code",
   "execution_count": 206,
   "id": "7b466cd3",
   "metadata": {
    "vscode": {
     "languageId": "r"
    }
   },
   "outputs": [
    {
     "ename": "ERROR",
     "evalue": "Error in graph_from_edgelist(edges[1:2, ], directed = T): graph_from_edgelist expects a matrix with two columns\n",
     "output_type": "error",
     "traceback": [
      "Error in graph_from_edgelist(edges[1:2, ], directed = T): graph_from_edgelist expects a matrix with two columns\nTraceback:\n",
      "1. graph_from_edgelist(edges[1:2, ], directed = T)",
      "2. stop(\"graph_from_edgelist expects a matrix with two columns\")"
     ]
    }
   ],
   "source": [
    "# Convert to graph\n",
    "g <- graph_from_edgelist(edges[1:2,], directed = T)\n",
    "\n",
    "\n",
    "\n",
    "# Plot it\n",
    "plot(g,\n",
    "     vertex.color = \"white\",\n",
    "     vertex.size = 30,\n",
    "     edge.arrow.size = 0.5,\n",
    "     layout = layout_as_tree,\n",
    "     main = \"Bayesian Network\")"
   ]
  },
  {
   "cell_type": "code",
   "execution_count": null,
   "id": "9e793761",
   "metadata": {
    "vscode": {
     "languageId": "r"
    }
   },
   "outputs": [
    {
     "data": {
      "image/png": "[encoded data removed]",
      "text/plain": [
       "plot without title"
      ]
     },
     "metadata": {
      "image/png": {
       "height": 420,
       "width": 420
      }
     },
     "output_type": "display_data"
    }
   ],
   "source": [
    "dag = model2network(\"[A][C][F][B|A][D|A:C][E|B:F]\")\n",
    "graphviz.plot(dag)"
   ]
  },
  {
   "cell_type": "code",
   "execution_count": null,
   "id": "345bce53",
   "metadata": {
    "vscode": {
     "languageId": "r"
    }
   },
   "outputs": [
    {
     "name": "stdout",
     "output_type": "stream",
     "text": [
      "learning.test             package:bnlearn              R Documentation\n",
      "\n",
      "_\bS_\by_\bn_\bt_\bh_\be_\bt_\bi_\bc (_\bd_\bi_\bs_\bc_\br_\be_\bt_\be) _\bd_\ba_\bt_\ba _\bs_\be_\bt _\bt_\bo _\bt_\be_\bs_\bt _\bl_\be_\ba_\br_\bn_\bi_\bn_\bg _\ba_\bl_\bg_\bo_\br_\bi_\bt_\bh_\bm_\bs\n",
      "\n",
      "_\bD_\be_\bs_\bc_\br_\bi_\bp_\bt_\bi_\bo_\bn:\n",
      "\n",
      "     This a synthetic data set used as a test case in the ‘bnlearn’\n",
      "     package.\n",
      "\n",
      "_\bU_\bs_\ba_\bg_\be:\n",
      "\n",
      "     data(learning.test)\n",
      "     \n",
      "_\bF_\bo_\br_\bm_\ba_\bt:\n",
      "\n",
      "     The ‘learning.test’ data set contains the following variables:\n",
      "\n",
      "        • ‘A’, a three-level factor with levels ‘a’, ‘b’ and ‘c’.\n",
      "\n",
      "        • ‘B’, a three-level factor with levels ‘a’, ‘b’ and ‘c’.\n",
      "\n",
      "        • ‘C’, a three-level factor with levels ‘a’, ‘b’ and ‘c’.\n",
      "\n",
      "        • ‘D’, a three-level factor with levels ‘a’, ‘b’ and ‘c’.\n",
      "\n",
      "        • ‘E’, a three-level factor with levels ‘a’, ‘b’ and ‘c’.\n",
      "\n",
      "        • ‘F’, a two-level factor with levels ‘a’ and ‘b’.\n",
      "\n",
      "_\bN_\bo_\bt_\be:\n",
      "\n",
      "     The R script to generate data from this network is available from\n",
      "     <https://www.bnlearn.com/documentation/networks/>.\n",
      "\n",
      "_\bE_\bx_\ba_\bm_\bp_\bl_\be_\bs:\n",
      "\n",
      "     # load the data.\n",
      "     data(learning.test)\n",
      "     # create and plot the network structure.\n",
      "     dag = model2network(\"[A][C][F][B|A][D|A:C][E|B:F]\")\n",
      "     ## Not run: graphviz.plot(dag)\n",
      "     "
     ]
    }
   ],
   "source": [
    "?learning.test"
   ]
  },
  {
   "cell_type": "code",
   "execution_count": null,
   "id": "c455b940",
   "metadata": {
    "vscode": {
     "languageId": "r"
    }
   },
   "outputs": [],
   "source": []
  }
 ],
 "metadata": {
  "kernelspec": {
   "display_name": "R",
   "language": "R",
   "name": "ir"
  },
  "language_info": {
   "codemirror_mode": "r",
   "file_extension": ".r",
   "mimetype": "text/x-r-source",
   "name": "R",
   "pygments_lexer": "r",
   "version": "4.5.1"
  }
 },
 "nbformat": 4,
 "nbformat_minor": 5
}
