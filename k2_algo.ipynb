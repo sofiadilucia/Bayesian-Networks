{
 "cells": [
  {
   "cell_type": "code",
   "execution_count": 63,
   "id": "dcf57ebb",
   "metadata": {
    "vscode": {
     "languageId": "r"
    }
   },
   "outputs": [],
   "source": [
    "library(bnlearn)\n",
    "library(Rgraphviz)\n",
    "library(parallel)\n",
    "library(tidyverse)\n",
    "suppressWarnings(library(dplyr))\n",
    "no_cores <- detectCores()-1\n",
    "cl <- makeCluster(no_cores)\n",
    "### dataset needs to be preprocessed because  for example had values as factors. My functions does not work w/factorslearning.test"
   ]
  },
  {
   "cell_type": "markdown",
   "id": "da4d076f",
   "metadata": {},
   "source": [
    "Today i learnt that the k2 algorithm infers the dag, the directed acyclic graph, so the structure of the bayesian network from the dataset. Not from the fitted model. \n",
    "What i initially thought was that you happen to have a model and you want to reverse engineer that. "
   ]
  },
  {
   "cell_type": "code",
   "execution_count": 64,
   "id": "40d310fb",
   "metadata": {
    "vscode": {
     "languageId": "r"
    }
   },
   "outputs": [],
   "source": [
    "df <- data.frame(x1=c(1,1,0,1,0,0,1,0,1,0), x2=c(0,1,0,1,0,1,1,0,1,0), x3=c(0,1,1,1,0,1,1,0,1,0))"
   ]
  },
  {
   "cell_type": "code",
   "execution_count": 65,
   "id": "d67ca39a",
   "metadata": {
    "vscode": {
     "languageId": "r"
    }
   },
   "outputs": [],
   "source": [
    "node.values <- function(dataset, parents) {\n",
    "    # retrieves the unique values of the nodes\n",
    "    #return a list of vectors, \n",
    "    # each vector contains the unique values of the corresponding node\n",
    "    output <- list()\n",
    "    for (kk in seq_along(parents)) {\n",
    "        node <- parents[kk]\n",
    "        node.vals <- unique(dataset[[node]]) #it was levels()\n",
    "        output[[kk]] <- node.vals\n",
    "    }\n",
    "    return(output)\n",
    "}\n",
    "\n",
    "old.alphaijk <- function(i, pii, dataset, nodes.order) {\n",
    "    actual_node <- nodes.order[i]\n",
    "    all.nodes <- c(pii, actual_node)\n",
    "    subset <- dataset[all.nodes]\n",
    "    unique.instantiations <- expand.grid(node.values(dataset, all.nodes))\n",
    "    output <- c()\n",
    "    for (tracker in 1:dim(unique.instantiations)[1]){\n",
    "        aa <- 0\n",
    "        for (j in 1:dim(subset)[1]) {\n",
    "            ifelse(all(as.vector(unlist(subset[j,])) == as.vector(unlist(unique.instantiations[tracker,]))), aa <- aa +1, FALSE)\n",
    "        }\n",
    "        output <- c(output,aa)\n",
    "    }\n",
    "    return(output)\n",
    "}\n",
    "\n",
    "## OPtimized by copilot:\n",
    "fastalphaijk <- function(i, pii, dataset, nodes.order) {\n",
    "    actual_node <- nodes.order[i]\n",
    "    all.nodes <- c(pii, actual_node)\n",
    "    subset <- dataset[all.nodes]\n",
    "    unique.instantiations <- expand.grid(node.values(dataset, all.nodes))\n",
    "    colnames(unique.instantiations) <- colnames(subset)\n",
    "    subset.counted <- subset |> group_by(across(everything())) |> summarise(n = n(), .groups=\"drop\")\n",
    "    checking <-  left_join(unique.instantiations, subset.counted, by=colnames(subset), na_matches=\"na\") \n",
    "    checking[is.na(checking)]<- 0\n",
    "    return(checking$n)\n",
    "}\n",
    "\n",
    "\n",
    "k2helper <- function(i, pii, dataset, nodes.order) {\n",
    "    # the \"f\" function in the pdf\n",
    "    phi_i <- expand.grid(node.values(dataset, pii)) \n",
    "    #cat(\"phi.i\", phi_i)\n",
    "    q_i <- dim(phi_i)[1] # works good\n",
    "    #cat(\"qi.i\", q_i)\n",
    "    nodes <- colnames(dataset)\n",
    "    #cat(\"nodes\", nodes)\n",
    "    i.th.node <- nodes[i]\n",
    "    #cat(\"ithnode\", i.th.node)\n",
    "    v_i <- node.values(dataset, i.th.node)\n",
    "    #cat(\"vi\", c(v_i))\n",
    "    r_i <- length(v_i[[1]])\n",
    "    #cat(\"ri\", r_i)\n",
    "    individual_alphas <- fastalphaijk(i, pii, dataset, nodes.order) # works good\n",
    "    aijk <- prod(factorial(individual_alphas)) ##\n",
    "    numeratore <- factorial(r_i-1)\n",
    "    nij <- individual_alphas\n",
    "    print(nij)\n",
    "    nij <- nij + r_i-1\n",
    "    denominatore <- factorial(nij)\n",
    "    frazione <- numeratore/prod(denominatore)\n",
    "    #print(aijk)\n",
    "    #print(numeratore)\n",
    "    #print(frazione)\n",
    "    return(prod(frazione)* aijk)\n",
    "}\n",
    "\n",
    "k2 <- function(dataset, nodes.order, upperbound) {\n",
    "    nodes <- colnames(dataset)\n",
    "    for (i in seq_along(nodes.order)) {\n",
    "        actual_node <- nodes.order[i]\n",
    "        cat(\"\\n\", i,\"\\n\")\n",
    "        pii <- c()\n",
    "        p.old <- k2helper(i, pii,dataset, nodes.order)\n",
    "        cat(\"\\n \",p.old, \"\\n should be \", 1/2772)\n",
    "        proceed <- TRUE\n",
    "        roof <- 0\n",
    "        while (proceed && length(pii) < upperbound) {\n",
    "            predecessors_idx <- ifelse(i-1>=0, i-1, 0)\n",
    "            z <- nodes.order[1:predecessors_idx]\n",
    "            piiuz <- unique(pii,z)\n",
    "            p.new <- k2helper(i, piiuz, dataset, nodes.order)\n",
    "            roof <- roof+1\n",
    "            if (p.new >= p.old) {\n",
    "                p.old <- p.new\n",
    "                pii <- piiuz\n",
    "                ifelse(roof>length(nodes)^length(nodes), proceed <- FALSE, proceed <- TRUE)\n",
    "            } else  {\n",
    "                proceed <- FALSE\n",
    "            }\n",
    "        }\n",
    "        cat('\\nNode', nodes.order[i], '--> Parents:', pii,'\\n') \n",
    "    }\n",
    "    return(TRUE)\n",
    "}"
   ]
  },
  {
   "cell_type": "code",
   "execution_count": 66,
   "id": "13b8374d",
   "metadata": {
    "vscode": {
     "languageId": "r"
    }
   },
   "outputs": [
    {
     "name": "stdout",
     "output_type": "stream",
     "text": [
      "\n",
      " 1 \n",
      "[1] 5 5\n",
      "\n",
      "  0.02777778 \n",
      " should be  0.0003607504[1] 5 5\n",
      "[1] 5 5\n",
      "[1] 5 5\n",
      "[1] 5 5\n",
      "[1] 5 5\n",
      "[1] 5 5\n",
      "[1] 5 5\n",
      "[1] 5 5\n",
      "[1] 5 5\n",
      "[1] 5 5\n",
      "[1] 5 5\n",
      "[1] 5 5\n",
      "[1] 5 5\n",
      "[1] 5 5\n",
      "[1] 5 5\n",
      "[1] 5 5\n",
      "[1] 5 5\n",
      "[1] 5 5\n",
      "[1] 5 5\n",
      "[1] 5 5\n",
      "[1] 5 5\n",
      "[1] 5 5\n",
      "[1] 5 5\n",
      "[1] 5 5\n",
      "[1] 5 5\n",
      "[1] 5 5\n",
      "[1] 5 5\n",
      "[1] 5 5\n",
      "\n",
      "Node x1 --> Parents: \n",
      "\n",
      " 2 \n",
      "[1] 5 5\n",
      "\n",
      "  0.02777778 \n",
      " should be  0.0003607504[1] 5 5\n",
      "[1] 5 5\n",
      "[1] 5 5\n",
      "[1] 5 5\n",
      "[1] 5 5\n",
      "[1] 5 5\n",
      "[1] 5 5\n",
      "[1] 5 5\n",
      "[1] 5 5\n",
      "[1] 5 5\n",
      "[1] 5 5\n",
      "[1] 5 5\n",
      "[1] 5 5\n",
      "[1] 5 5\n",
      "[1] 5 5\n",
      "[1] 5 5\n",
      "[1] 5 5\n",
      "[1] 5 5\n",
      "[1] 5 5\n",
      "[1] 5 5\n",
      "[1] 5 5\n",
      "[1] 5 5\n",
      "[1] 5 5\n",
      "[1] 5 5\n",
      "[1] 5 5\n",
      "[1] 5 5\n",
      "[1] 5 5\n",
      "[1] 5 5\n",
      "\n",
      "Node x2 --> Parents: \n",
      "\n",
      " 3 \n",
      "[1] 4 6\n",
      "\n",
      "  0.02857143 \n",
      " should be  0.0003607504[1] 4 6\n",
      "[1] 4 6\n",
      "[1] 4 6\n",
      "[1] 4 6\n",
      "[1] 4 6\n",
      "[1] 4 6\n",
      "[1] 4 6\n",
      "[1] 4 6\n",
      "[1] 4 6\n",
      "[1] 4 6\n",
      "[1] 4 6\n",
      "[1] 4 6\n",
      "[1] 4 6\n",
      "[1] 4 6\n",
      "[1] 4 6\n",
      "[1] 4 6\n",
      "[1] 4 6\n",
      "[1] 4 6\n",
      "[1] 4 6\n",
      "[1] 4 6\n",
      "[1] 4 6\n",
      "[1] 4 6\n",
      "[1] 4 6\n",
      "[1] 4 6\n",
      "[1] 4 6\n",
      "[1] 4 6\n",
      "[1] 4 6\n",
      "[1] 4 6\n",
      "\n",
      "Node x3 --> Parents: \n"
     ]
    },
    {
     "data": {
      "text/html": [
       "TRUE"
      ],
      "text/latex": [
       "TRUE"
      ],
      "text/markdown": [
       "TRUE"
      ],
      "text/plain": [
       "[1] TRUE"
      ]
     },
     "metadata": {},
     "output_type": "display_data"
    }
   ],
   "source": [
    "k2(dataset=df, upperbound=3, nodes.order=colnames(df))"
   ]
  },
  {
   "cell_type": "code",
   "execution_count": null,
   "id": "6774cd1b",
   "metadata": {
    "vscode": {
     "languageId": "r"
    }
   },
   "outputs": [],
   "source": []
  }
 ],
 "metadata": {
  "kernelspec": {
   "display_name": "R",
   "language": "R",
   "name": "ir"
  },
  "language_info": {
   "codemirror_mode": "r",
   "file_extension": ".r",
   "mimetype": "text/x-r-source",
   "name": "R",
   "pygments_lexer": "r",
   "version": "4.5.1"
  }
 },
 "nbformat": 4,
 "nbformat_minor": 5
}
