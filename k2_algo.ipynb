{
 "cells": [
  {
   "cell_type": "code",
   "execution_count": 68,
   "id": "dcf57ebb",
   "metadata": {
    "vscode": {
     "languageId": "r"
    }
   },
   "outputs": [],
   "source": [
    "library(bnlearn) |> suppressPackageStartupMessages()\n",
    "library(Rgraphviz) |> suppressPackageStartupMessages()\n",
    "library(tidyverse) |> suppressPackageStartupMessages()\n",
    "library(gtools) |> suppressPackageStartupMessages()"
   ]
  },
  {
   "cell_type": "code",
   "execution_count": 11,
   "id": "d67ca39a",
   "metadata": {
    "vscode": {
     "languageId": "r"
    }
   },
   "outputs": [],
   "source": [
    "factor_remover <- function(dataset) {\n",
    "    cols <- colnames(dataset)\n",
    "    for (i in seq_along(cols)) {\n",
    "        name <- cols[i]\n",
    "        dataset[[name]] <- as.character(dataset[[name]])\n",
    "    }\n",
    "    return(dataset)\n",
    "}"
   ]
  },
  {
   "cell_type": "code",
   "execution_count": 6,
   "id": "9730190d",
   "metadata": {
    "vscode": {
     "languageId": "r"
    }
   },
   "outputs": [],
   "source": [
    "node.values <- function(dataset, parents) {\n",
    "    # retrieves the unique values of the nodes\n",
    "    #return a list of vectors, \n",
    "    # each vector contains the unique values of the corresponding node\n",
    "    output <- list()\n",
    "    for (kk in seq_along(parents)) {\n",
    "        node <- parents[kk]\n",
    "        node.vals <- unique(dataset[[node]]) #it was levels()\n",
    "        output[[kk]] <- node.vals\n",
    "    }\n",
    "    return(output)\n",
    "}"
   ]
  },
  {
   "cell_type": "code",
   "execution_count": 7,
   "id": "f6a0a0b0",
   "metadata": {
    "vscode": {
     "languageId": "r"
    }
   },
   "outputs": [],
   "source": [
    "fastalphaijk <- function(i, pii, dataset, nodes.order, smooth=FALSE) {\n",
    "    actual_node <- nodes.order[i]\n",
    "    all.nodes <- c(pii, actual_node)\n",
    "    subset <- dataset[all.nodes]\n",
    "    unique.instantiations <- expand.grid(node.values(dataset, all.nodes))\n",
    "    colnames(unique.instantiations) <- colnames(subset)\n",
    "    subset.counted <- subset |> group_by(across(everything())) |> summarise(n = n(), .groups=\"drop\")\n",
    "    checking <-  left_join(unique.instantiations, subset.counted, by=colnames(subset), na_matches=\"na\")  |> arrange(across(-last_col()))\n",
    "    checking$n[is.na(checking$n)]<- 0\n",
    "    if (smooth) {\n",
    "        checking$n <- checking$n + 1   # SOFIA's laplace smoothing\n",
    "    } else {}\n",
    "    #cat(\"\\n\")\n",
    "    #print(checking)\n",
    "    #cat( \"\\n \\n\")\n",
    "    return(checking$n)\n",
    "}"
   ]
  },
  {
   "cell_type": "code",
   "execution_count": 8,
   "id": "c07e4e58",
   "metadata": {
    "vscode": {
     "languageId": "r"
    }
   },
   "outputs": [],
   "source": [
    "k2helper <- function(i, pii, dataset, nodes.order, log=TRUE) {\n",
    "    # the \"f\" function in the pdf\n",
    "    #cat(\"\\n------------------\\n\")\n",
    "    phi_i <- expand.grid(node.values(dataset, pii)) \n",
    "    #cat(\"\\nphi.i\")\n",
    "    #print( phi_i)\n",
    "    q_i <- dim(phi_i)[1] # works good\n",
    "    #cat(\"\\nqi.i\", q_i)\n",
    "    i.th.node <- nodes.order[i]\n",
    "    #cat(\"\\nithnode\", i.th.node)\n",
    "    v_i <- node.values(dataset, i.th.node)\n",
    "    #cat(\"\\nvi\")\n",
    "    #print(v_i)\n",
    "    r_i <- length(v_i[[1]])\n",
    "    #cat(\"\\nri\", r_i)\n",
    "    individual_alphas <- fastalphaijk(i, pii, dataset, nodes.order) # works good\n",
    "    #cat(\"\\nindividual alphas::\",individual_alphas)\n",
    "    #aijk <- prod(factorial(individual_alphas)) ##\n",
    "    grouping_alphas <- matrix(individual_alphas, nrow=r_i) # to get the right Nijs\n",
    "    nij <- colSums(grouping_alphas)\n",
    "    #print(nij)\n",
    "    \n",
    "    produttoria_alpha <- prod(lfactorial(individual_alphas))\n",
    "    log_produttoria_alpha <- sum(lfactorial(individual_alphas))\n",
    "    log_numeratore <- sum(lfactorial(rep(r_i-1,q_i))) # r_i - 1 + 1 = r_i\n",
    "    numeratore <- factorial(r_i-1)\n",
    "    log_denominatore <- sum(lfactorial(nij + r_i-1)) # nij + r_i - 1 + 1 = nij + r_i\n",
    "    denominatore <- factorial(nij+r_i-1)\n",
    "    log_out <- log_numeratore - log_denominatore + log_produttoria_alpha\n",
    "    out1 <- prod((numeratore/denominatore))*produttoria_alpha\n",
    "    out2 <- sum(log_out)\n",
    "    #cat(\"logout\", log_out)\n",
    "    ifelse(log, out <- out2, out<- out1)\n",
    "    #cat(\"\\nproduttoria_alpha\",produttoria_alpha )\n",
    "    #cat(\"\\nproduttoria_alpha\",produttoria_alpha )\n",
    "    #print(frazione)\n",
    "    return(out)\n",
    "}"
   ]
  },
  {
   "cell_type": "code",
   "execution_count": 53,
   "id": "aebd7749",
   "metadata": {
    "vscode": {
     "languageId": "r"
    }
   },
   "outputs": [],
   "source": [
    "k2 <- function(dataset, nodes.order, upperbound) {\n",
    "    start <- Sys.time()  # SOFIA\n",
    "\n",
    "    nodes <- colnames(dataset)           # node names\n",
    "    net.dag <- empty.graph(nodes=nodes) # network DAG (Directed Acyclic Graph)\n",
    "    edges <- list()  # ← new: store edges here  SOFIA\n",
    "    \n",
    "    \n",
    "    for (i in seq_along(nodes.order)) {\n",
    "        actual_node <- nodes.order[i]\n",
    "        #cat(\"\\n\", i,\"\\n\")\n",
    "        pii <- c()\n",
    "        p.old <- k2helper(i, pii,dataset, nodes.order)\n",
    "        proceed <- TRUE\n",
    "        #cat(\"\\ni::\",i, \"\\n\")\n",
    "        p.new.container <- c()\n",
    "        while (proceed && length(pii) <= upperbound) {\n",
    "            predecessors_idx <- i-1\n",
    "            predecessors <- nodes.order[0:predecessors_idx]\n",
    "            #cat(\"\\npredecessors::\", predecessors, \" pii:: \", pii)\n",
    "            piiuz <- setdiff(predecessors, pii)\n",
    "            if (length(piiuz) > 1) {\n",
    "                daddy.s.probs <- c()\n",
    "                for (daddy in seq_along(piiuz)) {\n",
    "                    p.new <- k2helper(i, c(pii, piiuz[daddy]), dataset, nodes.order)\n",
    "                    daddy.s.probs <- c(daddy.s.probs, c(p.new))\n",
    "                }\n",
    "                p.new <- max(daddy.s.probs)\n",
    "                #cat(\"\\npnew\", p.new, \"pold\", p.old)\n",
    "                eventuale.genitore <-  piiuz[daddy.s.probs == p.new]\n",
    "            } else {\n",
    "                p.new <- k2helper(i, piiuz, dataset, nodes.order)\n",
    "                eventuale.genitore <- piiuz\n",
    "            }\n",
    "            #cat(\"\\npiiuz:: \",piiuz,\"\\np.old:: \", p.old, \"\\np.new:: \", p.new)    #edge_matrix <- do.call(rbind, edges)\n",
    "\n",
    "            #roof <- roof+1\n",
    "            if (p.new > p.old) {\n",
    "                p.old <- p.new\n",
    "                pii <- c(pii, eventuale.genitore)\n",
    "                p.new.container <- c(p.new.container, p.new)\n",
    "                net.dag <- set.arc(net.dag, from=eventuale.genitore, to=actual_node)\n",
    "                #ifelse(roof>length(nodes)^length(nodes), proceed <- FALSE, proceed <- TRUE)\n",
    "            } else  {\n",
    "                proceed <- FALSE\n",
    "            }\n",
    "        }\n",
    "        #cat('\\nNode', nodes.order[i], '--> Parents:', pii,'\\n') \n",
    "        \n",
    "        # Store edges: each pii is a parent of actual_node  SOFIA\n",
    "        if (length(pii) >= 0) {\n",
    "            for (iterator in seq_along(pii)) {\n",
    "                parent <- pii[iterator]\n",
    "                edges[[length(edges) + 1]] <- c(parent, actual_node)\n",
    "            }\n",
    "        }\n",
    "\n",
    "    }\n",
    "    \n",
    "    net.score <- score(net.dag, dataset |> mutate_all(as_factor) |> as.data.frame()) # network scor\n",
    "    # Convert to matrix or return edge list\n",
    "    edge_matrix <- do.call(rbind, edges)\n",
    "    \n",
    "    end <- Sys.time()\n",
    "    execution_time <- difftime(time1 = end, time2 = start, units = \"secs\") \n",
    "    cat(\"\\nExecution Time:\", execution_time, \"s\")\n",
    "    \n",
    "    return(list('edges' = edge_matrix, \n",
    "                'dag' = net.dag,\n",
    "                'score' = net.score))\n",
    "}"
   ]
  },
  {
   "cell_type": "markdown",
   "id": "0f4d4c3f-494c-4d1a-8566-ba5e3286d4ed",
   "metadata": {},
   "source": [
    "## Explorer Function"
   ]
  },
  {
   "cell_type": "code",
   "execution_count": 79,
   "id": "4a75a4c7-fe20-424f-be1d-3fa000f39de6",
   "metadata": {
    "vscode": {
     "languageId": "raw"
    }
   },
   "outputs": [],
   "source": [
    "explor_scorer <- function(dataset, n_permutations = 1000) {\n",
    "  start <- Sys.time()\n",
    "  \n",
    "  set.seed(8)\n",
    "  cols <- colnames(dataset)\n",
    "  \n",
    "  best.score <- -Inf\n",
    "  \n",
    "  ncols <- length(cols)\n",
    "  \n",
    "  if(ncols <= 7){\n",
    "    permutations <- permutations(n = ncols, r = ncols, v = cols)\n",
    "    row_limit <- nrow(permutations)\n",
    "  } else {\n",
    "    # Sample random permutations (shuffles) for large ncols\n",
    "    row_limit <- n_permutations\n",
    "  }\n",
    "  \n",
    "  for(i in 1:row_limit){\n",
    "    if(ncols <= 7){\n",
    "      row_permutation <- permutations[i, ]\n",
    "    } else {\n",
    "      row_permutation <- sample(cols, size = ncols, replace = FALSE)\n",
    "    }\n",
    "    \n",
    "    cat('Running iteration', i, \"\\n\")\n",
    "    \n",
    "    # Call your scoring function here with row_permutation as ordering\n",
    "    # score <- your_k2_score_function(dataset, ordering = row_permutation)\n",
    "    \n",
    "    # Update best.score if needed\n",
    "    # if(score > best.score) { best.score <- score }\n",
    "  }\n",
    "  \n",
    "  end <- Sys.time()\n",
    "  execution.time <- difftime(time1 = end, time2 = start, units = \"secs\")\n",
    "  cat(\"\\nExecution Time:\", execution.time, \"s\\n\")\n",
    "  \n",
    "  # Return best.score or best ordering if needed\n",
    "}\n"
   ]
  },
  {
   "cell_type": "code",
   "execution_count": 80,
   "id": "336d494b-7edb-4d42-adc9-169f479dffb6",
   "metadata": {},
   "outputs": [
    {
     "ename": "ERROR",
     "evalue": "Error in permutations(n = length(cols), r = length(cols), cols): bad value of n\n",
     "output_type": "error",
     "traceback": [
      "Error in permutations(n = length(cols), r = length(cols), cols): bad value of n\nTraceback:\n",
      "1. permutations(n = length(cols), r = length(cols), cols)",
      "2. stop(\"bad value of n\")",
      "3. .handleSimpleError(function (cnd) \n . {\n .     watcher$capture_plot_and_output()\n .     cnd <- sanitize_call(cnd)\n .     watcher$push(cnd)\n .     switch(on_error, continue = invokeRestart(\"eval_continue\"), \n .         stop = invokeRestart(\"eval_stop\"), error = NULL)\n . }, \"bad value of n\", base::quote(permutations(n = length(cols), \n .     r = length(cols), cols)))"
     ]
    }
   ],
   "source": [
    "explo_scorer(asia_dataset)"
   ]
  },
  {
   "cell_type": "code",
   "execution_count": null,
   "id": "44497081-4597-4ec4-8f24-29c660afd932",
   "metadata": {
    "vscode": {
     "languageId": "raw"
    }
   },
   "outputs": [
    {
     "ename": "ERROR",
     "evalue": "Error in exploscorer(df, upperbound): non trovo la funzione \"exploscorer\"\n",
     "output_type": "error",
     "traceback": [
      "Error in exploscorer(df, upperbound): non trovo la funzione \"exploscorer\"\nTraceback:\n"
     ]
    }
   ],
   "source": [
    "#order1 <- exploscorer_A(df, 2)\n",
    "upperbound <-3\n",
    "order <- exploscorer(df,upperbound)\n",
    "print(order)\n",
    "edges <- k2(dataset=df, upperbound = upperbound, nodes.order = order)\n",
    "#edges <- k2(dataset=df, upperbound = upperbound, nodes.order = c(\"A\", \"B\",\"C\", \"D\", \"E\", \"F\" ))"
   ]
  },
  {
   "cell_type": "markdown",
   "id": "7a81e3ef-45a9-4f66-8270-c1f45fd59b3d",
   "metadata": {},
   "source": [
    "## Learning Dataset"
   ]
  },
  {
   "cell_type": "code",
   "execution_count": 55,
   "id": "ef10b335-209a-4a2a-a5a7-970e2f7c70cd",
   "metadata": {
    "vscode": {
     "languageId": "r"
    }
   },
   "outputs": [
    {
     "name": "stdout",
     "output_type": "stream",
     "text": [
      "\n",
      "Execution Time: 0.732049 s\n",
      "score -24006.73"
     ]
    },
    {
     "data": {
      "image/png": "[encoded data removed]",
      "text/plain": [
       "plot without title"
      ]
     },
     "metadata": {
      "image/png": {
       "height": 420,
       "width": 420
      }
     },
     "output_type": "display_data"
    }
   ],
   "source": [
    "df <- learning.test\n",
    "#print(sapply(df, class))\n",
    "df <- factor_remover(df)\n",
    "\n",
    "learning_result <- k2(dataset=df, upperbound = 3, nodes.order = c(\"A\",\"B\",\"C\",\"D\",\"F\",\"E\"))\n",
    "edges <- learning_result$edges\n",
    "dag <- learning_result$dag\n",
    "score <- learning_result$score\n",
    "\n",
    "cat(\"\\nscore\", score)\n",
    "# Plot it\n",
    "graphviz.plot(dag)"
   ]
  },
  {
   "cell_type": "markdown",
   "id": "eabdad36-35f0-42fb-b42b-aa2f10bd3dbd",
   "metadata": {},
   "source": [
    "## Asia Dataset"
   ]
  },
  {
   "cell_type": "code",
   "execution_count": 48,
   "id": "c9731628",
   "metadata": {
    "vscode": {
     "languageId": "r"
    }
   },
   "outputs": [
    {
     "name": "stdout",
     "output_type": "stream",
     "text": [
      "[1] \"Asia\"         \"Tubercolosys\" \"Smoke\"        \"LungCancer\"   \"Bronchitis\"  \n",
      "[6] \"Either\"       \"X-ray\"        \"Dyspnea\"     \n",
      "\n",
      "  Random/Generated Bayesian network\n",
      "\n",
      "  model:\n",
      "   [Asia][LungCancer][Tubercolosys|Asia][Smoke|Asia][Bronchitis|LungCancer]\n",
      "   [Either|Tubercolosys:Bronchitis][X-ray|Either][Dyspnea|Smoke:Either]\n",
      "  nodes:                                 8 \n",
      "  arcs:                                  8 \n",
      "    undirected arcs:                     0 \n",
      "    directed arcs:                       8 \n",
      "  average markov blanket size:           2.50 \n",
      "  average neighbourhood size:            2.00 \n",
      "  average branching factor:              1.00 \n",
      "\n",
      "  generation algorithm:                  Empty \n",
      "\n",
      "\n",
      "Execution Time: 1.563676 s[1] \"bn\"\n"
     ]
    },
    {
     "data": {
      "image/png": "[encoded data removed]",
      "text/plain": [
       "plot without title"
      ]
     },
     "metadata": {
      "image/png": {
       "height": 420,
       "width": 420
      }
     },
     "output_type": "display_data"
    }
   ],
   "source": [
    "asia_dataset <- asia()\n",
    "asia_df <- as.data.frame(raw.data(asia_dataset))\n",
    "print(asia_dataset@variables)\n",
    "colnames(asia_df) <- asia_dataset@variables\n",
    "ordering_asia <- colnames(asia_df)[c(3,1,2,4,5,6,7,8)]\n",
    "asia_result <- k2(asia_df, upperbound=3, nodes.order=colnames(asia_df))\n",
    "\n",
    "edges <- asia_result$edges\n",
    "dag <- asia_result$dag\n",
    "\n",
    "# Plot it\n",
    "graphviz.plot(dag)"
   ]
  },
  {
   "cell_type": "markdown",
   "id": "795b312e-9d65-44ba-8ba2-a8fe501ec1c0",
   "metadata": {},
   "source": [
    "## Child Dataset"
   ]
  },
  {
   "cell_type": "code",
   "execution_count": 49,
   "id": "3609be01",
   "metadata": {
    "vscode": {
     "languageId": "r"
    }
   },
   "outputs": [
    {
     "name": "stdout",
     "output_type": "stream",
     "text": [
      "\n",
      "  Random/Generated Bayesian network\n",
      "\n",
      "  model:\n",
      "   [BirthAsphyxia][Disease|BirthAsphyxia][Age|Disease][LVH|Disease]\n",
      "   [DuctFlow|Disease][LungParench|Disease][CardiacMixing|Disease:DuctFlow]\n",
      "   [LungFlow|Disease:DuctFlow][Sick|Disease:Age][CO2|LungParench]\n",
      "   [LVHReport|Disease:LVH][HypDistrib|DuctFlow:CardiacMixing]\n",
      "   [HypoxiaInO2|CardiacMixing:LungParench][ChestXray|LungParench:LungFlow]\n",
      "   [Grunting|LungParench:Sick][CO2Report|LungParench:CO2]\n",
      "   [LowerBodyO2|HypDistrib:HypoxiaInO2][RUQO2|HypoxiaInO2][XrayReport|ChestXray]\n",
      "   [GruntingReport|Grunting]\n",
      "  nodes:                                 20 \n",
      "  arcs:                                  29 \n",
      "    undirected arcs:                     0 \n",
      "    directed arcs:                       29 \n",
      "  average markov blanket size:           3.30 \n",
      "  average neighbourhood size:            2.90 \n",
      "  average branching factor:              1.45 \n",
      "\n",
      "  generation algorithm:                  Empty \n",
      "\n",
      "\n",
      "Execution Time: 11.99713 s[1] \"bn\"\n"
     ]
    },
    {
     "data": {
      "image/png": "[encoded data removed]",
      "text/plain": [
       "plot without title"
      ]
     },
     "metadata": {
      "image/png": {
       "height": 420,
       "width": 420
      }
     },
     "output_type": "display_data"
    }
   ],
   "source": [
    "child_dataset <- child()\n",
    "child_df <- as.data.frame(raw.data(child_dataset))\n",
    "colnames(child_df) <- child_dataset@variables\n",
    "ordering_asia <- colnames(child_df)\n",
    "child_result <- k2(child_df, upperbound=3, nodes.order=colnames(child_df))\n",
    "\n",
    "edges <- child_result$edges\n",
    "dag <- child_result$dag\n",
    "#g <- graph_from_edgelist(edges, directed = TRUE)\n",
    "\n",
    "# Plot it\n",
    "graphviz.plot(dag)"
   ]
  },
  {
   "cell_type": "code",
   "execution_count": null,
   "id": "0cda3e32",
   "metadata": {
    "vscode": {
     "languageId": "r"
    }
   },
   "outputs": [],
   "source": []
  }
 ],
 "metadata": {
  "kernelspec": {
   "display_name": "R",
   "language": "R",
   "name": "ir"
  },
  "language_info": {
   "codemirror_mode": "r",
   "file_extension": ".r",
   "mimetype": "text/x-r-source",
   "name": "R",
   "pygments_lexer": "r",
   "version": "4.5.0"
  }
 },
 "nbformat": 4,
 "nbformat_minor": 5
}
