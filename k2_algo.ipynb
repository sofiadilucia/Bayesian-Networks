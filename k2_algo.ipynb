{
 "cells": [
  {
   "cell_type": "code",
   "execution_count": 9,
   "id": "dcf57ebb",
   "metadata": {
    "vscode": {
     "languageId": "r"
    }
   },
   "outputs": [],
   "source": [
    "library(bnlearn)\n",
    "library(Rgraphviz)\n",
    "library(parallel)\n",
    "library(tidyverse)\n",
    "suppressWarnings(library(dplyr))\n",
    "no_cores <- detectCores()-1\n",
    "cl <- makeCluster(no_cores)\n",
    "### dataset needs to be preprocessed because  for example had values as factors. My functions does not work w/factorslearning.test\n",
    "library(tictoc)"
   ]
  },
  {
   "cell_type": "markdown",
   "id": "da4d076f",
   "metadata": {},
   "source": [
    "Today i learnt that the k2 algorithm infers the dag, the directed acyclic graph, so the structure of the bayesian network from the dataset. Not from the fitted model. \n",
    "What i initially thought was that you happen to have a model and you want to reverse engineer that. "
   ]
  },
  {
   "cell_type": "code",
   "execution_count": null,
   "id": "791400e9-a35d-4517-981c-c1397a3a2d8a",
   "metadata": {
    "vscode": {
     "languageId": "r"
    }
   },
   "outputs": [],
   "source": [
    "node.values <- function(dataset, parents) {\n",
    "    # retrieves the unique values of the nodes\n",
    "    #return a list of vectors, \n",
    "    # each vector contains the unique values of the corresponding node\n",
    "    output <- list()\n",
    "    for (kk in seq_along(parents)) {\n",
    "        node <- parents[kk]\n",
    "        node.vals <- unique(dataset[[node]]) #it was levels()\n",
    "        output[[kk]] <- node.vals\n",
    "    }\n",
    "    return(output)\n",
    "}"
   ]
  },
  {
   "cell_type": "code",
   "execution_count": null,
   "id": "04687270-3709-4e7d-9dee-654294e1cf5b",
   "metadata": {
    "vscode": {
     "languageId": "r"
    }
   },
   "outputs": [],
   "source": []
  },
  {
   "cell_type": "code",
   "execution_count": null,
   "id": "55188cea-7ef5-4909-b55c-286f72367057",
   "metadata": {
    "vscode": {
     "languageId": "r"
    }
   },
   "outputs": [],
   "source": [
    "old.alphaijk <- function(i, pii, dataset, nodes.order) {\n",
    "    actual_node <- nodes.order[i]\n",
    "    all.nodes <- c(pii, actual_node)\n",
    "    subset <- dataset[all.nodes]\n",
    "    unique.instantiations <- expand.grid(node.values(dataset, all.nodes))\n",
    "    output <- c()\n",
    "    for (tracker in 1:dim(unique.instantiations)[1]){\n",
    "        aa <- 0\n",
    "        for (j in 1:dim(subset)[1]) {\n",
    "            ifelse(all(as.vector(unlist(subset[j,])) == as.vector(unlist(unique.instantiations[tracker,]))), aa <- aa +1, FALSE)\n",
    "        }\n",
    "        output <- c(output,aa)\n",
    "    }\n",
    "    return(output)\n",
    "}"
   ]
  },
  {
   "cell_type": "code",
   "execution_count": null,
   "id": "2570275b-21c1-4139-bedc-8acd6b9bf523",
   "metadata": {
    "vscode": {
     "languageId": "r"
    }
   },
   "outputs": [],
   "source": [
    "fastalphaijk <- function(i, pii, dataset, nodes.order) {\n",
    "    actual_node <- nodes.order[i]\n",
    "    all.nodes <- c(pii, actual_node)\n",
    "    subset <- dataset[all.nodes]\n",
    "    unique.instantiations <- expand.grid(node.values(dataset, all.nodes))\n",
    "    colnames(unique.instantiations) <- colnames(subset)\n",
    "    subset.counted <- subset |> group_by(across(everything())) |> summarise(n = n(), .groups=\"drop\")\n",
    "    checking <-  left_join(unique.instantiations, subset.counted, by=colnames(subset), na_matches=\"na\")  |> arrange(across(-last_col()))\n",
    "    checking[is.na(checking)]<- 0\n",
    "    #print(checking)\n",
    "    return(checking$n)\n",
    "}"
   ]
  },
  {
   "cell_type": "code",
   "execution_count": null,
   "id": "9f16be1d-8aae-4f5d-a874-a8f452d71517",
   "metadata": {
    "vscode": {
     "languageId": "r"
    }
   },
   "outputs": [],
   "source": [
    "k2helper <- function(i, pii, dataset, nodes.order) {\n",
    "    # the \"f\" function in the pdf\n",
    "    phi_i <- expand.grid(node.values(dataset, pii)) \n",
    "    #cat(\"\\nphi.i\")\n",
    "    #print( phi_i)\n",
    "    q_i <- dim(phi_i)[1] # works good\n",
    "    #cat(\"\\nqi.i\", q_i)\n",
    "    nodes <- colnames(dataset)\n",
    "    #cat(\"\\nnodes\", nodes)\n",
    "    i.th.node <- nodes[i]\n",
    "    #cat(\"\\nithnode\", i.th.node)\n",
    "    v_i <- node.values(dataset, i.th.node)\n",
    "    #cat(\"\\nvi\")\n",
    "    #print( c(v_i))\n",
    "    r_i <- length(v_i[[1]])\n",
    "    #cat(\"ri\", r_i)\n",
    "    individual_alphas <- fastalphaijk(i, pii, dataset, nodes.order) # works good\n",
    "    #cat(\"\\nindividual alphas::\",individual_alphas)\n",
    "    aijk <- prod(factorial(individual_alphas)) ##\n",
    "    #numeratore <- factorial(r_i-1)\n",
    "    grouping_alphas <- matrix(individual_alphas, nrow=r_i) # to get the right Nijs\n",
    "    nij <- colSums(grouping_alphas)\n",
    "    #print(nij)\n",
    "    produttoria_alpha <- prod(factorial(individual_alphas))\n",
    "    numeratore <- factorial(r_i-1)\n",
    "    denominatore <- factorial(nij+r_i-1)\n",
    "    out <- prod((numeratore/denominatore))*produttoria_alpha\n",
    "    #cat(\"\\nproduttoria_alpha\",produttoria_alpha )\n",
    "    #cat(\"\\nproduttoria_alpha\",produttoria_alpha )\n",
    "    #print(frazione)\n",
    "    return(out)\n",
    "}"
   ]
  },
  {
   "cell_type": "code",
   "execution_count": 19,
   "id": "19c448e4-bcde-4f80-af22-1aa29bcea101",
   "metadata": {
    "vscode": {
     "languageId": "r"
    }
   },
   "outputs": [],
   "source": [
    "k2 <- function(dataset, nodes.order, upperbound) {\n",
    "    start <- Sys.time()\n",
    "\n",
    "    edges <- list()  # ← new: store edges here\n",
    "    \n",
    "    nodes <- colnames(dataset)\n",
    "    for (i in seq_along(nodes.order)) {\n",
    "        actual_node <- nodes.order[i]\n",
    "        #cat(\"\\n\", i,\"\\n\")\n",
    "        pii <- c()\n",
    "        p.old <- k2helper(i, pii,dataset, nodes.order)\n",
    "        #cat(\"\\n \",p.old, \"\\n should be \", 1/2772)\n",
    "        proceed <- TRUE\n",
    "        cat(\"\\ni::\",i, \"\\n\")\n",
    "        while (proceed && length(pii) < upperbound) {\n",
    "            predecessors_idx <- i-1\n",
    "            predecessors <- nodes.order[0:predecessors_idx]\n",
    "            cat(\"\\npredecessors::\", predecessors, \" pii:: \", pii)\n",
    "            piiuz <- setdiff(predecessors, pii)\n",
    "            if (length(piiuz) > 1) {\n",
    "                daddy.s.probs <- c()\n",
    "                for (daddy in seq_along(piiuz)) {\n",
    "                    p.new <- k2helper(i, piiuz[daddy], dataset, nodes.order)\n",
    "                    daddy.s.probs <- c(daddy.s.probs, p.new)\n",
    "                }\n",
    "                p.new <- max(daddy.s.probs)\n",
    "                genitore <-  piiuz[daddy.s.probs == p.new]\n",
    "            } else {\n",
    "                p.new <- k2helper(i, piiuz, dataset, nodes.order)\n",
    "                genitore <- piiuz\n",
    "            }\n",
    "            cat(\"\\npiiuz:: \",piiuz,\"\\np.old:: \", p.old, \"\\np.new:: \", p.new)\n",
    "            #roof <- roof+1\n",
    "            if (p.new > p.old) {\n",
    "                p.old <- p.new\n",
    "                pii <- c(pii, genitore)\n",
    "                #ifelse(roof>length(nodes)^length(nodes), proceed <- FALSE, proceed <- TRUE)\n",
    "            } else  {\n",
    "                proceed <- FALSE\n",
    "            }\n",
    "        }\n",
    "        cat('\\nNode', nodes.order[i], '--> Parents:', pii,'\\n') \n",
    "\n",
    "        # Store edges: each pii is a parent of actual_node\n",
    "        if (length(pii) > 0) {\n",
    "            for (parent in pii) {\n",
    "                edges[[length(edges) + 1]] <- c(parent, actual_node)\n",
    "            }\n",
    "        }\n",
    "    }\n",
    "\n",
    "    end <- Sys.time()\n",
    "    execution_time <- difftime(time1 = end, time2 = start, units = \"secs\") \n",
    "    cat(\"\\nExecution Time:\", execution_time, \"s\")\n",
    "\n",
    "    # Convert to matrix or return edge list\n",
    "    edge_matrix <- do.call(rbind, edges)\n",
    "    return(edge_matrix)\n",
    "    \n",
    "    #return(TRUE)\n",
    "}"
   ]
  },
  {
   "cell_type": "code",
   "execution_count": 25,
   "id": "13b8374d",
   "metadata": {
    "vscode": {
     "languageId": "r"
    }
   },
   "outputs": [
    {
     "name": "stdout",
     "output_type": "stream",
     "text": [
      "\n",
      "i:: 1 \n",
      "\n",
      "predecessors::   pii:: \n",
      "piiuz::   \n",
      "p.old::  0.0003607504 \n",
      "p.new::  0.0003607504\n",
      "Node x1 --> Parents: \n",
      "\n",
      "i:: 2 \n",
      "\n",
      "predecessors:: x1  pii:: \n",
      "piiuz::  x1 \n",
      "p.old::  0.0003607504 \n",
      "p.new::  0.001111111\n",
      "predecessors:: x1  pii::  x1\n",
      "piiuz::   \n",
      "p.old::  0.001111111 \n",
      "p.new::  0.0003607504\n",
      "Node x2 --> Parents: x1 \n",
      "\n",
      "i:: 3 \n",
      "\n",
      "predecessors:: x1 x2  pii:: \n",
      "piiuz::  x1 x2 \n",
      "p.old::  0.0004329004 \n",
      "p.new::  0.005555556\n",
      "predecessors:: x1 x2  pii::  x2\n",
      "piiuz::  x1 \n",
      "p.old::  0.005555556 \n",
      "p.new::  0.0005555556\n",
      "Node x3 --> Parents: x2 \n",
      "\n",
      "Execution Time: 0.210227 s"
     ]
    },
    {
     "data": {
      "image/png": "[encoded data removed]",
      "text/plain": [
       "Plot with title \"Bayesian Network (K2 Output)\""
      ]
     },
     "metadata": {
      "image/png": {
       "height": 420,
       "width": 420
      }
     },
     "output_type": "display_data"
    }
   ],
   "source": [
    "df <- data.frame(x1=c(1,1,0,1,0,0,1,0,1,0), x2=c(0,1,0,1,0,1,1,0,1,0), x3=c(0,1,1,1,0,1,1,0,1,0))\n",
    "\n",
    "edges <- k2(dataset=df, upperbound=2, nodes.order=colnames(df))\n",
    "\n",
    "# Convert to graph\n",
    "g <- graph_from_edgelist(edges, directed = TRUE)\n",
    "\n",
    "# Plot it\n",
    "plot(g,\n",
    "     vertex.color = \"white\",\n",
    "     vertex.size = 30,\n",
    "     edge.arrow.size = 0.5,\n",
    "     layout = layout_as_tree,\n",
    "     main = \"Bayesian Network\")"
   ]
  },
  {
   "cell_type": "code",
   "execution_count": 52,
   "id": "c385ae0b-5cf4-4143-9d71-efbec212ba50",
   "metadata": {},
   "outputs": [
    {
     "data": {
      "text/html": [
       "<style>\n",
       ".list-inline {list-style: none; margin:0; padding: 0}\n",
       ".list-inline>li {display: inline-block}\n",
       ".list-inline>li:not(:last-child)::after {content: \"\\00b7\"; padding: 0 .5ex}\n",
       "</style>\n",
       "<ol class=list-inline><li>'asia'</li><li>'tub'</li><li>'smoke'</li><li>'lung'</li><li>'bronc'</li><li>'either'</li><li>'xray'</li><li>'dysp'</li></ol>\n"
      ],
      "text/latex": [
       "\\begin{enumerate*}\n",
       "\\item 'asia'\n",
       "\\item 'tub'\n",
       "\\item 'smoke'\n",
       "\\item 'lung'\n",
       "\\item 'bronc'\n",
       "\\item 'either'\n",
       "\\item 'xray'\n",
       "\\item 'dysp'\n",
       "\\end{enumerate*}\n"
      ],
      "text/markdown": [
       "1. 'asia'\n",
       "2. 'tub'\n",
       "3. 'smoke'\n",
       "4. 'lung'\n",
       "5. 'bronc'\n",
       "6. 'either'\n",
       "7. 'xray'\n",
       "8. 'dysp'\n",
       "\n",
       "\n"
      ],
      "text/plain": [
       "[1] \"asia\"   \"tub\"    \"smoke\"  \"lung\"   \"bronc\"  \"either\" \"xray\"   \"dysp\"  "
      ]
     },
     "metadata": {},
     "output_type": "display_data"
    },
    {
     "data": {
      "text/html": [
       "<table class=\"dataframe\">\n",
       "<caption>A tibble: 6 × 8</caption>\n",
       "<thead>\n",
       "\t<tr><th scope=col>asia</th><th scope=col>tub</th><th scope=col>smoke</th><th scope=col>lung</th><th scope=col>bronc</th><th scope=col>either</th><th scope=col>xray</th><th scope=col>dysp</th></tr>\n",
       "\t<tr><th scope=col>&lt;chr&gt;</th><th scope=col>&lt;chr&gt;</th><th scope=col>&lt;chr&gt;</th><th scope=col>&lt;chr&gt;</th><th scope=col>&lt;chr&gt;</th><th scope=col>&lt;chr&gt;</th><th scope=col>&lt;chr&gt;</th><th scope=col>&lt;chr&gt;</th></tr>\n",
       "</thead>\n",
       "<tbody>\n",
       "\t<tr><td>no</td><td>no</td><td>no </td><td>no</td><td>no </td><td>no</td><td>no</td><td>yes</td></tr>\n",
       "\t<tr><td>no</td><td>no</td><td>yes</td><td>no</td><td>no </td><td>no</td><td>no</td><td>no </td></tr>\n",
       "\t<tr><td>no</td><td>no</td><td>no </td><td>no</td><td>no </td><td>no</td><td>no</td><td>no </td></tr>\n",
       "\t<tr><td>no</td><td>no</td><td>yes</td><td>no</td><td>no </td><td>no</td><td>no</td><td>no </td></tr>\n",
       "\t<tr><td>no</td><td>no</td><td>yes</td><td>no</td><td>yes</td><td>no</td><td>no</td><td>yes</td></tr>\n",
       "\t<tr><td>no</td><td>no</td><td>yes</td><td>no</td><td>no </td><td>no</td><td>no</td><td>no </td></tr>\n",
       "</tbody>\n",
       "</table>\n"
      ],
      "text/latex": [
       "A tibble: 6 × 8\n",
       "\\begin{tabular}{llllllll}\n",
       " asia & tub & smoke & lung & bronc & either & xray & dysp\\\\\n",
       " <chr> & <chr> & <chr> & <chr> & <chr> & <chr> & <chr> & <chr>\\\\\n",
       "\\hline\n",
       "\t no & no & no  & no & no  & no & no & yes\\\\\n",
       "\t no & no & yes & no & no  & no & no & no \\\\\n",
       "\t no & no & no  & no & no  & no & no & no \\\\\n",
       "\t no & no & yes & no & no  & no & no & no \\\\\n",
       "\t no & no & yes & no & yes & no & no & yes\\\\\n",
       "\t no & no & yes & no & no  & no & no & no \\\\\n",
       "\\end{tabular}\n"
      ],
      "text/markdown": [
       "\n",
       "A tibble: 6 × 8\n",
       "\n",
       "| asia &lt;chr&gt; | tub &lt;chr&gt; | smoke &lt;chr&gt; | lung &lt;chr&gt; | bronc &lt;chr&gt; | either &lt;chr&gt; | xray &lt;chr&gt; | dysp &lt;chr&gt; |\n",
       "|---|---|---|---|---|---|---|---|\n",
       "| no | no | no  | no | no  | no | no | yes |\n",
       "| no | no | yes | no | no  | no | no | no  |\n",
       "| no | no | no  | no | no  | no | no | no  |\n",
       "| no | no | yes | no | no  | no | no | no  |\n",
       "| no | no | yes | no | yes | no | no | yes |\n",
       "| no | no | yes | no | no  | no | no | no  |\n",
       "\n"
      ],
      "text/plain": [
       "  asia tub smoke lung bronc either xray dysp\n",
       "1 no   no  no    no   no    no     no   yes \n",
       "2 no   no  yes   no   no    no     no   no  \n",
       "3 no   no  no    no   no    no     no   no  \n",
       "4 no   no  yes   no   no    no     no   no  \n",
       "5 no   no  yes   no   yes   no     no   yes \n",
       "6 no   no  yes   no   no    no     no   no  "
      ]
     },
     "metadata": {},
     "output_type": "display_data"
    }
   ],
   "source": [
    "asia <- read_csv('https://www.ccd.pitt.edu/wiki/images/ASIA10k.csv', show_col_types = FALSE)\n",
    "colnames(asia)\n",
    "head(asia)"
   ]
  },
  {
   "cell_type": "code",
   "execution_count": 53,
   "id": "6f6f41a7-1b33-41c0-abd9-679d1608fc5c",
   "metadata": {},
   "outputs": [
    {
     "name": "stdout",
     "output_type": "stream",
     "text": [
      "\n",
      "i:: 1 \n",
      "\n",
      "predecessors::   pii:: \n",
      "piiuz::   \n",
      "p.old::  NaN \n",
      "p.new::  NaN"
     ]
    },
    {
     "ename": "ERROR",
     "evalue": "Error in if (p.new > p.old) {: valore mancante dove è richiesto TRUE/FALSE\n",
     "output_type": "error",
     "traceback": [
      "Error in if (p.new > p.old) {: valore mancante dove è richiesto TRUE/FALSE\nTraceback:\n",
      "1. .handleSimpleError(function (cnd) \n . {\n .     watcher$capture_plot_and_output()\n .     cnd <- sanitize_call(cnd)\n .     watcher$push(cnd)\n .     switch(on_error, continue = invokeRestart(\"eval_continue\"), \n .         stop = invokeRestart(\"eval_stop\"), error = NULL)\n . }, \"valore mancante dove è richiesto TRUE/FALSE\", base::quote(if (p.new > \n .     p.old) {\n .     p.old <- p.new\n .     pii <- c(pii, genitore)\n . } else {\n .     proceed <- FALSE\n . }))"
     ]
    }
   ],
   "source": [
    "edges <- k2(dataset=asia, upperbound=2, nodes.order=colnames(asia))"
   ]
  },
  {
   "cell_type": "code",
   "execution_count": 49,
   "id": "1660a782-2789-44a3-ba00-828e8425de18",
   "metadata": {},
   "outputs": [
    {
     "data": {
      "text/plain": [
       "NULL"
      ]
     },
     "metadata": {},
     "output_type": "display_data"
    }
   ],
   "source": [
    "edges"
   ]
  },
  {
   "cell_type": "code",
   "execution_count": 39,
   "id": "3a3b9091-f072-447d-958f-ba630a6e6725",
   "metadata": {},
   "outputs": [
    {
     "ename": "ERROR",
     "evalue": "Error in graph_from_edgelist(edges, directed = TRUE): graph_from_edgelist expects a matrix with two columns\n",
     "output_type": "error",
     "traceback": [
      "Error in graph_from_edgelist(edges, directed = TRUE): graph_from_edgelist expects a matrix with two columns\nTraceback:\n",
      "1. stop(\"graph_from_edgelist expects a matrix with two columns\")",
      "2. .handleSimpleError(function (cnd) \n . {\n .     watcher$capture_plot_and_output()\n .     cnd <- sanitize_call(cnd)\n .     watcher$push(cnd)\n .     switch(on_error, continue = invokeRestart(\"eval_continue\"), \n .         stop = invokeRestart(\"eval_stop\"), error = NULL)\n . }, \"graph_from_edgelist expects a matrix with two columns\", base::quote(graph_from_edgelist(edges, \n .     directed = TRUE)))"
     ]
    }
   ],
   "source": [
    "# Convert to graph\n",
    "g <- graph_from_edgelist(edges, directed = TRUE)\n",
    "\n",
    "# Plot it\n",
    "plot(g,\n",
    "     vertex.color = \"white\",\n",
    "     vertex.size = 30,\n",
    "     edge.arrow.size = 0.5,\n",
    "     layout = layout_as_tree,\n",
    "     main = \"Bayesian Network\")"
   ]
  },
  {
   "cell_type": "code",
   "execution_count": 36,
   "id": "56111684-9c90-4975-81d6-ab741ea141ad",
   "metadata": {},
   "outputs": [
    {
     "data": {
      "image/png": "[encoded data removed]",
      "text/plain": [
       "plot without title"
      ]
     },
     "metadata": {
      "image/png": {
       "height": 420,
       "width": 420
      }
     },
     "output_type": "display_data"
    }
   ],
   "source": [
    "data(asia)\n",
    "# create and plot the network structure.\n",
    "dag = model2network(\"[A][S][T|A][L|S][B|S][D|B:E][E|T:L][X|E]\")\n",
    "graphviz.plot(dag)"
   ]
  }
 ],
 "metadata": {
  "kernelspec": {
   "display_name": "R",
   "language": "R",
   "name": "ir"
  },
  "language_info": {
   "codemirror_mode": "r",
   "file_extension": ".r",
   "mimetype": "text/x-r-source",
   "name": "R",
   "pygments_lexer": "r",
   "version": "4.5.0"
  }
 },
 "nbformat": 4,
 "nbformat_minor": 5
}
