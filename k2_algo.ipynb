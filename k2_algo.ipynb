{
 "cells": [
  {
   "cell_type": "code",
   "execution_count": 35,
   "id": "dcf57ebb",
   "metadata": {
    "vscode": {
     "languageId": "r"
    }
   },
   "outputs": [],
   "source": [
    "library(bnlearn)\n",
    "library(Rgraphviz)\n",
    "library(parallel)\n",
    "library(tidyverse)\n",
    "suppressWarnings(library(dplyr))\n",
    "no_cores <- detectCores()-1\n",
    "cl <- makeCluster(no_cores)\n",
    "### dataset needs to be preprocessed because  for example had values as factors. My functions does not work w/factorslearning.test"
   ]
  },
  {
   "cell_type": "markdown",
   "id": "da4d076f",
   "metadata": {},
   "source": [
    "Today i learnt that the k2 algorithm infers the dag, the directed acyclic graph, so the structure of the bayesian network from the dataset. Not from the fitted model. \n",
    "What i initially thought was that you happen to have a model and you want to reverse engineer that. "
   ]
  },
  {
   "cell_type": "code",
   "execution_count": 36,
   "id": "40d310fb",
   "metadata": {
    "vscode": {
     "languageId": "r"
    }
   },
   "outputs": [],
   "source": [
    "df <- data.frame(x1=c(1,1,0,1,0,0,1,0,1,0), x2=c(0,1,0,1,0,1,1,0,1,0), x3=c(0,1,1,1,0,1,1,0,1,0))"
   ]
  },
  {
   "cell_type": "code",
   "execution_count": 37,
   "id": "d67ca39a",
   "metadata": {
    "vscode": {
     "languageId": "r"
    }
   },
   "outputs": [],
   "source": [
    "node.values <- function(dataset, parents) {\n",
    "    # retrieves the unique values of the nodes\n",
    "    #return a list of vectors, \n",
    "    # each vector contains the unique values of the corresponding node\n",
    "    output <- list()\n",
    "    for (kk in seq_along(parents)) {\n",
    "        node <- parents[kk]\n",
    "        node.vals <- unique(dataset[[node]]) #it was levels()\n",
    "        output[[kk]] <- node.vals\n",
    "    }\n",
    "    return(output)\n",
    "}\n",
    "\n",
    "old.alphaijk <- function(i, pii, dataset, nodes.order) {\n",
    "    actual_node <- nodes.order[i]\n",
    "    all.nodes <- c(pii, actual_node)\n",
    "    subset <- dataset[all.nodes]\n",
    "    unique.instantiations <- expand.grid(node.values(dataset, all.nodes))\n",
    "    output <- c()\n",
    "    for (tracker in 1:dim(unique.instantiations)[1]){\n",
    "        aa <- 0\n",
    "        for (j in 1:dim(subset)[1]) {\n",
    "            ifelse(all(as.vector(unlist(subset[j,])) == as.vector(unlist(unique.instantiations[tracker,]))), aa <- aa +1, FALSE)\n",
    "        }\n",
    "        output <- c(output,aa)\n",
    "    }\n",
    "    return(output)\n",
    "}\n",
    "\n",
    "fastalphaijk <- function(i, pii, dataset, nodes.order) {\n",
    "    actual_node <- nodes.order[i]\n",
    "    all.nodes <- c(pii, actual_node)\n",
    "    subset <- dataset[all.nodes]\n",
    "    unique.instantiations <- expand.grid(node.values(dataset, all.nodes))\n",
    "    colnames(unique.instantiations) <- colnames(subset)\n",
    "    subset.counted <- subset |> group_by(across(everything())) |> summarise(n = n(), .groups=\"drop\")\n",
    "    checking <-  left_join(unique.instantiations, subset.counted, by=colnames(subset), na_matches=\"na\")  |> arrange(across(-last_col()))\n",
    "    checking[is.na(checking)]<- 0\n",
    "    #print(checking)\n",
    "    return(checking$n)\n",
    "}\n",
    "\n",
    "\n",
    "k2helper <- function(i, pii, dataset, nodes.order) {\n",
    "    # the \"f\" function in the pdf\n",
    "    phi_i <- expand.grid(node.values(dataset, pii)) \n",
    "    #cat(\"\\nphi.i\")\n",
    "    #print( phi_i)\n",
    "    q_i <- dim(phi_i)[1] # works good\n",
    "    #cat(\"\\nqi.i\", q_i)\n",
    "    nodes <- colnames(dataset)\n",
    "    #cat(\"\\nnodes\", nodes)\n",
    "    i.th.node <- nodes[i]\n",
    "    #cat(\"\\nithnode\", i.th.node)\n",
    "    v_i <- node.values(dataset, i.th.node)\n",
    "    #cat(\"\\nvi\")\n",
    "    #print( c(v_i))\n",
    "    r_i <- length(v_i[[1]])\n",
    "    #cat(\"ri\", r_i)\n",
    "    individual_alphas <- fastalphaijk(i, pii, dataset, nodes.order) # works good\n",
    "    #cat(\"\\nindividual alphas::\",individual_alphas)\n",
    "    aijk <- prod(factorial(individual_alphas)) ##\n",
    "    #numeratore <- factorial(r_i-1)\n",
    "    grouping_alphas <- matrix(individual_alphas, nrow=r_i) # to get the right Nijs\n",
    "    nij <- colSums(grouping_alphas)\n",
    "    #print(nij)\n",
    "    produttoria_alpha <- prod(factorial(individual_alphas))\n",
    "    numeratore <- factorial(r_i-1)\n",
    "    denominatore <- factorial(nij+r_i-1)\n",
    "    out <- prod((numeratore/denominatore))*produttoria_alpha\n",
    "    #cat(\"\\nproduttoria_alpha\",produttoria_alpha )\n",
    "    #cat(\"\\nproduttoria_alpha\",produttoria_alpha )\n",
    "    #print(frazione)\n",
    "    return(out)\n",
    "}\n",
    "\n",
    "\n",
    "k2 <- function(dataset, nodes.order, upperbound) {\n",
    "    nodes <- colnames(dataset)\n",
    "    for (i in seq_along(nodes.order)) {\n",
    "        actual_node <- nodes.order[i]\n",
    "        #cat(\"\\n\", i,\"\\n\")\n",
    "        pii <- c()\n",
    "        p.old <- k2helper(i, pii,dataset, nodes.order)\n",
    "        #cat(\"\\n \",p.old, \"\\n should be \", 1/2772)\n",
    "        proceed <- TRUE\n",
    "        cat(\"\\ni::\",i, \"\\n\")\n",
    "        while (proceed && length(pii) < upperbound) {\n",
    "            predecessors_idx <- i-1\n",
    "            predecessors <- nodes.order[0:predecessors_idx]\n",
    "            cat(\"\\npredecessors::\", predecessors, \" pii:: \", pii)\n",
    "            piiuz <- setdiff(predecessors, pii)\n",
    "            if (length(piiuz) > 1) {\n",
    "                daddy.s.probs <- c()\n",
    "                for (daddy in seq_along(piiuz)) {\n",
    "                    p.new <- k2helper(i, piiuz[daddy], dataset, nodes.order)\n",
    "                    daddy.s.probs <- c(daddy.s.probs, p.new)\n",
    "                }\n",
    "                p.new <- max(daddy.s.probs)\n",
    "                genitore <-  piiuz[daddy.s.probs == p.new]\n",
    "            } else {\n",
    "                p.new <- k2helper(i, piiuz, dataset, nodes.order)\n",
    "                genitore <- piiuz\n",
    "            }\n",
    "            cat(\"\\npiiuz:: \",piiuz,\"\\np.old:: \", p.old, \"\\np.new:: \", p.new)\n",
    "            #roof <- roof+1\n",
    "            if (p.new > p.old) {\n",
    "                p.old <- p.new\n",
    "                pii <- c(pii, genitore)\n",
    "                #ifelse(roof>length(nodes)^length(nodes), proceed <- FALSE, proceed <- TRUE)\n",
    "            } else  {\n",
    "                proceed <- FALSE\n",
    "            }\n",
    "        }\n",
    "        cat('\\nNode', nodes.order[i], '--> Parents:', pii,'\\n') \n",
    "    }\n",
    "    return(TRUE)\n",
    "}"
   ]
  },
  {
   "cell_type": "code",
   "execution_count": 38,
   "id": "13b8374d",
   "metadata": {
    "vscode": {
     "languageId": "r"
    }
   },
   "outputs": [
    {
     "name": "stdout",
     "output_type": "stream",
     "text": [
      "\n",
      "i:: 1 \n",
      "\n",
      "predecessors::   pii:: \n",
      "piiuz::   \n",
      "p.old::  0.0003607504 \n",
      "p.new::  0.0003607504\n",
      "Node x1 --> Parents: \n",
      "\n",
      "i:: 2 \n",
      "\n",
      "predecessors:: x1  pii:: \n",
      "piiuz::  x1 \n",
      "p.old::  0.0003607504 \n",
      "p.new::  0.001111111\n",
      "predecessors:: x1  pii::  x1\n",
      "piiuz::   \n",
      "p.old::  0.001111111 \n",
      "p.new::  0.0003607504\n",
      "Node x2 --> Parents: x1 \n",
      "\n",
      "i:: 3 \n",
      "\n",
      "predecessors:: x1 x2  pii:: \n",
      "piiuz::  x1 x2 \n",
      "p.old::  0.0004329004 \n",
      "p.new::  0.005555556\n",
      "predecessors:: x1 x2  pii::  x2\n",
      "piiuz::  x1 \n",
      "p.old::  0.005555556 \n",
      "p.new::  0.0005555556\n",
      "Node x3 --> Parents: x2 \n"
     ]
    },
    {
     "data": {
      "text/html": [
       "TRUE"
      ],
      "text/latex": [
       "TRUE"
      ],
      "text/markdown": [
       "TRUE"
      ],
      "text/plain": [
       "[1] TRUE"
      ]
     },
     "metadata": {},
     "output_type": "display_data"
    }
   ],
   "source": [
    "k2(dataset=df, upperbound=2, nodes.order=colnames(df))\n"
   ]
  },
  {
   "cell_type": "code",
   "execution_count": 39,
   "id": "2fb9b54a",
   "metadata": {
    "vscode": {
     "languageId": "r"
    }
   },
   "outputs": [
    {
     "name": "stdout",
     "output_type": "stream",
     "text": [
      "\n",
      "phi.i  Var1\n",
      "1    1\n",
      "2    0\n",
      "\n",
      "qi.i 2\n",
      "nodes x1 x2 x3\n",
      "ithnode x2\n",
      "vi[[1]]\n",
      "[1] 0 1\n",
      "\n",
      "ri 2\n",
      "individual alphas:: 4 1 1 4[1] 5 5\n",
      "\n",
      "produttoria_alpha 576\n",
      "produttoria_alpha 576"
     ]
    },
    {
     "data": {
      "text/html": [
       "0.00111111111111111"
      ],
      "text/latex": [
       "0.00111111111111111"
      ],
      "text/markdown": [
       "0.00111111111111111"
      ],
      "text/plain": [
       "[1] 0.001111111"
      ]
     },
     "metadata": {},
     "output_type": "display_data"
    }
   ],
   "source": [
    "\n",
    "k2helper <- function(i, pii, dataset, nodes.order) {\n",
    "    # the \"f\" function in the pdf\n",
    "    phi_i <- expand.grid(node.values(dataset, pii)) \n",
    "    cat(\"\\nphi.i\")\n",
    "    print( phi_i)\n",
    "    q_i <- dim(phi_i)[1] # works good\n",
    "    cat(\"\\nqi.i\", q_i)\n",
    "    nodes <- colnames(dataset)\n",
    "    cat(\"\\nnodes\", nodes)\n",
    "    i.th.node <- nodes[i]\n",
    "    cat(\"\\nithnode\", i.th.node)\n",
    "    v_i <- node.values(dataset, i.th.node)\n",
    "    cat(\"\\nvi\")\n",
    "    print( c(v_i))\n",
    "    r_i <- length(v_i[[1]])\n",
    "    cat(\"ri\", r_i)\n",
    "    individual_alphas <- fastalphaijk(i, pii, dataset, nodes.order) # works good\n",
    "    cat(\"\\nindividual alphas::\",individual_alphas)\n",
    "    aijk <- prod(factorial(individual_alphas)) ##\n",
    "    #numeratore <- factorial(r_i-1)\n",
    "    grouping_alphas <- matrix(individual_alphas, nrow=r_i) # to get the right Nijs\n",
    "    nij <- colSums(grouping_alphas)\n",
    "    print(nij)\n",
    "    produttoria_alpha <- prod(factorial(individual_alphas))\n",
    "    numeratore <- factorial(r_i-1)\n",
    "    denominatore <- factorial(nij+r_i-1)\n",
    "    out <- prod((numeratore/denominatore))*produttoria_alpha\n",
    "    cat(\"\\nproduttoria_alpha\",produttoria_alpha )\n",
    "    cat(\"\\nproduttoria_alpha\",produttoria_alpha )\n",
    "    #print(frazione)\n",
    "    return(out)\n",
    "}\n",
    "k2helper(2, c(\"x1\"), df, colnames(df))"
   ]
  },
  {
   "cell_type": "code",
   "execution_count": null,
   "id": "de2a5ebd",
   "metadata": {
    "vscode": {
     "languageId": "r"
    }
   },
   "outputs": [],
   "source": []
  }
 ],
 "metadata": {
  "kernelspec": {
   "display_name": "R",
   "language": "R",
   "name": "ir"
  },
  "language_info": {
   "codemirror_mode": "r",
   "file_extension": ".r",
   "mimetype": "text/x-r-source",
   "name": "R",
   "pygments_lexer": "r",
   "version": "4.5.1"
  }
 },
 "nbformat": 4,
 "nbformat_minor": 5
}
