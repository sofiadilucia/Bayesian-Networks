{
 "cells": [
  {
   "cell_type": "code",
   "execution_count": 2,
   "id": "dcf57ebb",
   "metadata": {
    "vscode": {
     "languageId": "r"
    }
   },
   "outputs": [],
   "source": [
    "library(bnlearn)\n",
    "library(Rgraphviz)"
   ]
  },
  {
   "cell_type": "markdown",
   "id": "da4d076f",
   "metadata": {},
   "source": [
    "Today i learnt that the k2 algorithm infers the dag, the directed acyclic graph, so the structure of the bayesian network from the dataset. Not from the fitted model. \n",
    "What i initially thought was that you happen to have a model and you want to reverse engineer that. "
   ]
  },
  {
   "cell_type": "code",
   "execution_count": 6,
   "id": "8e206974",
   "metadata": {
    "vscode": {
     "languageId": "r"
    }
   },
   "outputs": [
    {
     "data": {
      "text/html": [
       "<table class=\"dataframe\">\n",
       "<caption>A data.frame: 6 × 6</caption>\n",
       "<thead>\n",
       "\t<tr><th></th><th scope=col>A</th><th scope=col>B</th><th scope=col>C</th><th scope=col>D</th><th scope=col>E</th><th scope=col>F</th></tr>\n",
       "\t<tr><th></th><th scope=col>&lt;fct&gt;</th><th scope=col>&lt;fct&gt;</th><th scope=col>&lt;fct&gt;</th><th scope=col>&lt;fct&gt;</th><th scope=col>&lt;fct&gt;</th><th scope=col>&lt;fct&gt;</th></tr>\n",
       "</thead>\n",
       "<tbody>\n",
       "\t<tr><th scope=row>1</th><td>b</td><td>c</td><td>b</td><td>a</td><td>b</td><td>b</td></tr>\n",
       "\t<tr><th scope=row>2</th><td>b</td><td>a</td><td>c</td><td>a</td><td>b</td><td>b</td></tr>\n",
       "\t<tr><th scope=row>3</th><td>a</td><td>a</td><td>a</td><td>a</td><td>a</td><td>a</td></tr>\n",
       "\t<tr><th scope=row>4</th><td>a</td><td>a</td><td>a</td><td>a</td><td>b</td><td>b</td></tr>\n",
       "\t<tr><th scope=row>5</th><td>a</td><td>a</td><td>b</td><td>c</td><td>a</td><td>a</td></tr>\n",
       "\t<tr><th scope=row>6</th><td>c</td><td>c</td><td>a</td><td>c</td><td>c</td><td>a</td></tr>\n",
       "</tbody>\n",
       "</table>\n"
      ],
      "text/latex": [
       "A data.frame: 6 × 6\n",
       "\\begin{tabular}{r|llllll}\n",
       "  & A & B & C & D & E & F\\\\\n",
       "  & <fct> & <fct> & <fct> & <fct> & <fct> & <fct>\\\\\n",
       "\\hline\n",
       "\t1 & b & c & b & a & b & b\\\\\n",
       "\t2 & b & a & c & a & b & b\\\\\n",
       "\t3 & a & a & a & a & a & a\\\\\n",
       "\t4 & a & a & a & a & b & b\\\\\n",
       "\t5 & a & a & b & c & a & a\\\\\n",
       "\t6 & c & c & a & c & c & a\\\\\n",
       "\\end{tabular}\n"
      ],
      "text/markdown": [
       "\n",
       "A data.frame: 6 × 6\n",
       "\n",
       "| <!--/--> | A &lt;fct&gt; | B &lt;fct&gt; | C &lt;fct&gt; | D &lt;fct&gt; | E &lt;fct&gt; | F &lt;fct&gt; |\n",
       "|---|---|---|---|---|---|---|\n",
       "| 1 | b | c | b | a | b | b |\n",
       "| 2 | b | a | c | a | b | b |\n",
       "| 3 | a | a | a | a | a | a |\n",
       "| 4 | a | a | a | a | b | b |\n",
       "| 5 | a | a | b | c | a | a |\n",
       "| 6 | c | c | a | c | c | a |\n",
       "\n"
      ],
      "text/plain": [
       "  A B C D E F\n",
       "1 b c b a b b\n",
       "2 b a c a b b\n",
       "3 a a a a a a\n",
       "4 a a a a b b\n",
       "5 a a b c a a\n",
       "6 c c a c c a"
      ]
     },
     "metadata": {},
     "output_type": "display_data"
    },
    {
     "data": {
      "text/html": [
       "<style>\n",
       ".list-inline {list-style: none; margin:0; padding: 0}\n",
       ".list-inline>li {display: inline-block}\n",
       ".list-inline>li:not(:last-child)::after {content: \"\\00b7\"; padding: 0 .5ex}\n",
       "</style>\n",
       "<ol class=list-inline><li>'A'</li><li>'B'</li><li>'C'</li><li>'D'</li><li>'E'</li><li>'F'</li></ol>\n"
      ],
      "text/latex": [
       "\\begin{enumerate*}\n",
       "\\item 'A'\n",
       "\\item 'B'\n",
       "\\item 'C'\n",
       "\\item 'D'\n",
       "\\item 'E'\n",
       "\\item 'F'\n",
       "\\end{enumerate*}\n"
      ],
      "text/markdown": [
       "1. 'A'\n",
       "2. 'B'\n",
       "3. 'C'\n",
       "4. 'D'\n",
       "5. 'E'\n",
       "6. 'F'\n",
       "\n",
       "\n"
      ],
      "text/plain": [
       "[1] \"A\" \"B\" \"C\" \"D\" \"E\" \"F\""
      ]
     },
     "metadata": {},
     "output_type": "display_data"
    }
   ],
   "source": [
    "# Trying implementing k2 using learing.test dataset\n",
    "head(learning.test)\n",
    "colnames(learning.test)"
   ]
  },
  {
   "cell_type": "code",
   "execution_count": 183,
   "id": "d67ca39a",
   "metadata": {
    "vscode": {
     "languageId": "r"
    }
   },
   "outputs": [],
   "source": [
    "node.values <- function(dataset, parents) {\n",
    "    # retrieves the unique values of the nodes\n",
    "    #return a list of vectors, \n",
    "    # each vector contains the unique values of the corresponding node\n",
    "    output <- list()\n",
    "    for (kk in seq_along(parents)) {\n",
    "        node <- parents[kk]\n",
    "        node.vals <- levels(unique(dataset[[node]]))\n",
    "        output[[kk]] <- node.vals\n",
    "    }\n",
    "    return(output)\n",
    "}\n",
    "\n",
    "alphaijk <- function(i, pii, dataset, nodes.order) {\n",
    "    actual_node <- nodes.order[i]\n",
    "    all.nodes <- c(pii, actual_node)\n",
    "    #cases <- expand.grid(node.values(parents=all.nodes))\n",
    "    subset <- dataset[all.nodes]\n",
    "    unique.instantiations <- expand.grid(node.values(dataset, all.nodes))\n",
    "    output <- c()\n",
    "    for (k in 1:dim(unique.instantiations)[1]){\n",
    "        aa <- 0\n",
    "        for (j in 1:dim(subset)[1]) {\n",
    "            ifelse(all(subset[j,] == unique.instantiations[k,]), aa <- aa +1, FALSE)\n",
    "        }\n",
    "        output <- c(output,aa)\n",
    "    }\n",
    "    return(output)\n",
    "}\n",
    "\n",
    "k2helper <- function(i, pii, dataset, nodes.order) {\n",
    "    # the \"f\" function in the pdf\n",
    "    phi_i <- expand.grid(node.values(dataset, pii))\n",
    "    q_i <- dim(phi_i)[1]\n",
    "    nodes <- colnames(dataset)\n",
    "    i.th.node <- nodes[i]\n",
    "    v_i <- node.values(dataset, i.th.node)\n",
    "    r_i <- length(v_i[[1]])\n",
    "    aijk <- prod(factorial(alphaijk(i, pii, dataset, nodes.order)))\n",
    "    numeratore <- factorial(r_i-1)\n",
    "    nij <- alphaijk(0, pii, dataset, nodes.order) # i = 0 deactivates actual node\n",
    "    nij <- nij + r_i-1\n",
    "    denominatore <- factorial(nij)\n",
    "    frazione <- numeratore/denominatore\n",
    "    return(prod(frazione)* aijk)\n",
    "}\n",
    "\n",
    "k2 <- function(dataset, nodes.order, upperbound) {\n",
    "    nodes <- colnames(dataset)\n",
    "    for (i in seq_along(nodes.order)) {\n",
    "        actual_node <- nodes.order[i]\n",
    "        pii <- c()\n",
    "        p.old <- k2helper(i, pii,dataset, nodes.order)\n",
    "        proceed <- TRUE\n",
    "        while (proceed & length(pii) < upperbound) {\n",
    "            predecessors_idx <- ifelse(i-1!=-1, i-1, break)\n",
    "            z <- nodes.order[1:predecessors_idx]\n",
    "            p.new <- k2helper(i, pii, dataset, nodes.order)\n",
    "            if (p.new > p.old) {\n",
    "                p.old <- p.new\n",
    "                pii <- c(pii,z)\n",
    "            } else {\n",
    "                proceed <- FALSE\n",
    "            }\n",
    "        }\n",
    "        cat('\\nNode', nodes.order[i], '--> Parents:', pii,'\\n') \n",
    "    }\n",
    "    return(TRUE)\n",
    "}"
   ]
  },
  {
   "cell_type": "code",
   "execution_count": 184,
   "id": "5360f9f8",
   "metadata": {
    "vscode": {
     "languageId": "r"
    }
   },
   "outputs": [
    {
     "ename": "ERROR",
     "evalue": "Error in Ops.data.frame(subset[j, ], unique.instantiations[k, ]): ‘==’ only defined for equally-sized data frames\n",
     "output_type": "error",
     "traceback": [
      "Error in Ops.data.frame(subset[j, ], unique.instantiations[k, ]): ‘==’ only defined for equally-sized data frames\nTraceback:\n",
      "1. k2(learning.test, colnames(learning.test), 3)",
      "2. k2helper(i, pii, dataset, nodes.order)   # at line 53 of file <text>",
      "3. alphaijk(0, pii, dataset, nodes.order)   # at line 41 of file <text>",
      "4. ifelse(all(subset[j, ] == unique.instantiations[k, ]), aa <- aa + \n .     1, FALSE)   # at line 24 of file <text>",
      "5. Ops.data.frame(subset[j, ], unique.instantiations[k, ])   # at line 24 of file <text>",
      "6. stop(gettextf(\"%s only defined for equally-sized data frames\", \n .     sQuote(.Generic)), domain = NA)"
     ]
    }
   ],
   "source": [
    "k2(learning.test, colnames(learning.test), 3)"
   ]
  },
  {
   "cell_type": "code",
   "execution_count": null,
   "id": "5c05769d",
   "metadata": {
    "vscode": {
     "languageId": "r"
    }
   },
   "outputs": [],
   "source": []
  }
 ],
 "metadata": {
  "kernelspec": {
   "display_name": "R",
   "language": "R",
   "name": "ir"
  },
  "language_info": {
   "codemirror_mode": "r",
   "file_extension": ".r",
   "mimetype": "text/x-r-source",
   "name": "R",
   "pygments_lexer": "r",
   "version": "4.5.1"
  }
 },
 "nbformat": 4,
 "nbformat_minor": 5
}
