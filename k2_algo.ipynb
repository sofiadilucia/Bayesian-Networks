{
 "cells": [
  {
   "cell_type": "code",
   "execution_count": 2,
   "id": "dcf57ebb",
   "metadata": {
    "vscode": {
     "languageId": "r"
    }
   },
   "outputs": [],
   "source": [
    "library(bnlearn) |> suppressPackageStartupMessages()\n",
    "library(Rgraphviz) |> suppressPackageStartupMessages()\n",
    "library(tidyverse) |> suppressPackageStartupMessages()\n",
    "library(gtools) |> suppressPackageStartupMessages()\n",
    "library(bnstruct) |>suppressPackageStartupMessages()\n",
    "library(parallel) |> suppressPackageStartupMessages()"
   ]
  },
  {
   "cell_type": "code",
   "execution_count": 3,
   "id": "d67ca39a",
   "metadata": {
    "vscode": {
     "languageId": "r"
    }
   },
   "outputs": [],
   "source": [
    "factor_remover <- function(dataset) {\n",
    "    cols <- colnames(dataset)\n",
    "    for (i in seq_along(cols)) {\n",
    "        name <- cols[i]\n",
    "        dataset[[name]] <- as.character(dataset[[name]])\n",
    "    }\n",
    "    return(dataset)\n",
    "}\n",
    "\n",
    "\n",
    "dataset <- function(dataset) {\n",
    "    if (class(dataset) == 'data.frame') {\n",
    "        return(factor_remover(dataset))\n",
    "    } else {\n",
    "        df <- as.data.frame(raw.data(dataset))\n",
    "        colnames(df) <- dataset@variables\n",
    "        return(df)\n",
    "    }\n",
    "}"
   ]
  },
  {
   "cell_type": "code",
   "execution_count": 5,
   "id": "9730190d",
   "metadata": {
    "vscode": {
     "languageId": "r"
    }
   },
   "outputs": [],
   "source": [
    "node.values <- function(dataset, parents) {\n",
    "    # retrieves the unique values of the nodes\n",
    "    #return a list of vectors, \n",
    "    # each vector contains the unique values of the corresponding node\n",
    "    output <- list()\n",
    "    for (kk in seq_along(parents)) {\n",
    "        node <- parents[kk]\n",
    "        node.vals <- unique(dataset[[node]]) #it was levels()\n",
    "        output[[kk]] <- node.vals\n",
    "    }\n",
    "    return(output)\n",
    "}"
   ]
  },
  {
   "cell_type": "code",
   "execution_count": 6,
   "id": "f6a0a0b0",
   "metadata": {
    "vscode": {
     "languageId": "r"
    }
   },
   "outputs": [],
   "source": [
    "fastalphaijk <- function(i, pii, dataset, nodes.order, smooth=FALSE) {\n",
    "    actual_node <- nodes.order[i]\n",
    "    all.nodes <- c(pii, actual_node)\n",
    "    subset <- dataset[all.nodes]\n",
    "    unique.instantiations <- expand.grid(node.values(dataset, all.nodes))\n",
    "    colnames(unique.instantiations) <- colnames(subset)\n",
    "    subset.counted <- subset |> group_by(across(everything())) |> summarise(n = n(), .groups=\"drop\")\n",
    "    checking <-  left_join(unique.instantiations, subset.counted, by=colnames(subset), na_matches=\"na\")  |> arrange(across(-last_col()))\n",
    "    checking$n[is.na(checking$n)]<- 0\n",
    "    if (smooth) {\n",
    "        checking$n <- checking$n + 1   # SOFIA's laplace smoothing\n",
    "    } else {}\n",
    "    #cat(\"\\n\")\n",
    "    #print(checking)\n",
    "    #cat( \"\\n \\n\")\n",
    "    return(checking$n)\n",
    "}"
   ]
  },
  {
   "cell_type": "code",
   "execution_count": 7,
   "id": "c07e4e58",
   "metadata": {
    "vscode": {
     "languageId": "r"
    }
   },
   "outputs": [],
   "source": [
    "k2helper <- function(i, pii, dataset, nodes.order, log=TRUE) {\n",
    "    # the \"f\" function in the pdf\n",
    "    #cat(\"\\n------------------\\n\")\n",
    "    phi_i <- expand.grid(node.values(dataset, pii)) \n",
    "    #cat(\"\\nphi.i\")\n",
    "    #print( phi_i)\n",
    "    q_i <- dim(phi_i)[1] # works good\n",
    "    #cat(\"\\nqi.i\", q_i)\n",
    "    i.th.node <- nodes.order[i]\n",
    "    #cat(\"\\nithnode\", i.th.node)\n",
    "    v_i <- node.values(dataset, i.th.node)\n",
    "    #cat(\"\\nvi\")\n",
    "    #print(v_i)\n",
    "    r_i <- length(v_i[[1]])\n",
    "    #cat(\"\\nri\", r_i)\n",
    "    individual_alphas <- fastalphaijk(i, pii, dataset, nodes.order) # works good\n",
    "    #cat(\"\\nindividual alphas::\",individual_alphas)\n",
    "    #aijk <- prod(factorial(individual_alphas)) ##\n",
    "    grouping_alphas <- matrix(individual_alphas, nrow=r_i) # to get the right Nijs\n",
    "    nij <- colSums(grouping_alphas)\n",
    "    #print(nij)\n",
    "    \n",
    "    produttoria_alpha <- prod(lfactorial(individual_alphas))\n",
    "    log_produttoria_alpha <- sum(lfactorial(individual_alphas))\n",
    "    log_numeratore <- sum(lfactorial(rep(r_i-1,q_i))) # r_i - 1 + 1 = r_i\n",
    "    numeratore <- factorial(r_i-1)\n",
    "    log_denominatore <- sum(lfactorial(nij + r_i-1)) # nij + r_i - 1 + 1 = nij + r_i\n",
    "    denominatore <- factorial(nij+r_i-1)\n",
    "    log_out <- log_numeratore - log_denominatore + log_produttoria_alpha\n",
    "    out1 <- prod((numeratore/denominatore))*produttoria_alpha\n",
    "    out2 <- sum(log_out)\n",
    "    #cat(\"logout\", log_out)\n",
    "    ifelse(log, out <- out2, out<- out1)\n",
    "    #cat(\"\\nproduttoria_alpha\",produttoria_alpha )\n",
    "    #cat(\"\\nproduttoria_alpha\",produttoria_alpha )\n",
    "    #print(frazione)\n",
    "    return(out)\n",
    "}"
   ]
  },
  {
   "cell_type": "code",
   "execution_count": 8,
   "id": "aebd7749",
   "metadata": {
    "vscode": {
     "languageId": "r"
    }
   },
   "outputs": [],
   "source": [
    "k2 <- function(dataset, nodes.order, upperbound) {\n",
    "    start <- Sys.time()  # SOFIA\n",
    "\n",
    "    nodes <- colnames(dataset)           # node names\n",
    "    net.dag <- empty.graph(nodes=nodes) # network DAG (Directed Acyclic Graph)\n",
    "    edges <- list()  # ← new: store edges here  SOFIA\n",
    "    \n",
    "    \n",
    "    for (i in seq_along(nodes.order)) {\n",
    "        actual_node <- nodes.order[i]\n",
    "        #cat(\"\\n\", i,\"\\n\")\n",
    "        pii <- c()\n",
    "        p.old <- k2helper(i, pii,dataset, nodes.order)\n",
    "        proceed <- TRUE\n",
    "        #cat(\"\\ni::\",i, \"\\n\")\n",
    "        p.new.container <- c()\n",
    "        while (proceed && length(pii) <= upperbound) {\n",
    "            predecessors_idx <- i-1\n",
    "            predecessors <- nodes.order[0:predecessors_idx]\n",
    "            #cat(\"\\npredecessors::\", predecessors, \" pii:: \", pii)\n",
    "            piiuz <- setdiff(predecessors, pii)\n",
    "            if (length(piiuz) > 1) {\n",
    "                daddy.s.probs <- c()\n",
    "                for (daddy in seq_along(piiuz)) {\n",
    "                    p.new <- k2helper(i, c(pii, piiuz[daddy]), dataset, nodes.order)\n",
    "                    daddy.s.probs <- c(daddy.s.probs, c(p.new))\n",
    "                }\n",
    "                p.new <- max(daddy.s.probs)\n",
    "                #cat(\"\\npnew\", p.new, \"pold\", p.old)\n",
    "                eventuale.genitore <-  piiuz[daddy.s.probs == p.new]\n",
    "            } else {\n",
    "                p.new <- k2helper(i, piiuz, dataset, nodes.order)\n",
    "                eventuale.genitore <- piiuz\n",
    "            }\n",
    "            #cat(\"\\npiiuz:: \",piiuz,\"\\np.old:: \", p.old, \"\\np.new:: \", p.new)    #edge_matrix <- do.call(rbind, edges)\n",
    "\n",
    "            #roof <- roof+1\n",
    "            if (p.new > p.old) {\n",
    "                p.old <- p.new\n",
    "                pii <- c(pii, eventuale.genitore)\n",
    "                p.new.container <- c(p.new.container, p.new)\n",
    "                net.dag <- set.arc(net.dag, from=eventuale.genitore, to=actual_node)\n",
    "                #ifelse(roof>length(nodes)^length(nodes), proceed <- FALSE, proceed <- TRUE)\n",
    "            } else  {\n",
    "                proceed <- FALSE\n",
    "            }\n",
    "        }\n",
    "        #cat('\\nNode', nodes.order[i], '--> Parents:', pii,'\\n') \n",
    "        \n",
    "        # Store edges: each pii is a parent of actual_node  SOFIA\n",
    "        if (length(pii) >= 0) {\n",
    "            for (iterator in seq_along(pii)) {\n",
    "                parent <- pii[iterator]\n",
    "                edges[[length(edges) + 1]] <- c(parent, actual_node)\n",
    "            }\n",
    "        }\n",
    "\n",
    "    }\n",
    "    \n",
    "    net.score <- score(net.dag, dataset |> mutate_all(as_factor) |> as.data.frame()) # network scor\n",
    "    # Convert to matrix or return edge list\n",
    "    edge_matrix <- do.call(rbind, edges)\n",
    "    \n",
    "    end <- Sys.time()\n",
    "    execution_time <- difftime(time1 = end, time2 = start, units = \"secs\") \n",
    "    cat(\"\\nExecution Time:\", execution_time, \"s\")\n",
    "    \n",
    "    return(list('edges' = edge_matrix, \n",
    "                'dag' = net.dag,\n",
    "                'score' = net.score))\n",
    "}"
   ]
  },
  {
   "cell_type": "markdown",
   "id": "0f4d4c3f-494c-4d1a-8566-ba5e3286d4ed",
   "metadata": {
    "jp-MarkdownHeadingCollapsed": true
   },
   "source": [
    "## Explorer Function"
   ]
  },
  {
   "cell_type": "code",
   "execution_count": null,
   "id": "4a75a4c7-fe20-424f-be1d-3fa000f39de6",
   "metadata": {
    "vscode": {
     "languageId": "r"
    }
   },
   "outputs": [],
   "source": [
    "explo_scorer_single <- function(dataset, n_permutations = 1000, upperbound=2) {\n",
    "  start <- Sys.time()\n",
    "  \n",
    "  set.seed(8)\n",
    "  cols <- colnames(dataset)\n",
    "  \n",
    "  ncols <- length(cols)\n",
    "  \n",
    "  if(ncols <= 7){\n",
    "    permutations <- permutations(n = ncols, r = ncols, v = cols)\n",
    "    row_limit <- nrow(permutations)\n",
    "  } else {\n",
    "    # Sample random permutations (shuffles) for large ncols\n",
    "    row_limit <- n_permutations\n",
    "  }\n",
    "\n",
    "  result <- k2(dataset, cols, upperbound = upperbound)\n",
    "  best.dag <- list(result$dag)\n",
    "  best.score <- c(result$score)\n",
    "  best.order <- list(cols)\n",
    "  \n",
    "  for(i in 2:row_limit){   # SOFIA - perché 2? non è detto che la prima\n",
    "    if(ncols <= 7){\n",
    "      row_permutation <- permutations[i, ]\n",
    "    } else {\n",
    "      row_permutation <- sample(cols, size = ncols, replace = FALSE)\n",
    "    }\n",
    "    result <- k2(dataset, row_permutation, upperbound=upperbound)\n",
    "    #if (result$score > best.score) {\n",
    "    #  best.dag <- result$dag\n",
    "    #  best.score <- result$score\n",
    "    #  best.order <- row_permutation\n",
    "    #}\n",
    "    best.dag[i] <- result$dag\n",
    "    best.score[i] <- result$score\n",
    "    best.order[i] <- row_permutation\n",
    "    #cat('Running iteration', i, \"\\n\")\n",
    "  }\n",
    "  idx <- which.max(best.score)\n",
    "  \n",
    "  end <- Sys.time()\n",
    "  execution.time <- difftime(time1 = end, time2 = start, units = \"secs\")\n",
    "  #cat(\"\\nExecution Time:\", execution.time, \"s\\n\")\n",
    "  \n",
    "  # Return best.score or best ordering if needed\n",
    "  return(list('dag'=best.dag[[idx]], 'order'=best.order[[idx]], 'exec_time'=execution.time))\n",
    "}\n",
    "\n",
    "explo_scorer <- function(dataset, n_permutations = 1000, upperbound=2) {\n",
    "  start <- Sys.time()\n",
    "  set.seed(8)\n",
    "  cols <- colnames(dataset)\n",
    "  ncols <- length(cols)\n",
    "  \n",
    "  if(ncols <= 7){\n",
    "    permutations <- permutations(n = ncols, r = ncols, v = cols)\n",
    "    row_limit <- nrow(permutations)\n",
    "    perm_list <- split(permutations, seq(nrow(permutations)))\n",
    "  } else {\n",
    "    row_limit <- n_permutations\n",
    "    perm_list <- lapply(1:row_limit, function(i) sample(cols, size = ncols, replace = FALSE))\n",
    "  }\n",
    "\n",
    "  # Parallel evaluation\n",
    "  results <- mclapply(perm_list, function(row_permutation) {\n",
    "    result <- k2(dataset, row_permutation, upperbound=upperbound)\n",
    "    list(dag = result$dag, score = result$score, order = row_permutation)\n",
    "  }, mc.cores = detectCores() - 1)\n",
    "\n",
    "  # Extract scores and find the best\n",
    "  scores <- sapply(results, function(x) x$score)\n",
    "  idx <- which.max(scores)\n",
    "  \n",
    "  end <- Sys.time()\n",
    "  execution.time <- difftime(time1 = end, time2 = start, units = \"secs\")\n",
    "  \n",
    "  return(list('dag' = results[[idx]]$dag, 'order' = results[[idx]]$order, 'exec_time' = execution.time))\n",
    "}"
   ]
  },
  {
   "cell_type": "markdown",
   "id": "7a81e3ef-45a9-4f66-8270-c1f45fd59b3d",
   "metadata": {},
   "source": [
    "## Learning Dataset"
   ]
  },
  {
   "cell_type": "code",
   "execution_count": 86,
   "id": "ef10b335-209a-4a2a-a5a7-970e2f7c70cd",
   "metadata": {
    "scrolled": true,
    "vscode": {
     "languageId": "r"
    }
   },
   "outputs": [
    {
     "name": "stdout",
     "output_type": "stream",
     "text": [
      "\n",
      "Execution Time: 0.728683 s"
     ]
    },
    {
     "data": {
      "image/png": "[encoded data removed]",
      "text/plain": [
       "plot without title"
      ]
     },
     "metadata": {
      "image/png": {
       "height": 420,
       "width": 420
      }
     },
     "output_type": "display_data"
    }
   ],
   "source": [
    "df <- dataset(learning.test)\n",
    "\n",
    "learning_result <- k2(dataset=df, upperbound = 3, nodes.order = c(\"A\",\"B\",\"C\",\"D\",\"F\",\"E\"))\n",
    "\n",
    "learning.edges <- learning_result$edges\n",
    "learning.dag <- learning_result$dag\n",
    "learning.score <- learning_result$score\n",
    "\n",
    "#cat(\"\\nscore\")\n",
    "#print(score)\n",
    "# Plot it\n",
    "graphviz.plot(x = learning.dag, shape = \"circle\")"
   ]
  },
  {
   "cell_type": "markdown",
   "id": "eabdad36-35f0-42fb-b42b-aa2f10bd3dbd",
   "metadata": {},
   "source": [
    "## Asia Dataset"
   ]
  },
  {
   "cell_type": "code",
   "execution_count": null,
   "id": "0fd6e199-894f-4a17-b266-4aaf54148a37",
   "metadata": {
    "scrolled": true,
    "vscode": {
     "languageId": "r"
    }
   },
   "outputs": [],
   "source": [
    "result <- explo_scorer(dataset = dataset(asia()), upperbound = 2,n_permutations = 2000)\n",
    "graphviz.plot(result$dag)"
   ]
  },
  {
   "cell_type": "code",
   "execution_count": 87,
   "id": "c9731628",
   "metadata": {
    "vscode": {
     "languageId": "r"
    }
   },
   "outputs": [
    {
     "name": "stdout",
     "output_type": "stream",
     "text": [
      "\n",
      "Execution Time: 1.774214 s"
     ]
    },
    {
     "data": {
      "image/png": "[encoded data removed]",
      "text/plain": [
       "plot without title"
      ]
     },
     "metadata": {
      "image/png": {
       "height": 420,
       "width": 420
      }
     },
     "output_type": "display_data"
    }
   ],
   "source": [
    "asia_df <- dataset(asia())\n",
    "ordering_asia <- colnames(asia_df)[c(3,1,2,4,5,6,7,8)]\n",
    "asia_result <- k2(asia_df, upperbound=3, nodes.order=colnames(asia_df))\n",
    "\n",
    "asia.edges <- asia_result$edges\n",
    "asia.dag <- asia_result$dag\n",
    "\n",
    "# Plot it\n",
    "graphviz.plot(x = asia.dag, shape = \"circle\")"
   ]
  },
  {
   "cell_type": "markdown",
   "id": "795b312e-9d65-44ba-8ba2-a8fe501ec1c0",
   "metadata": {},
   "source": [
    "## Child Dataset"
   ]
  },
  {
   "cell_type": "code",
   "execution_count": 88,
   "id": "3609be01",
   "metadata": {
    "vscode": {
     "languageId": "r"
    }
   },
   "outputs": [
    {
     "name": "stdout",
     "output_type": "stream",
     "text": [
      "\n",
      "Execution Time: 11.80366 s"
     ]
    },
    {
     "data": {
      "image/png": "[encoded data removed]",
      "text/plain": [
       "plot without title"
      ]
     },
     "metadata": {
      "image/png": {
       "height": 420,
       "width": 420
      }
     },
     "output_type": "display_data"
    }
   ],
   "source": [
    "child <- dataset(child())\n",
    "child_result <- k2(child, upperbound=3, nodes.order=colnames(child))\n",
    "\n",
    "child.edges <- child_result$edges\n",
    "child.dag <- child_result$dag\n",
    "\n",
    "# Plot it\n",
    "graphviz.plot(child.dag, shape = \"circle\")"
   ]
  },
  {
   "cell_type": "markdown",
   "id": "7f011767-0fc3-423f-b79e-b5a1565a3545",
   "metadata": {},
   "source": [
    "## Graphical Comparison"
   ]
  },
  {
   "cell_type": "code",
   "execution_count": 89,
   "id": "434a656e-8327-4d9a-bf9b-c502e5239b83",
   "metadata": {},
   "outputs": [],
   "source": [
    "learning.library.dag <- model2network(\"[A][C][F][B|A][D|A:C][E|B:F]\")\n",
    "asia.library.dag <- model2network(\"[Asia][Smoke][Tubercolosys|Asia][LungCancer|Smoke][Bronchitis|Smoke][Dyspnea|Bronchitis:Either][Either|Tubercolosys:LungCancer][X-ray|Either]\")\n",
    "child.model.string <- paste0(\n",
    "  \"[BirthAsphyxia][Disease|BirthAsphyxia][Sick|Disease][Age|Disease:Sick][DuctFlow|Disease]\",\n",
    "    \"[CardiacMixing|Disease][LungParench|Disease][LungFlow|Disease][LVH|Disease]\",\n",
    "    \"[Grunting|Sick:LungParench][HypDistrib|DuctFlow:CardiacMixing][HypoxiaInO2|CardiacMixing:LungParench][CO2|LungParench][ChestXray|LungParench:LungFlow][LVHReport|LVH]\",\n",
    "    \"[GruntingReport|Grunting][LowerBodyO2|HypDistrib:HypoxiaInO2][RUQO2|HypoxiaInO2][CO2Report|CO2][XrayReport|ChestXray]\")\n",
    "\n",
    "child.library.dag <- model2network(child.model.string)"
   ]
  },
  {
   "cell_type": "code",
   "execution_count": 90,
   "id": "2cbdd792-e22a-4367-9f0e-a210e261f83e",
   "metadata": {
    "scrolled": true
   },
   "outputs": [
    {
     "data": {
      "image/png": "[encoded data removed]",
      "text/plain": [
       "plot without title"
      ]
     },
     "metadata": {
      "image/png": {
       "height": 420,
       "width": 420
      }
     },
     "output_type": "display_data"
    }
   ],
   "source": [
    "graphviz.compare(learning.library.dag, learning.dag, shape = \"circle\")"
   ]
  },
  {
   "cell_type": "code",
   "execution_count": 91,
   "id": "db2b617a-1325-4547-84ef-f7fee0dd498f",
   "metadata": {
    "scrolled": true
   },
   "outputs": [
    {
     "data": {
      "image/png": "[encoded data removed]",
      "text/plain": [
       "plot without title"
      ]
     },
     "metadata": {
      "image/png": {
       "height": 420,
       "width": 420
      }
     },
     "output_type": "display_data"
    },
    {
     "data": {
      "image/png": "[encoded data removed]",
      "text/plain": [
       "plot without title"
      ]
     },
     "metadata": {
      "image/png": {
       "height": 420,
       "width": 420
      }
     },
     "output_type": "display_data"
    }
   ],
   "source": [
    "graphviz.compare(asia.library.dag, asia.dag, shape = \"circle\")"
   ]
  },
  {
   "cell_type": "code",
   "execution_count": 92,
   "id": "518248e3-857d-47ca-89e6-8ad06fd9b3a3",
   "metadata": {
    "scrolled": true
   },
   "outputs": [
    {
     "data": {
      "image/png": "[encoded data removed]",
      "text/plain": [
       "plot without title"
      ]
     },
     "metadata": {
      "image/png": {
       "height": 420,
       "width": 420
      }
     },
     "output_type": "display_data"
    },
    {
     "data": {
      "image/png": "[encoded data removed]",
      "text/plain": [
       "plot without title"
      ]
     },
     "metadata": {
      "image/png": {
       "height": 420,
       "width": 420
      }
     },
     "output_type": "display_data"
    }
   ],
   "source": [
    "graphviz.compare(child.library.dag, child.dag, shape = \"circle\")"
   ]
  },
  {
   "cell_type": "markdown",
   "id": "106ebf49-5001-4878-a8ee-644a76fa77d9",
   "metadata": {},
   "source": [
    "# Part 2: bnlearn library\n",
    "Implement and test the K2 algorithm with the test data sets ([3]). Compare the results with that obtained with the bnstruct R library [4]"
   ]
  },
  {
   "cell_type": "markdown",
   "id": "8c102758-cfc7-437f-a01c-0ff67a0ebb4a",
   "metadata": {},
   "source": [
    "## Useful function to implement to avoid repetition"
   ]
  },
  {
   "cell_type": "markdown",
   "id": "fda464ff-8e00-4ae7-9ff4-5a99e4e108c5",
   "metadata": {},
   "source": [
    "Here we need **BNDataset** as input for the `learn.network` function. This function comes from `bnstruct` package, which works with **BN** and **BNDataset** objects, meanwhile `bnlearn` works with **bn** objects.<br>So here it is a function to convert **data frames** $\\rightarrow$ **BNDataset**"
   ]
  },
  {
   "cell_type": "code",
   "execution_count": 150,
   "id": "7539db8b-1b30-4ebe-9512-4e62ed96d940",
   "metadata": {},
   "outputs": [],
   "source": [
    "# from data.frame to BNDataset\n",
    "df.to.BND <- function(dataframe) {\n",
    "    df_name <- deparse(substitute(dataframe))  # to retrieve the name as a string\n",
    "    new.BNDataset <- BNDataset(data = dataframe,\n",
    "                          discreteness = rep(\"d\", ncol(dataframe)),\n",
    "                          variables = colnames(dataframe),\n",
    "                          node.sizes = c(sapply(dataframe, function(col) length(unique(col)))),\n",
    "                          starts.from = 0,  # otherwise it starts from 1 to |x| that here is also 1\n",
    "                          bndataset.name = paste0(df_name, \".dataset\"))\n",
    "    return(new.BNDataset)\n",
    "}                   "
   ]
  },
  {
   "cell_type": "markdown",
   "id": "8af75efb-1a06-452a-bca4-f0bbaa4ab9fe",
   "metadata": {},
   "source": [
    "**PROBLEM**: `learn.network` returns an object of class **BN** which is not compatible with `graphviz.plot()` from `bnlearn` (which - again - takes in input **bn** objects), so i used `plot` instead.<br>The alternative solution is to convert from **BN** $\\rightarrow$ **bn** manually extracting the adjacency matrix or arc list and rebuild the structure with `bnlearn` $\\Rightarrow$ too much *sbatti*, i don't like it and for me doesn't deserve the *pena*."
   ]
  },
  {
   "cell_type": "code",
   "execution_count": 94,
   "id": "f9b5e82f-2604-4de6-adfb-54a8fa489bb6",
   "metadata": {},
   "outputs": [],
   "source": [
    "learn_network <- function(dataset, impute = FALSE, bootstrap = FALSE, algo=\"mmhc\", score.fun=\"BDeu\") {     #takes in input BNDataset\n",
    "    start <- Sys.time()\n",
    "    \n",
    "    if (impute) {\n",
    "        message(\"Imputing dataset\")\n",
    "        dataset <- impute(dataset)\n",
    "    }\n",
    "\n",
    "    raw <- raw.data(dataset)\n",
    "      \n",
    "    if (impute && bootstrap) {\n",
    "        message(\"Learning network imputing NA, then bootstrap.\")\n",
    "        net <- learn.network(dataset, \n",
    "                             use.imputed.data = TRUE,\n",
    "                             bootstrap = TRUE, \n",
    "                             algo = algo,\n",
    "                             score.fun = score.fun)\n",
    "    } else if (impute) {\n",
    "        message(\"Learning network using imputed data.\")\n",
    "        net <- learn.network(dataset, \n",
    "                             use.imputed.data = TRUE,\n",
    "                             algo = algo,\n",
    "                             score.fun = score.fun)\n",
    "    } else if (bootstrap) {\n",
    "        message(\"Learning network using bootstrap.\")\n",
    "        net <- learn.network(dataset, \n",
    "                             bootstrap = TRUE,\n",
    "                             algo = algo,\n",
    "                             score.fun = score.fun)\n",
    "    } else {\n",
    "        message(\"Learning network using default method.\")\n",
    "        net <- learn.network(dataset,\n",
    "                             algo = algo,\n",
    "                             score.fun = score.fun)\n",
    "    }\n",
    "    \n",
    "    # grafichino\n",
    "    # if we want to be sboroni we can save the fig and add it to the presentation ;)\n",
    "    #pdf(\"learned_network_plot.pdf\")\n",
    "    plot(net)\n",
    "    #dev.off()\n",
    "    end <- Sys.time()\n",
    "    execution_time <- difftime(time1 = end, time2 = start, units = \"secs\") \n",
    "    cat(\"\\nExecution Time:\", execution_time, \"s\")\n",
    "        \n",
    "    return(net)\n",
    "}"
   ]
  },
  {
   "cell_type": "markdown",
   "id": "a0aca50e-e203-4ea5-89e0-0dc8adf79de0",
   "metadata": {
    "jp-MarkdownHeadingCollapsed": true
   },
   "source": [
    "## Ruiz Dataset"
   ]
  },
  {
   "cell_type": "code",
   "execution_count": 166,
   "id": "b568147c-c417-45b7-b302-d32f9dca0856",
   "metadata": {},
   "outputs": [],
   "source": [
    "ruiz.dataset <- data.frame(x1 = c(1, 1, 0, 1, 0, 0, 1, 0, 1, 0),\n",
    "                          x2 = c(0, 1, 0, 1, 0, 1, 1, 0, 1, 0),\n",
    "                          x3 = c(0, 1, 1, 1, 0, 1, 1, 0, 1, 0)) |> df.to.BND()"
   ]
  },
  {
   "cell_type": "code",
   "execution_count": 167,
   "id": "861a0b94-8a95-418a-bc44-eeb254136d7d",
   "metadata": {
    "scrolled": true
   },
   "outputs": [
    {
     "name": "stderr",
     "output_type": "stream",
     "text": [
      "Learning network using default method.\n",
      "\n",
      "... bnstruct :: learning the structure using MMHC ...\n",
      "\n",
      "... bnstruct :: learning using MMHC completed.\n",
      "\n",
      "... bnstruct :: learning network parameters ... \n",
      "\n",
      "... bnstruct :: parameter learning done.\n",
      "\n"
     ]
    },
    {
     "name": "stdout",
     "output_type": "stream",
     "text": [
      "\n",
      "Execution Time: 0.125284 s"
     ]
    },
    {
     "data": {
      "image/png": "[encoded data removed]",
      "text/plain": [
       "plot without title"
      ]
     },
     "metadata": {
      "image/png": {
       "height": 420,
       "width": 420
      }
     },
     "output_type": "display_data"
    }
   ],
   "source": [
    "ruiz.net <- learn_network(dataset = ruiz.dataset)"
   ]
  },
  {
   "cell_type": "markdown",
   "id": "2443ac9b-43fa-4096-ad09-0020ce437f19",
   "metadata": {
    "jp-MarkdownHeadingCollapsed": true
   },
   "source": [
    "## learning.test Dataset"
   ]
  },
  {
   "cell_type": "code",
   "execution_count": 169,
   "id": "bacf362e-f696-42fe-98be-6b760e78cb89",
   "metadata": {},
   "outputs": [],
   "source": [
    "learning.dataset <- data.frame(lapply(learning.test, function(col) as.integer(as.factor(col)) - 1)) |> df.to.BND()"
   ]
  },
  {
   "cell_type": "code",
   "execution_count": 170,
   "id": "7083c439-18d6-4401-a25f-d3fb7a152394",
   "metadata": {},
   "outputs": [
    {
     "name": "stderr",
     "output_type": "stream",
     "text": [
      "Learning network using default method.\n",
      "\n",
      "... bnstruct :: learning the structure using MMHC ...\n",
      "\n",
      "... bnstruct :: learning using MMHC completed.\n",
      "\n",
      "... bnstruct :: learning network parameters ... \n",
      "\n",
      "... bnstruct :: parameter learning done.\n",
      "\n"
     ]
    },
    {
     "name": "stdout",
     "output_type": "stream",
     "text": [
      "\n",
      "Execution Time: 0.1769302 s"
     ]
    },
    {
     "data": {
      "image/png": "[encoded data removed]",
      "text/plain": [
       "plot without title"
      ]
     },
     "metadata": {
      "image/png": {
       "height": 420,
       "width": 420
      }
     },
     "output_type": "display_data"
    }
   ],
   "source": [
    "learning.net <- learn_network(dataset = learning.dataset)"
   ]
  },
  {
   "cell_type": "markdown",
   "id": "d721b571-6a01-4307-8e14-9757044bac9f",
   "metadata": {
    "jp-MarkdownHeadingCollapsed": true
   },
   "source": [
    "## Asia Dataset"
   ]
  },
  {
   "cell_type": "code",
   "execution_count": 161,
   "id": "0bea21cb-3461-445d-96f6-3f2dc2303077",
   "metadata": {},
   "outputs": [],
   "source": [
    "asia_data <- asia()"
   ]
  },
  {
   "cell_type": "code",
   "execution_count": 162,
   "id": "fd9eb431-6ef8-4444-9e81-88986347ad2c",
   "metadata": {},
   "outputs": [
    {
     "name": "stderr",
     "output_type": "stream",
     "text": [
      "Learning network using default method.\n",
      "\n",
      "... bnstruct :: learning the structure using MMHC ...\n",
      "\n",
      "... bnstruct :: learning using MMHC completed.\n",
      "\n",
      "... bnstruct :: learning network parameters ... \n",
      "\n",
      "... bnstruct :: parameter learning done.\n",
      "\n"
     ]
    },
    {
     "name": "stdout",
     "output_type": "stream",
     "text": [
      "\n",
      "Execution Time: 0.226985 s"
     ]
    },
    {
     "data": {
      "image/png": "[encoded data removed]",
      "text/plain": [
       "plot without title"
      ]
     },
     "metadata": {
      "image/png": {
       "height": 420,
       "width": 420
      }
     },
     "output_type": "display_data"
    }
   ],
   "source": [
    "asia_net <- learn_network(dataset = asia_data, impute = FALSE, bootstrap = FALSE)"
   ]
  },
  {
   "cell_type": "code",
   "execution_count": null,
   "id": "6424f7a2-d039-4a86-806d-22775bfad8a8",
   "metadata": {},
   "outputs": [],
   "source": [
    "asia_net <- learn_network(dataset = asia_data, impute = FALSE, bootstrap = TRUE)   # default value is num.boots = 100"
   ]
  },
  {
   "cell_type": "markdown",
   "id": "f4060856-dfee-4ea1-adf6-e565c286e3df",
   "metadata": {
    "jp-MarkdownHeadingCollapsed": true
   },
   "source": [
    "## Child Dataset"
   ]
  },
  {
   "cell_type": "code",
   "execution_count": null,
   "id": "59b11284-c42a-487e-ab53-0e7c1ae5c53d",
   "metadata": {},
   "outputs": [],
   "source": [
    "# occhio ci mette un po'\n",
    "child_data <- child()\n",
    "child_net <- learn_network(dataset = child_data, impute = FALSE, bootstrap = FALSE)"
   ]
  },
  {
   "cell_type": "code",
   "execution_count": null,
   "id": "9de1ad3a-0e6e-4ca4-a582-627603f71f65",
   "metadata": {},
   "outputs": [],
   "source": [
    "child_net <- learn_network(dataset = child_data, impute = TRUE, bootstrap = FALSE)"
   ]
  }
 ],
 "metadata": {
  "kernelspec": {
   "display_name": "R",
   "language": "R",
   "name": "ir"
  },
  "language_info": {
   "codemirror_mode": "r",
   "file_extension": ".r",
   "mimetype": "text/x-r-source",
   "name": "R",
   "pygments_lexer": "r",
   "version": "4.5.0"
  }
 },
 "nbformat": 4,
 "nbformat_minor": 5
}
